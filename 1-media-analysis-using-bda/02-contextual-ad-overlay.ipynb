{
 "cells": [
  {
   "cell_type": "markdown",
   "id": "259074a6-a277-4247-a8d1-faa44d0020bf",
   "metadata": {},
   "source": [
    "# Contextual ad overlays\n",
    "\n",
    "\n",
    "Contextual ad targeting is an advertising strategy that focuses on displaying ads based on the content and context where the ad will appear, rather than relying on user personal data or behavior.  This approach has gained renewed importance in the post-GDPR era as the digital advertising industry moves away from third-party cookies and personal data collection, making it an effective alternative to behavioral targeting while maintaining ad relevance and effectiveness.\n",
    "\n",
    "Amazon Bedrock Data Automation (BDA) provides features to help automate the process of contextual ad targeting for video content. With BDA, you can analyze the video's content to identify different scenes and generate contextual metadata for each scene. This metadata includes:\n",
    "\n",
    "* Classification of each scene using the IAB Content Taxonomy - The IAB Content Taxonomy is a standard used by advertisers to categorize content for automated ad placement through Ad Decision Servers.\n",
    "\n",
    "By leveraging the IAB Content Taxonomy, you can match advertisements to the contextual information of each video scene. This allows you to create more effective and relevant advertising experiences that are tailored to the video's content.  The image below is a screenshot of a sample video with ad overlays.\n",
    "\n",
    "![Example of an ad overlay](static/images/ad-overlay-example.png)\n",
    "\n"
   ]
  },
  {
   "cell_type": "markdown",
   "id": "bdf3fd90-483f-4db7-9a09-744d299ef88e",
   "metadata": {},
   "source": [
    "## Architecture\n",
    "\n",
    "This hands-on workflow uses AWS services from SageMaker.  You will use BDA to analyze a sample video to identify scenes in the video where ads can be placed that adhere to brand safety guidelines.  Then you will select the best ad for each opportunity by matching the IAB category for an ad to the IAB category for the scene.\n",
    "\n",
    "![Workflow diagram](static/images/ad-overlays.drawio.png)\n"
   ]
  },
  {
   "cell_type": "markdown",
   "id": "a87659b5-90c4-40a4-9c03-931d70ab8955",
   "metadata": {},
   "source": [
    "## Prerequisites"
   ]
  },
  {
   "cell_type": "markdown",
   "id": "3d70a327-cd57-4290-96f5-eb6b7ccc9b9d",
   "metadata": {},
   "source": [
    "### Retrieve saved values from previous notebooks\n",
    "\n",
    "To run this notebook, you need to have run the previous notebook: [00_prerequisites.ipynb](./00-prequisites.ipynb), where you installed package dependencies and gathered some information from the SageMaker environment."
   ]
  },
  {
   "cell_type": "code",
   "execution_count": 1,
   "id": "01472477-b71c-44bc-85f5-0e85acdadfcd",
   "metadata": {},
   "outputs": [
    {
     "name": "stdout",
     "output_type": "stream",
     "text": [
      "Unable to restore variable 'video', ignoring (use %store -d to forget!)\n",
      "The error was: <class 'KeyError'>\n"
     ]
    }
   ],
   "source": [
    "%store -r"
   ]
  },
  {
   "cell_type": "code",
   "execution_count": 2,
   "id": "ce4d7068",
   "metadata": {},
   "outputs": [
    {
     "name": "stdout",
     "output_type": "stream",
     "text": [
      "Stored variables and their in-db values:\n",
      "sagemaker_resources             -> {'role': None, 'region': 'us-west-2'}\n",
      "session                         -> {'bucket': 'workshop-workshopbucket-otczrfpjgb6p',\n",
      "video                           -> '<unavailable>'\n"
     ]
    }
   ],
   "source": [
    "%store"
   ]
  },
  {
   "cell_type": "code",
   "execution_count": 3,
   "id": "fbf31c6e-182c-4998-83ce-f60ed4f53b38",
   "metadata": {
    "scrolled": true
   },
   "outputs": [
    {
     "name": "stdout",
     "output_type": "stream",
     "text": [
      "Note: you may need to restart the kernel to use updated packages.\n",
      "Looking in indexes: https://pypi.org/simple, https://plugin.us-east-1.prod.workshops.aws\n",
      "Requirement already satisfied: moviepy in /Users/jingswu/Desktop/code-lab/media-analysis-with-generative-ai-on-aws/.venv/lib/python3.13/site-packages (1.0.3)\n",
      "Requirement already satisfied: decorator<5.0,>=4.0.2 in /Users/jingswu/Desktop/code-lab/media-analysis-with-generative-ai-on-aws/.venv/lib/python3.13/site-packages (from moviepy) (4.4.2)\n",
      "Requirement already satisfied: imageio<3.0,>=2.5 in /Users/jingswu/Desktop/code-lab/media-analysis-with-generative-ai-on-aws/.venv/lib/python3.13/site-packages (from moviepy) (2.37.0)\n",
      "Requirement already satisfied: imageio_ffmpeg>=0.2.0 in /Users/jingswu/Desktop/code-lab/media-analysis-with-generative-ai-on-aws/.venv/lib/python3.13/site-packages (from moviepy) (0.5.1)\n",
      "Requirement already satisfied: tqdm<5.0,>=4.11.2 in /Users/jingswu/Desktop/code-lab/media-analysis-with-generative-ai-on-aws/.venv/lib/python3.13/site-packages (from moviepy) (4.67.1)\n",
      "Requirement already satisfied: numpy>=1.17.3 in /Users/jingswu/Desktop/code-lab/media-analysis-with-generative-ai-on-aws/.venv/lib/python3.13/site-packages (from moviepy) (1.26.4)\n",
      "Requirement already satisfied: requests<3.0,>=2.8.1 in /Users/jingswu/Desktop/code-lab/media-analysis-with-generative-ai-on-aws/.venv/lib/python3.13/site-packages (from moviepy) (2.32.3)\n",
      "Requirement already satisfied: proglog<=1.0.0 in /Users/jingswu/Desktop/code-lab/media-analysis-with-generative-ai-on-aws/.venv/lib/python3.13/site-packages (from moviepy) (0.1.12)\n",
      "Requirement already satisfied: pillow>=8.3.2 in /Users/jingswu/Desktop/code-lab/media-analysis-with-generative-ai-on-aws/.venv/lib/python3.13/site-packages (from imageio<3.0,>=2.5->moviepy) (11.2.1)\n",
      "Requirement already satisfied: charset-normalizer<4,>=2 in /Users/jingswu/Desktop/code-lab/media-analysis-with-generative-ai-on-aws/.venv/lib/python3.13/site-packages (from requests<3.0,>=2.8.1->moviepy) (3.4.2)\n",
      "Requirement already satisfied: idna<4,>=2.5 in /Users/jingswu/Desktop/code-lab/media-analysis-with-generative-ai-on-aws/.venv/lib/python3.13/site-packages (from requests<3.0,>=2.8.1->moviepy) (3.10)\n",
      "Requirement already satisfied: urllib3<3,>=1.21.1 in /Users/jingswu/Desktop/code-lab/media-analysis-with-generative-ai-on-aws/.venv/lib/python3.13/site-packages (from requests<3.0,>=2.8.1->moviepy) (2.4.0)\n",
      "Requirement already satisfied: certifi>=2017.4.17 in /Users/jingswu/Desktop/code-lab/media-analysis-with-generative-ai-on-aws/.venv/lib/python3.13/site-packages (from requests<3.0,>=2.8.1->moviepy) (2025.4.26)\n",
      "Requirement already satisfied: setuptools in /Users/jingswu/Desktop/code-lab/media-analysis-with-generative-ai-on-aws/.venv/lib/python3.13/site-packages (from imageio_ffmpeg>=0.2.0->moviepy) (80.9.0)\n",
      "Note: you may need to restart the kernel to use updated packages.\n"
     ]
    }
   ],
   "source": [
    "%pip install itables==2.2.4 PyPDF2==3.0.1 --upgrade -qq\n",
    "%pip install moviepy"
   ]
  },
  {
   "cell_type": "code",
   "execution_count": 4,
   "id": "dadc3186-7df3-4e5f-ae7d-2522ce275209",
   "metadata": {
    "scrolled": true
   },
   "outputs": [],
   "source": [
    "data_bucket = session[\"bucket\"]\n",
    "region = sagemaker_resources[\"region\"]\n",
    "data_prefix = \"bda/video\"\n",
    "output_prefix = \"bda/video/ouput\""
   ]
  },
  {
   "cell_type": "code",
   "execution_count": 5,
   "id": "b94080f3-7a23-4b04-898d-57be31c638a4",
   "metadata": {
    "editable": true,
    "slideshow": {
     "slide_type": ""
    },
    "tags": []
   },
   "outputs": [],
   "source": [
    "import boto3\n",
    "import json\n",
    "import uuid\n",
    "import utils\n",
    "from IPython.display import Video, Image, display\n",
    "\n",
    "bda_client = boto3.client('bedrock-data-automation')\n",
    "bda_runtime_client = boto3.client('bedrock-data-automation-runtime')\n",
    "s3_client = boto3.client('s3')\n",
    "\n",
    "#access account id\n",
    "sts_client = boto3.client('sts')\n",
    "account_id = sts_client.get_caller_identity()[\"Account\"]\n",
    "\n",
    "default_profile_arn = f\"arn:aws:bedrock:{region}:{account_id}:data-automation-profile/us.data-automation-v1\""
   ]
  },
  {
   "cell_type": "markdown",
   "id": "aa554a34-ae81-4802-9ca5-b4a40e759f7e",
   "metadata": {
    "execution": {
     "iopub.execute_input": "2025-01-21T00:31:53.506949Z",
     "iopub.status.busy": "2025-01-21T00:31:53.506589Z",
     "iopub.status.idle": "2025-01-21T00:31:53.513035Z",
     "shell.execute_reply": "2025-01-21T00:31:53.511550Z",
     "shell.execute_reply.started": "2025-01-21T00:31:53.506925Z"
    }
   },
   "source": [
    "## Create a BDA project\n",
    "To start a BDA job, you need a BDA project, which organizes both standard and custom output configurations. This project is reusable, allowing you to apply the same configuration to process multiple videos that share the same settings."
   ]
  },
  {
   "cell_type": "markdown",
   "id": "431eeea0-12c1-4cd7-8e40-f8c3d8b3f8be",
   "metadata": {},
   "source": [
    "In the code snippet below, we create a BDA project with standard output configurations for video modality. These configurations can be tailored to extract only the specific information you need. In this lab, we will enable the below video outputs:\n",
    "- Scene summary\n",
    "- Content moderation (visual and audio)\n",
    "- IAB taxonomy classification of scenes\n",
    "\n",
    "For a complete API reference for creating a BDA project, refer to this [document](https://boto3.amazonaws.com/v1/documentation/api/latest/reference/services/bedrock-data-automation/client/create_data_automation_project.html)."
   ]
  },
  {
   "cell_type": "code",
   "execution_count": 6,
   "id": "4f2510f5-f4f2-4fdd-ac96-4d9edbeeba42",
   "metadata": {},
   "outputs": [],
   "source": [
    "response = bda_client.create_data_automation_project(\n",
    "    projectName=f'bda-workshop-video-project-moderation-{str(uuid.uuid4())[0:4]}',\n",
    "    projectDescription='BDA workshop video sample project - content moderation',\n",
    "    projectStage='DEVELOPMENT',\n",
    "    standardOutputConfiguration={\n",
    "        'video': {\n",
    "            'extraction': {\n",
    "                'category': {\n",
    "                    'state': 'ENABLED',\n",
    "                    'types': ['CONTENT_MODERATION', 'TRANSCRIPT']\n",
    "                },\n",
    "                'boundingBox': {\n",
    "                    'state': 'DISABLED'\n",
    "                }\n",
    "            },\n",
    "            'generativeField': {\n",
    "                'state': 'ENABLED',\n",
    "                'types': [\n",
    "                    'CHAPTER_SUMMARY', 'IAB'\n",
    "                ]\n",
    "            }\n",
    "        }\n",
    "    }\n",
    ")"
   ]
  },
  {
   "cell_type": "markdown",
   "id": "6c1dfd78-a072-4375-b970-d2650909f0de",
   "metadata": {},
   "source": [
    "The `create_data_automation_project` API will return the project ARN, which we will use it to invoke the video analysis task."
   ]
  },
  {
   "cell_type": "code",
   "execution_count": 7,
   "id": "e824ab6c-5249-4364-927c-c5def65a32a8",
   "metadata": {},
   "outputs": [
    {
     "name": "stdout",
     "output_type": "stream",
     "text": [
      "BDA video project ARN: arn:aws:bedrock:us-west-2:241533163649:data-automation-project/e2ccb98e3b09\n"
     ]
    }
   ],
   "source": [
    "video_project_arn = response.get(\"projectArn\")\n",
    "print(\"BDA video project ARN:\", video_project_arn)"
   ]
  },
  {
   "cell_type": "markdown",
   "id": "b9b81791-e597-457f-a375-265bc0711525",
   "metadata": {},
   "source": [
    "## Start an asynchronous BDA task to extract and analyze a video\n",
    "In this section, we will use a sample video contains unsafe content, and extract and analyze it using BDA, applying the configuration defined in the BDA project. "
   ]
  },
  {
   "cell_type": "markdown",
   "id": "c6fd5d08-0be9-495e-bdc3-27e2b68c0e55",
   "metadata": {
    "execution": {
     "iopub.execute_input": "2025-01-21T01:16:19.221297Z",
     "iopub.status.busy": "2025-01-21T01:16:19.220673Z",
     "iopub.status.idle": "2025-01-21T01:16:19.225680Z",
     "shell.execute_reply": "2025-01-21T01:16:19.224891Z",
     "shell.execute_reply.started": "2025-01-21T01:16:19.221270Z"
    }
   },
   "source": [
    "### Prepare the sample video"
   ]
  },
  {
   "cell_type": "code",
   "execution_count": 8,
   "id": "5bad7889-a3a7-4c82-9766-eb5ecb94acf8",
   "metadata": {},
   "outputs": [
    {
     "name": "stdout",
     "output_type": "stream",
     "text": [
      "  % Total    % Received % Xferd  Average Speed   Time    Time     Time  Current\n",
      "                                 Dload  Upload   Total   Spent    Left  Speed\n",
      "100 47.1M  100 47.1M    0     0  2276k      0  0:00:21  0:00:21 --:--:-- 4353k\n"
     ]
    }
   ],
   "source": [
    "sample_video_path = './NetflixMeridian.mp4'\n",
    "url = \"https://ws-assets-prod-iad-r-pdx-f3b3f9f1a7d6a3d0.s3.us-west-2.amazonaws.com/7db2455e-0fa6-4f6d-9973-84daccd6421f/Netflix_Open_Content_Meridian.mp4\"\n",
    "!curl {url} --output NetflixMeridian.mp4"
   ]
  },
  {
   "cell_type": "markdown",
   "id": "462b8628-c692-4385-9725-48c4ea3b70cc",
   "metadata": {},
   "source": [
    "Let's display the video. "
   ]
  },
  {
   "cell_type": "code",
   "execution_count": 9,
   "id": "9dd61670-4a65-471a-a75b-14525d923af2",
   "metadata": {},
   "outputs": [
    {
     "data": {
      "text/html": [
       "<video src=\"./NetflixMeridian.mp4\" controls  width=\"800\" >\n",
       "      Your browser does not support the <code>video</code> element.\n",
       "    </video>"
      ],
      "text/plain": [
       "<IPython.core.display.Video object>"
      ]
     },
     "execution_count": 9,
     "metadata": {},
     "output_type": "execute_result"
    }
   ],
   "source": [
    "from IPython.display import Video\n",
    "Video(sample_video_path, width=800)"
   ]
  },
  {
   "cell_type": "markdown",
   "id": "591cf849-11ec-4c37-a3dc-e1bb5c51c92e",
   "metadata": {},
   "source": [
    "To analyze the video using BDA, we need to upload it to an S3 bucket that BDA can access. "
   ]
  },
  {
   "cell_type": "code",
   "execution_count": 10,
   "id": "9717c142-df4d-4d34-8a98-8f36a5671fe3",
   "metadata": {},
   "outputs": [],
   "source": [
    "s3_key = f'{data_prefix}/{sample_video_path.split(\"/\")[-1]}'\n",
    "s3_client.upload_file(sample_video_path, data_bucket, s3_key)"
   ]
  },
  {
   "cell_type": "markdown",
   "id": "c40b33c9-a23c-4dd3-8f66-22d169e598b7",
   "metadata": {},
   "source": [
    "### Start BDA task\n",
    "We will now invoke the BDA API to process the uploaded video. You need to provide the BDA project ARN that we created at the beginning of the lab and specify an S3 location where BDA will store the output results.\n",
    "\n",
    "For a complete API reference for invoke a BDA async task, refer to this [document](https://boto3.amazonaws.com/v1/documentation/api/latest/reference/services/bedrock-data-automation-runtime/client/invoke_data_automation_async.html)."
   ]
  },
  {
   "cell_type": "code",
   "execution_count": 11,
   "id": "681293ae-0023-4eac-9970-af61ec934e17",
   "metadata": {},
   "outputs": [],
   "source": [
    "response = bda_runtime_client.invoke_data_automation_async(\n",
    "    inputConfiguration={\n",
    "        's3Uri': f's3://{data_bucket}/{s3_key}'\n",
    "    },\n",
    "    outputConfiguration={\n",
    "        's3Uri': f's3://{data_bucket}/{output_prefix}'\n",
    "    },\n",
    "    dataAutomationConfiguration={\n",
    "        'dataAutomationProjectArn': video_project_arn,\n",
    "        'stage': 'DEVELOPMENT'\n",
    "    },\n",
    "    notificationConfiguration={\n",
    "        'eventBridgeConfiguration': {\n",
    "            'eventBridgeEnabled': False\n",
    "        }\n",
    "    },\n",
    "    dataAutomationProfileArn=default_profile_arn\n",
    ")"
   ]
  },
  {
   "cell_type": "markdown",
   "id": "12c8b65a-1e4e-4dc1-b011-254e7d1cc941",
   "metadata": {},
   "source": [
    "The `invoke_data_automation_async` API is asynchronous. It returns an invocation task identifier, `invocationArn`. We can then use another API `get_data_automation_status` to monitor the task's status until it completes.\n",
    "\n",
    "> In production workloads, an event-driven pattern is recommended. Allow BDA to trigger the next step once the task is complete. This can be achieved by configuring the notificationConfiguration in the invoke task, which will send a notification to a subscribed AWS service, such as a Lambda function. Alternatively, you can set up an S3 trigger on the bucket where BDA will drop the results."
   ]
  },
  {
   "cell_type": "code",
   "execution_count": 12,
   "id": "61061730-ded4-4852-bbf4-d18ab1168c9b",
   "metadata": {},
   "outputs": [
    {
     "name": "stdout",
     "output_type": "stream",
     "text": [
      "BDA task started: arn:aws:bedrock:us-west-2:241533163649:data-automation-invocation/38c3476d-09bc-42b6-a425-4e59bcc2f379\n"
     ]
    }
   ],
   "source": [
    "invocation_arn = response.get(\"invocationArn\")\n",
    "print(\"BDA task started:\", invocation_arn)"
   ]
  },
  {
   "cell_type": "markdown",
   "id": "d13518bf-15eb-4e83-bc4b-955b66974457",
   "metadata": {},
   "source": [
    "In this lab, we will use the loop below to monitor the task by calling the `get_data_automation_status` API every 5 seconds until the task is complete.\n",
    "\n",
    "This video will take less than 5 minutes to process."
   ]
  },
  {
   "cell_type": "code",
   "execution_count": 13,
   "id": "7cb9c48c-9347-43ba-8148-1ea9c29479fb",
   "metadata": {},
   "outputs": [
    {
     "name": "stdout",
     "output_type": "stream",
     "text": [
      "22:18:37 : BDA video task: Success\n",
      "Ouput configuration file: s3://workshop-workshopbucket-otczrfpjgb6p/bda/video/ouput/38c3476d-09bc-42b6-a425-4e59bcc2f379/job_metadata.json\n"
     ]
    }
   ],
   "source": [
    "import time\n",
    "from IPython.display import clear_output\n",
    "from datetime import datetime\n",
    "\n",
    "status, status_response = None, None\n",
    "while status not in [\"Success\",\"ServiceError\",\"ClientError\"]:\n",
    "    status_response = bda_runtime_client.get_data_automation_status(\n",
    "        invocationArn=invocation_arn\n",
    "    )\n",
    "    status = status_response.get(\"status\")\n",
    "    clear_output(wait=True)\n",
    "    print(f\"{datetime.now().strftime('%H:%M:%S')} : BDA video task: {status}\")\n",
    "    time.sleep(5)\n",
    "\n",
    "output_config = status_response.get(\"outputConfiguration\",{}).get(\"s3Uri\")\n",
    "print(\"Ouput configuration file:\", output_config)"
   ]
  },
  {
   "cell_type": "markdown",
   "id": "58c617c2-3a71-43dd-b996-d7b9a4d86f08",
   "metadata": {},
   "source": [
    "## Access the BDA analysis result\n",
    "The `get_data_automation_status` API returns an S3 URI containing the result configuration, which provides the S3 location where BDA outputs the extraction results. We will then parse this file to retrieve the result path."
   ]
  },
  {
   "cell_type": "code",
   "execution_count": 14,
   "id": "36e1adb7-1620-491f-adb1-b616451d62be",
   "metadata": {
    "scrolled": true
   },
   "outputs": [
    {
     "name": "stdout",
     "output_type": "stream",
     "text": [
      "{\n",
      "    \"job_id\": \"38c3476d-09bc-42b6-a425-4e59bcc2f379\",\n",
      "    \"job_status\": \"PROCESSED\",\n",
      "    \"semantic_modality\": \"VIDEO\",\n",
      "    \"output_metadata\": [\n",
      "        {\n",
      "            \"asset_id\": 0,\n",
      "            \"asset_input_path\": {\n",
      "                \"s3_bucket\": \"workshop-workshopbucket-otczrfpjgb6p\",\n",
      "                \"s3_key\": \"bda/video/NetflixMeridian.mp4\"\n",
      "            },\n",
      "            \"segment_metadata\": [\n",
      "                {\n",
      "                    \"standard_output_path\": \"s3://workshop-workshopbucket-otczrfpjgb6p/bda/video/ouput/38c3476d-09bc-42b6-a425-4e59bcc2f379/0/standard_output/0/result.json\"\n",
      "                }\n",
      "            ]\n",
      "        }\n",
      "    ]\n",
      "}\n"
     ]
    }
   ],
   "source": [
    "config_data = utils.read_json_on_s3(output_config,s3_client)\n",
    "print(json.dumps(config_data, indent=4))"
   ]
  },
  {
   "cell_type": "markdown",
   "id": "08dc0557-b53d-4dc4-ae1c-05de559093e7",
   "metadata": {
    "scrolled": true
   },
   "source": [
    "As shown above, the BDA output configuration file contains metadata about the BDA result, including the job ID, status, modality, and the S3 location of the actual result JSON. We will now download this result file to verify the output."
   ]
  },
  {
   "cell_type": "code",
   "execution_count": 15,
   "id": "dc93edb4-e459-4c00-aeb6-31577240aabe",
   "metadata": {},
   "outputs": [
    {
     "data": {
      "application/json": {
       "chapters": [
        {
         "audio_segments": [],
         "chapter_index": 0,
         "content_moderation": [],
         "duration_frames": 30,
         "duration_millis": 1001,
         "duration_smpte": "00:00:01;01",
         "end_frame_index": 29,
         "end_timecode_smpte": "00:00:01;00",
         "end_timestamp_millis": 1001,
         "frames": [
          {
           "content_moderation": [],
           "frame_index": 0,
           "logos": [],
           "text_lines": [],
           "text_words": [],
           "timecode_smpte": "00:00:00;00",
           "timestamp_millis": 0
          },
          {
           "content_moderation": [],
           "frame_index": 15,
           "logos": [],
           "text_lines": [],
           "text_words": [],
           "timecode_smpte": "00:00:00;16",
           "timestamp_millis": 501
          },
          {
           "content_moderation": [],
           "frame_index": 30,
           "logos": [],
           "text_lines": [],
           "text_words": [],
           "timecode_smpte": "00:00:01;00",
           "timestamp_millis": 1001
          }
         ],
         "iab_categories": [
          {
           "category": "Automotive",
           "confidence": 0.97,
           "id": "0",
           "parent_id": null,
           "parent_name": null,
           "taxonomy_level": 1,
           "type": "IAB"
          },
          {
           "category": "Auto Type",
           "confidence": 0.97,
           "id": "1",
           "parent_id": null,
           "parent_name": "Automotive",
           "taxonomy_level": 2,
           "type": "IAB"
          },
          {
           "category": "Style and Fashion",
           "confidence": 0.785,
           "id": "2",
           "parent_id": null,
           "parent_name": null,
           "taxonomy_level": 1,
           "type": "IAB"
          },
          {
           "category": "Street Style",
           "confidence": 0.785,
           "id": "3",
           "parent_id": null,
           "parent_name": "Style and Fashion",
           "taxonomy_level": 2,
           "type": "IAB"
          },
          {
           "category": "Attractions",
           "confidence": 0.749,
           "id": "4",
           "parent_id": null,
           "parent_name": null,
           "taxonomy_level": 1,
           "type": "IAB"
          },
          {
           "category": "Malls and Shopping Centers",
           "confidence": 0.749,
           "id": "5",
           "parent_id": null,
           "parent_name": "Attractions",
           "taxonomy_level": 2,
           "type": "IAB"
          }
         ],
         "segment_index": null,
         "shot_indices": [
          0
         ],
         "start_frame_index": 0,
         "start_timecode_smpte": "00:00:00;00",
         "start_timestamp_millis": 0,
         "sub_chapter_index": null,
         "summary": "The video shows a transition from a black screen to a vintage color photograph of a downtown commercial district. The scene depicts a wide street with multiple lanes of traffic, including cars and a trolley. Buildings with commercial signs line both sides of the street. Pedestrians walk along the sidewalks, and storefronts with awnings are visible. The image captures a mid-20th century American city street with a mix of architectural styles and commercial activity.",
         "transcript": {
          "representation": {
           "text": ""
          }
         }
        },
        {
         "audio_segments": [],
         "chapter_index": 1,
         "content_moderation": [],
         "duration_frames": 439,
         "duration_millis": 14648,
         "duration_smpte": "00:00:14;20",
         "end_frame_index": 468,
         "end_timecode_smpte": "00:00:15;19",
         "end_timestamp_millis": 15649,
         "frames": [
          {
           "content_moderation": [],
           "frame_index": 60,
           "logos": [],
           "text_lines": [],
           "text_words": [],
           "timecode_smpte": "00:00:02;00",
           "timestamp_millis": 2002
          },
          {
           "content_moderation": [],
           "frame_index": 90,
           "logos": [],
           "text_lines": [],
           "text_words": [],
           "timecode_smpte": "00:00:03;00",
           "timestamp_millis": 3003
          },
          {
           "content_moderation": [],
           "frame_index": 120,
           "logos": [],
           "text_lines": [],
           "text_words": [],
           "timecode_smpte": "00:00:04;00",
           "timestamp_millis": 4004
          },
          {
           "content_moderation": [],
           "frame_index": 195,
           "logos": [],
           "text_lines": [],
           "text_words": [],
           "timecode_smpte": "00:00:06;16",
           "timestamp_millis": 6507
          },
          {
           "content_moderation": [],
           "frame_index": 240,
           "logos": [],
           "text_lines": [],
           "text_words": [],
           "timecode_smpte": "00:00:08;00",
           "timestamp_millis": 8008
          },
          {
           "content_moderation": [],
           "frame_index": 300,
           "logos": [],
           "text_lines": [],
           "text_words": [],
           "timecode_smpte": "00:00:10;00",
           "timestamp_millis": 10010
          },
          {
           "content_moderation": [],
           "frame_index": 315,
           "logos": [],
           "text_lines": [],
           "text_words": [],
           "timecode_smpte": "00:00:10;16",
           "timestamp_millis": 10511
          },
          {
           "content_moderation": [],
           "frame_index": 345,
           "logos": [],
           "text_lines": [],
           "text_words": [],
           "timecode_smpte": "00:00:11;16",
           "timestamp_millis": 11512
          },
          {
           "content_moderation": [],
           "frame_index": 360,
           "logos": [],
           "text_lines": [],
           "text_words": [],
           "timecode_smpte": "00:00:12;00",
           "timestamp_millis": 12012
          },
          {
           "content_moderation": [],
           "frame_index": 375,
           "logos": [],
           "text_lines": [],
           "text_words": [],
           "timecode_smpte": "00:00:12;16",
           "timestamp_millis": 12513
          },
          {
           "content_moderation": [],
           "frame_index": 420,
           "logos": [],
           "text_lines": [],
           "text_words": [],
           "timecode_smpte": "00:00:14;00",
           "timestamp_millis": 14014
          },
          {
           "content_moderation": [],
           "frame_index": 450,
           "logos": [],
           "text_lines": [],
           "text_words": [],
           "timecode_smpte": "00:00:15;00",
           "timestamp_millis": 15015
          }
         ],
         "iab_categories": [
          {
           "category": "Automotive",
           "confidence": 0.97900003,
           "id": "0",
           "parent_id": null,
           "parent_name": null,
           "taxonomy_level": 1,
           "type": "IAB"
          },
          {
           "category": "Auto Type",
           "confidence": 0.97900003,
           "id": "1",
           "parent_id": null,
           "parent_name": "Automotive",
           "taxonomy_level": 2,
           "type": "IAB"
          },
          {
           "category": "Style and Fashion",
           "confidence": 0.85300004,
           "id": "2",
           "parent_id": null,
           "parent_name": null,
           "taxonomy_level": 1,
           "type": "IAB"
          },
          {
           "category": "Street Style",
           "confidence": 0.85300004,
           "id": "3",
           "parent_id": null,
           "parent_name": "Style and Fashion",
           "taxonomy_level": 2,
           "type": "IAB"
          },
          {
           "category": "Travel",
           "confidence": 0.74,
           "id": "4",
           "parent_id": null,
           "parent_name": null,
           "taxonomy_level": 1,
           "type": "IAB"
          },
          {
           "category": "Travel Type",
           "confidence": 0.74,
           "id": "5",
           "parent_id": null,
           "parent_name": "Travel",
           "taxonomy_level": 2,
           "type": "IAB"
          },
          {
           "category": "Attractions",
           "confidence": 0.727,
           "id": "6",
           "parent_id": null,
           "parent_name": null,
           "taxonomy_level": 1,
           "type": "IAB"
          },
          {
           "category": "Outdoor Activities",
           "confidence": 0.727,
           "id": "7",
           "parent_id": null,
           "parent_name": "Attractions",
           "taxonomy_level": 2,
           "type": "IAB"
          },
          {
           "category": "Attractions",
           "confidence": 0.667,
           "id": "8",
           "parent_id": null,
           "parent_name": null,
           "taxonomy_level": 1,
           "type": "IAB"
          },
          {
           "category": "Historic Site and Landmark Tours",
           "confidence": 0.667,
           "id": "9",
           "parent_id": null,
           "parent_name": "Attractions",
           "taxonomy_level": 2,
           "type": "IAB"
          },
          {
           "category": "Attractions",
           "confidence": 0.64199996,
           "id": "10",
           "parent_id": null,
           "parent_name": null,
           "taxonomy_level": 1,
           "type": "IAB"
          },
          {
           "category": "Malls and Shopping Centers",
           "confidence": 0.64199996,
           "id": "11",
           "parent_id": null,
           "parent_name": "Attractions",
           "taxonomy_level": 2,
           "type": "IAB"
          },
          {
           "category": "Attractions",
           "confidence": 0.6,
           "id": "12",
           "parent_id": null,
           "parent_name": null,
           "taxonomy_level": 1,
           "type": "IAB"
          },
          {
           "category": "Bars and Restaurants",
           "confidence": 0.6,
           "id": "13",
           "parent_id": null,
           "parent_name": "Attractions",
           "taxonomy_level": 2,
           "type": "IAB"
          }
         ],
         "segment_index": null,
         "shot_indices": [
          1,
          2,
          3,
          4
         ],
         "start_frame_index": 30,
         "start_timecode_smpte": "00:00:01;00",
         "start_timestamp_millis": 1001,
         "sub_chapter_index": null,
         "summary": "The video shows Los Angeles in 1947, with a panoramic view of a downtown street. The scene captures the city's commercial district with multiple buildings, storefronts, and pedestrians. Cars and buses move through the streets, with a red streetcar visible. The camera moves closer to Hollywood Boulevard, showing the Hollywood sign and the iconic Warners building. The scene then focuses on the Hollywood Hotel, with its distinctive sign and brick facade. The street is filled with pedestrians and vehicles, including a white bus. The footage presents a complete view of mid-20th century Los Angeles, showing the city's commercial activity and the intersection of Hollywood and downtown areas.",
         "transcript": {
          "representation": {
           "text": ""
          }
         }
        },
        {
         "audio_segments": [],
         "chapter_index": 2,
         "content_moderation": [],
         "duration_frames": 135,
         "duration_millis": 4504,
         "duration_smpte": "00:00:04;14",
         "end_frame_index": 603,
         "end_timecode_smpte": "00:00:20;03",
         "end_timestamp_millis": 20153,
         "frames": [
          {
           "content_moderation": [],
           "frame_index": 480,
           "logos": [],
           "text_lines": [],
           "text_words": [],
           "timecode_smpte": "00:00:16;00",
           "timestamp_millis": 16016
          },
          {
           "content_moderation": [],
           "frame_index": 495,
           "logos": [],
           "text_lines": [],
           "text_words": [],
           "timecode_smpte": "00:00:16;16",
           "timestamp_millis": 16517
          },
          {
           "content_moderation": [],
           "frame_index": 509,
           "logos": [],
           "text_lines": [],
           "text_words": [],
           "timecode_smpte": "00:00:17;00",
           "timestamp_millis": 17017
          },
          {
           "content_moderation": [],
           "frame_index": 524,
           "logos": [],
           "text_lines": [],
           "text_words": [],
           "timecode_smpte": "00:00:17;16",
           "timestamp_millis": 17518
          },
          {
           "content_moderation": [],
           "frame_index": 539,
           "logos": [],
           "text_lines": [],
           "text_words": [],
           "timecode_smpte": "00:00:18;00",
           "timestamp_millis": 18018
          },
          {
           "content_moderation": [],
           "frame_index": 554,
           "logos": [],
           "text_lines": [],
           "text_words": [],
           "timecode_smpte": "00:00:18;16",
           "timestamp_millis": 18519
          },
          {
           "content_moderation": [],
           "frame_index": 569,
           "logos": [],
           "text_lines": [],
           "text_words": [],
           "timecode_smpte": "00:00:19;00",
           "timestamp_millis": 19019
          },
          {
           "content_moderation": [],
           "frame_index": 584,
           "logos": [],
           "text_lines": [],
           "text_words": [],
           "timecode_smpte": "00:00:19;16",
           "timestamp_millis": 19520
          },
          {
           "content_moderation": [],
           "frame_index": 599,
           "logos": [],
           "text_lines": [],
           "text_words": [],
           "timecode_smpte": "00:00:20;00",
           "timestamp_millis": 20020
          }
         ],
         "iab_categories": [
          {
           "category": "Attractions",
           "confidence": 0.992,
           "id": "0",
           "parent_id": null,
           "parent_name": null,
           "taxonomy_level": 1,
           "type": "IAB"
          },
          {
           "category": "Outdoor Activities",
           "confidence": 0.992,
           "id": "1",
           "parent_id": null,
           "parent_name": "Attractions",
           "taxonomy_level": 2,
           "type": "IAB"
          },
          {
           "category": "Attractions",
           "confidence": 0.97900003,
           "id": "2",
           "parent_id": null,
           "parent_name": null,
           "taxonomy_level": 1,
           "type": "IAB"
          },
          {
           "category": "Theater Venues",
           "confidence": 0.97900003,
           "id": "3",
           "parent_id": null,
           "parent_name": "Attractions",
           "taxonomy_level": 2,
           "type": "IAB"
          },
          {
           "category": "Automotive",
           "confidence": 0.976,
           "id": "4",
           "parent_id": null,
           "parent_name": null,
           "taxonomy_level": 1,
           "type": "IAB"
          },
          {
           "category": "Auto Type",
           "confidence": 0.976,
           "id": "5",
           "parent_id": null,
           "parent_name": "Automotive",
           "taxonomy_level": 2,
           "type": "IAB"
          },
          {
           "category": "Fine Art",
           "confidence": 0.97400004,
           "id": "6",
           "parent_id": null,
           "parent_name": null,
           "taxonomy_level": 1,
           "type": "IAB"
          },
          {
           "category": "Theater",
           "confidence": 0.97400004,
           "id": "7",
           "parent_id": null,
           "parent_name": "Fine Art",
           "taxonomy_level": 2,
           "type": "IAB"
          },
          {
           "category": "Style and Fashion",
           "confidence": 0.94,
           "id": "8",
           "parent_id": null,
           "parent_name": null,
           "taxonomy_level": 1,
           "type": "IAB"
          },
          {
           "category": "Street Style",
           "confidence": 0.94,
           "id": "9",
           "parent_id": null,
           "parent_name": "Style and Fashion",
           "taxonomy_level": 2,
           "type": "IAB"
          },
          {
           "category": "Attractions",
           "confidence": 0.91300005,
           "id": "10",
           "parent_id": null,
           "parent_name": null,
           "taxonomy_level": 1,
           "type": "IAB"
          },
          {
           "category": "Bars and Restaurants",
           "confidence": 0.91300005,
           "id": "11",
           "parent_id": null,
           "parent_name": "Attractions",
           "taxonomy_level": 2,
           "type": "IAB"
          },
          {
           "category": "Attractions",
           "confidence": 0.898,
           "id": "12",
           "parent_id": null,
           "parent_name": null,
           "taxonomy_level": 1,
           "type": "IAB"
          },
          {
           "category": "Historic Site and Landmark Tours",
           "confidence": 0.898,
           "id": "13",
           "parent_id": null,
           "parent_name": "Attractions",
           "taxonomy_level": 2,
           "type": "IAB"
          },
          {
           "category": "Attractions",
           "confidence": 0.78,
           "id": "14",
           "parent_id": null,
           "parent_name": null,
           "taxonomy_level": 1,
           "type": "IAB"
          },
          {
           "category": "Malls and Shopping Centers",
           "confidence": 0.78,
           "id": "15",
           "parent_id": null,
           "parent_name": "Attractions",
           "taxonomy_level": 2,
           "type": "IAB"
          },
          {
           "category": "Attractions",
           "confidence": 0.698,
           "id": "16",
           "parent_id": null,
           "parent_name": null,
           "taxonomy_level": 1,
           "type": "IAB"
          },
          {
           "category": "Amusement and Theme Parks",
           "confidence": 0.698,
           "id": "17",
           "parent_id": null,
           "parent_name": "Attractions",
           "taxonomy_level": 2,
           "type": "IAB"
          },
          {
           "category": "Fine Art",
           "confidence": 0.649,
           "id": "18",
           "parent_id": null,
           "parent_name": null,
           "taxonomy_level": 1,
           "type": "IAB"
          },
          {
           "category": "Dance",
           "confidence": 0.649,
           "id": "19",
           "parent_id": null,
           "parent_name": "Fine Art",
           "taxonomy_level": 2,
           "type": "IAB"
          },
          {
           "category": "Food and Drink",
           "confidence": 0.525,
           "id": "20",
           "parent_id": null,
           "parent_name": null,
           "taxonomy_level": 1,
           "type": "IAB"
          },
          {
           "category": "Dining Out",
           "confidence": 0.525,
           "id": "21",
           "parent_id": null,
           "parent_name": "Food and Drink",
           "taxonomy_level": 2,
           "type": "IAB"
          }
         ],
         "segment_index": null,
         "shot_indices": [
          5,
          6
         ],
         "start_frame_index": 469,
         "start_timecode_smpte": "00:00:15;20",
         "start_timestamp_millis": 15649,
         "sub_chapter_index": null,
         "summary": "The video shows a street view of a historic entertainment district in Southern California. The Carl Caruso Theatre is the main focus, with its white facade, decorative elements, and \"THE CARL CARUSO THEATRE\" signage. Palm trees line the street, and vintage cars drive past. People walk along the sidewalk, some entering or leaving the theater. The scene then shifts to show the surrounding area, including Grauman's Chinese Theatre with its ornate architecture and red awnings. The street is busy with pedestrians and vehicles, and the area appears to be a popular tourist destination. The historic buildings and classic cars suggest this is a preserved area of Southern California.",
         "transcript": {
          "representation": {
           "text": ""
          }
         }
        },
        {
         "audio_segments": [],
         "chapter_index": 3,
         "content_moderation": [],
         "duration_frames": 88,
         "duration_millis": 2936,
         "duration_smpte": "00:00:02;28",
         "end_frame_index": 691,
         "end_timecode_smpte": "00:00:23;01",
         "end_timestamp_millis": 23089,
         "frames": [
          {
           "content_moderation": [],
           "frame_index": 614,
           "logos": [],
           "text_lines": [],
           "text_words": [],
           "timecode_smpte": "00:00:20;16",
           "timestamp_millis": 20521
          },
          {
           "content_moderation": [],
           "frame_index": 629,
           "logos": [],
           "text_lines": [],
           "text_words": [],
           "timecode_smpte": "00:00:21;00",
           "timestamp_millis": 21021
          },
          {
           "content_moderation": [],
           "frame_index": 644,
           "logos": [],
           "text_lines": [],
           "text_words": [],
           "timecode_smpte": "00:00:21;16",
           "timestamp_millis": 21522
          },
          {
           "content_moderation": [],
           "frame_index": 659,
           "logos": [],
           "text_lines": [],
           "text_words": [],
           "timecode_smpte": "00:00:22;00",
           "timestamp_millis": 22022
          },
          {
           "content_moderation": [],
           "frame_index": 674,
           "logos": [],
           "text_lines": [],
           "text_words": [],
           "timecode_smpte": "00:00:22;16",
           "timestamp_millis": 22523
          },
          {
           "content_moderation": [],
           "frame_index": 689,
           "logos": [],
           "text_lines": [],
           "text_words": [],
           "timecode_smpte": "00:00:23;00",
           "timestamp_millis": 23023
          },
          {
           "content_moderation": [],
           "frame_index": 693,
           "logos": [],
           "text_lines": [],
           "text_words": [],
           "timecode_smpte": "00:00:23;02",
           "timestamp_millis": 23089
          }
         ],
         "iab_categories": [
          {
           "category": "Automotive",
           "confidence": 0.998,
           "id": "0",
           "parent_id": null,
           "parent_name": null,
           "taxonomy_level": 1,
           "type": "IAB"
          },
          {
           "category": "Auto Type",
           "confidence": 0.998,
           "id": "1",
           "parent_id": null,
           "parent_name": "Automotive",
           "taxonomy_level": 2,
           "type": "IAB"
          },
          {
           "category": "Attractions",
           "confidence": 0.996,
           "id": "2",
           "parent_id": null,
           "parent_name": null,
           "taxonomy_level": 1,
           "type": "IAB"
          },
          {
           "category": "Bars and Restaurants",
           "confidence": 0.996,
           "id": "3",
           "parent_id": null,
           "parent_name": "Attractions",
           "taxonomy_level": 2,
           "type": "IAB"
          },
          {
           "category": "Food and Drink",
           "confidence": 0.932,
           "id": "4",
           "parent_id": null,
           "parent_name": null,
           "taxonomy_level": 1,
           "type": "IAB"
          },
          {
           "category": "Dining Out",
           "confidence": 0.932,
           "id": "5",
           "parent_id": null,
           "parent_name": "Food and Drink",
           "taxonomy_level": 2,
           "type": "IAB"
          },
          {
           "category": "Fine Art",
           "confidence": 0.90400004,
           "id": "6",
           "parent_id": null,
           "parent_name": null,
           "taxonomy_level": 1,
           "type": "IAB"
          },
          {
           "category": "Dance",
           "confidence": 0.90400004,
           "id": "7",
           "parent_id": null,
           "parent_name": "Fine Art",
           "taxonomy_level": 2,
           "type": "IAB"
          },
          {
           "category": "Style and Fashion",
           "confidence": 0.816,
           "id": "8",
           "parent_id": null,
           "parent_name": null,
           "taxonomy_level": 1,
           "type": "IAB"
          },
          {
           "category": "Street Style",
           "confidence": 0.816,
           "id": "9",
           "parent_id": null,
           "parent_name": "Style and Fashion",
           "taxonomy_level": 2,
           "type": "IAB"
          },
          {
           "category": "Sensitive Topics",
           "confidence": 0.78400004,
           "id": "10",
           "parent_id": null,
           "parent_name": null,
           "taxonomy_level": 1,
           "type": "IAB"
          },
          {
           "category": "Illegal Drugs, Tobacco, eCigarettes, Vaping, Alcohol",
           "confidence": 0.78400004,
           "id": "11",
           "parent_id": null,
           "parent_name": "Sensitive Topics",
           "taxonomy_level": 2,
           "type": "IAB"
          },
          {
           "category": "Automotive",
           "confidence": 0.59900004,
           "id": "12",
           "parent_id": null,
           "parent_name": null,
           "taxonomy_level": 1,
           "type": "IAB"
          },
          {
           "category": "Auto Body Styles",
           "confidence": 0.59900004,
           "id": "13",
           "parent_id": null,
           "parent_name": "Automotive",
           "taxonomy_level": 2,
           "type": "IAB"
          }
         ],
         "segment_index": null,
         "shot_indices": [
          7
         ],
         "start_frame_index": 604,
         "start_timecode_smpte": "00:00:20;04",
         "start_timestamp_millis": 20153,
         "sub_chapter_index": null,
         "summary": "The video shows a 1950s urban street scene. At Florentine Gardens restaurant, pedestrians walk along the sidewalk past the building's entrance. Palm trees line the street, and vintage cars drive by, including a yellow car and a black sedan. The restaurant's sign is visible, and a \"Zanzibar\" establishment is nearby. People move in and out of the restaurant, with some walking toward the entrance. The scene captures a typical day in a mid-20th century commercial district, with people and vehicles moving through the area.",
         "transcript": {
          "representation": {
           "text": ""
          }
         }
        },
        {
         "audio_segments": [
          {
           "audio_item_indices": null,
           "channel": null,
           "end_timestamp_millis": 29520,
           "id": null,
           "language": null,
           "segment_index": 0,
           "sensitive_data_detection": null,
           "speaker": {
            "speaker_label": "spk_0",
            "speaker_name": "None"
           },
           "start_timestamp_millis": 27020,
           "text": "So these guys just disappeared.",
           "type": "TRANSCRIPT"
          }
         ],
         "chapter_index": 4,
         "content_moderation": [
          {
           "confidence": 0.0639,
           "end_timestamp_millis": 29520,
           "id": "e80250c5-027d-4022-978a-d595ae24ea95",
           "moderation_categories": [
            {
             "category": "profanity",
             "confidence": 0.1116
            },
            {
             "category": "hate_speech",
             "confidence": 0.1065
            },
            {
             "category": "sexual",
             "confidence": 0.1116
            },
            {
             "category": "insult",
             "confidence": 0.0737
            },
            {
             "category": "violence_or_threat",
             "confidence": 0.1144
            },
            {
             "category": "graphic",
             "confidence": 0.1161
            },
            {
             "category": "harassment_or_abuse",
             "confidence": 0.0583
            }
           ],
           "start_timestamp_millis": 27020,
           "type": "AUDIO_MODERATION"
          }
         ],
         "duration_frames": 200,
         "duration_millis": 6639,
         "duration_smpte": "00:00:06;19",
         "end_frame_index": 891,
         "end_timecode_smpte": "00:00:29;21",
         "end_timestamp_millis": 29729,
         "frames": [
          {
           "content_moderation": [],
           "frame_index": 719,
           "logos": [],
           "text_lines": [],
           "text_words": [],
           "timecode_smpte": "00:00:24;00",
           "timestamp_millis": 24024
          },
          {
           "content_moderation": [],
           "frame_index": 734,
           "logos": [],
           "text_lines": [],
           "text_words": [],
           "timecode_smpte": "00:00:24;16",
           "timestamp_millis": 24525
          },
          {
           "content_moderation": [],
           "frame_index": 749,
           "logos": [],
           "text_lines": [],
           "text_words": [],
           "timecode_smpte": "00:00:25;00",
           "timestamp_millis": 25025
          },
          {
           "content_moderation": [],
           "frame_index": 764,
           "logos": [],
           "text_lines": [],
           "text_words": [],
           "timecode_smpte": "00:00:25;16",
           "timestamp_millis": 25526
          },
          {
           "content_moderation": [],
           "frame_index": 779,
           "logos": [],
           "text_lines": [],
           "text_words": [],
           "timecode_smpte": "00:00:26;00",
           "timestamp_millis": 26026
          },
          {
           "content_moderation": [],
           "frame_index": 794,
           "logos": [],
           "text_lines": [],
           "text_words": [],
           "timecode_smpte": "00:00:26;16",
           "timestamp_millis": 26527
          },
          {
           "content_moderation": [],
           "frame_index": 809,
           "logos": [],
           "text_lines": [],
           "text_words": [],
           "timecode_smpte": "00:00:27;00",
           "timestamp_millis": 27027
          },
          {
           "content_moderation": [],
           "frame_index": 824,
           "logos": [],
           "text_lines": [],
           "text_words": [],
           "timecode_smpte": "00:00:27;16",
           "timestamp_millis": 27528
          },
          {
           "content_moderation": [],
           "frame_index": 839,
           "logos": [],
           "text_lines": [],
           "text_words": [],
           "timecode_smpte": "00:00:28;00",
           "timestamp_millis": 28028
          },
          {
           "content_moderation": [],
           "frame_index": 854,
           "logos": [],
           "text_lines": [],
           "text_words": [],
           "timecode_smpte": "00:00:28;16",
           "timestamp_millis": 28529
          },
          {
           "content_moderation": [],
           "frame_index": 869,
           "logos": [],
           "text_lines": [],
           "text_words": [],
           "timecode_smpte": "00:00:29;00",
           "timestamp_millis": 29029
          },
          {
           "content_moderation": [],
           "frame_index": 884,
           "logos": [],
           "text_lines": [],
           "text_words": [],
           "timecode_smpte": "00:00:29;16",
           "timestamp_millis": 29530
          }
         ],
         "iab_categories": [
          {
           "category": "Automotive",
           "confidence": 0.995,
           "id": "0",
           "parent_id": null,
           "parent_name": null,
           "taxonomy_level": 1,
           "type": "IAB"
          },
          {
           "category": "Auto Type",
           "confidence": 0.995,
           "id": "1",
           "parent_id": null,
           "parent_name": "Automotive",
           "taxonomy_level": 2,
           "type": "IAB"
          },
          {
           "category": "Attractions",
           "confidence": 0.867,
           "id": "2",
           "parent_id": null,
           "parent_name": null,
           "taxonomy_level": 1,
           "type": "IAB"
          },
          {
           "category": "Historic Site and Landmark Tours",
           "confidence": 0.867,
           "id": "3",
           "parent_id": null,
           "parent_name": "Attractions",
           "taxonomy_level": 2,
           "type": "IAB"
          },
          {
           "category": "Disasters",
           "confidence": 0.639,
           "id": "4",
           "parent_id": null,
           "parent_name": null,
           "taxonomy_level": 1,
           "type": "IAB"
          },
          {
           "category": "Automotive",
           "confidence": 0.582,
           "id": "5",
           "parent_id": null,
           "parent_name": null,
           "taxonomy_level": 1,
           "type": "IAB"
          },
          {
           "category": "Car Culture",
           "confidence": 0.582,
           "id": "6",
           "parent_id": null,
           "parent_name": "Automotive",
           "taxonomy_level": 2,
           "type": "IAB"
          }
         ],
         "segment_index": null,
         "shot_indices": [
          8
         ],
         "start_frame_index": 692,
         "start_timecode_smpte": "00:00:23;03",
         "start_timestamp_millis": 23090,
         "sub_chapter_index": null,
         "summary": "A vintage black and white scene shows a busy urban intersection with classic cars and pedestrians. The Meridian building is prominently featured in the background. A narrator mentions that \"these guys just disappeared,\" suggesting a historical mystery about people who vanished from this location. The scene appears to be part of a documentary or historical presentation about the Meridian building and its surroundings.",
         "transcript": {
          "representation": {
           "text": "[spk_0]: So these guys just disappeared."
          }
         }
        },
        {
         "audio_segments": [
          {
           "audio_item_indices": null,
           "channel": null,
           "end_timestamp_millis": 34160,
           "id": null,
           "language": null,
           "segment_index": 1,
           "sensitive_data_detection": null,
           "speaker": {
            "speaker_label": "spk_1",
            "speaker_name": "None"
           },
           "start_timestamp_millis": 31060,
           "text": "Yeah, on that stretch of road right above El Matador.",
           "type": "TRANSCRIPT"
          },
          {
           "audio_item_indices": null,
           "channel": null,
           "end_timestamp_millis": 35750,
           "id": null,
           "language": null,
           "segment_index": 2,
           "sensitive_data_detection": null,
           "speaker": {
            "speaker_label": "spk_1",
            "speaker_name": "None"
           },
           "start_timestamp_millis": 35110,
           "text": "You know it.",
           "type": "TRANSCRIPT"
          },
          {
           "audio_item_indices": null,
           "channel": null,
           "end_timestamp_millis": 38930,
           "id": null,
           "language": null,
           "segment_index": 3,
           "sensitive_data_detection": null,
           "speaker": {
            "speaker_label": "spk_1",
            "speaker_name": "None"
           },
           "start_timestamp_millis": 36580,
           "text": "With the big rock that's right, yeah.",
           "type": "TRANSCRIPT"
          },
          {
           "audio_item_indices": null,
           "channel": null,
           "end_timestamp_millis": 44880,
           "id": null,
           "language": null,
           "segment_index": 4,
           "sensitive_data_detection": null,
           "speaker": {
            "speaker_label": "spk_0",
            "speaker_name": "None"
           },
           "start_timestamp_millis": 40860,
           "text": "Mickey Cohen used to take his associates out there, bid him a bon voyage.",
           "type": "TRANSCRIPT"
          },
          {
           "audio_item_indices": null,
           "channel": null,
           "end_timestamp_millis": 54350,
           "id": null,
           "language": null,
           "segment_index": 5,
           "sensitive_data_detection": null,
           "speaker": {
            "speaker_label": "spk_1",
            "speaker_name": "None"
           },
           "start_timestamp_millis": 45540,
           "text": "Mob hits. No, not this time. One of these guys was a school teacher. Next guy, he sold insurance. The last guy, he was retired.",
           "type": "TRANSCRIPT"
          },
          {
           "audio_item_indices": null,
           "channel": null,
           "end_timestamp_millis": 56330,
           "id": null,
           "language": null,
           "segment_index": 6,
           "sensitive_data_detection": null,
           "speaker": {
            "speaker_label": "spk_0",
            "speaker_name": "None"
           },
           "start_timestamp_millis": 55620,
           "text": "Any connection?",
           "type": "TRANSCRIPT"
          },
          {
           "audio_item_indices": null,
           "channel": null,
           "end_timestamp_millis": 57640,
           "id": null,
           "language": null,
           "segment_index": 7,
           "sensitive_data_detection": null,
           "speaker": {
            "speaker_label": "spk_1",
            "speaker_name": "None"
           },
           "start_timestamp_millis": 57630,
           "text": "Mm.",
           "type": "TRANSCRIPT"
          },
          {
           "audio_item_indices": null,
           "channel": null,
           "end_timestamp_millis": 59870,
           "id": null,
           "language": null,
           "segment_index": 8,
           "sensitive_data_detection": null,
           "speaker": {
            "speaker_label": "spk_1",
            "speaker_name": "None"
           },
           "start_timestamp_millis": 58600,
           "text": "I mean, I checked them all out.",
           "type": "TRANSCRIPT"
          },
          {
           "audio_item_indices": null,
           "channel": null,
           "end_timestamp_millis": 67760,
           "id": null,
           "language": null,
           "segment_index": 9,
           "sensitive_data_detection": null,
           "speaker": {
            "speaker_label": "spk_1",
            "speaker_name": "None"
           },
           "start_timestamp_millis": 60530,
           "text": "There's no criminal records, no association with any criminal organizations. One of the guys was arrested for drunk driving a long time ago.",
           "type": "TRANSCRIPT"
          },
          {
           "audio_item_indices": null,
           "channel": null,
           "end_timestamp_millis": 71130,
           "id": null,
           "language": null,
           "segment_index": 10,
           "sensitive_data_detection": null,
           "speaker": {
            "speaker_label": "spk_1",
            "speaker_name": "None"
           },
           "start_timestamp_millis": 69710,
           "text": "They were all divorced.",
           "type": "TRANSCRIPT"
          },
          {
           "audio_item_indices": null,
           "channel": null,
           "end_timestamp_millis": 75920,
           "id": null,
           "language": null,
           "segment_index": 11,
           "sensitive_data_detection": null,
           "speaker": {
            "speaker_label": "spk_0",
            "speaker_name": "None"
           },
           "start_timestamp_millis": 72870,
           "text": "Well, in that case, maybe you don't want to go out there, boss.",
           "type": "TRANSCRIPT"
          },
          {
           "audio_item_indices": null,
           "channel": null,
           "end_timestamp_millis": 80850,
           "id": null,
           "language": null,
           "segment_index": 12,
           "sensitive_data_detection": null,
           "speaker": {
            "speaker_label": "spk_1",
            "speaker_name": "None"
           },
           "start_timestamp_millis": 76740,
           "text": "What are you, a comedian? If that's the case, you sure don't want to go out there. Yeah,",
           "type": "TRANSCRIPT"
          },
          {
           "audio_item_indices": null,
           "channel": null,
           "end_timestamp_millis": 86160,
           "id": null,
           "language": null,
           "segment_index": 13,
           "sensitive_data_detection": null,
           "speaker": {
            "speaker_label": "spk_0",
            "speaker_name": "None"
           },
           "start_timestamp_millis": 80980,
           "text": "look, I know what happened, all right. They go out to the rock. They take that long, cold, slow swim to China,",
           "type": "TRANSCRIPT"
          },
          {
           "audio_item_indices": null,
           "channel": null,
           "end_timestamp_millis": 87050,
           "id": null,
           "language": null,
           "segment_index": 14,
           "sensitive_data_detection": null,
           "speaker": {
            "speaker_label": "spk_1",
            "speaker_name": "None"
           },
           "start_timestamp_millis": 86460,
           "text": "suicide.",
           "type": "TRANSCRIPT"
          },
          {
           "audio_item_indices": null,
           "channel": null,
           "end_timestamp_millis": 88930,
           "id": null,
           "language": null,
           "segment_index": 15,
           "sensitive_data_detection": null,
           "speaker": {
            "speaker_label": "spk_0",
            "speaker_name": "None"
           },
           "start_timestamp_millis": 87740,
           "text": "It's been known to happen out there.",
           "type": "TRANSCRIPT"
          },
          {
           "audio_item_indices": null,
           "channel": null,
           "end_timestamp_millis": 95080,
           "id": null,
           "language": null,
           "segment_index": 16,
           "sensitive_data_detection": null,
           "speaker": {
            "speaker_label": "spk_1",
            "speaker_name": "None"
           },
           "start_timestamp_millis": 89700,
           "text": "No, not this time. What do you mean? Well, for one thing, there's no bodies, and",
           "type": "TRANSCRIPT"
          },
          {
           "audio_item_indices": null,
           "channel": null,
           "end_timestamp_millis": 99600,
           "id": null,
           "language": null,
           "segment_index": 17,
           "sensitive_data_detection": null,
           "speaker": {
            "speaker_label": "spk_1",
            "speaker_name": "None"
           },
           "start_timestamp_millis": 96600,
           "text": "Somebody was out there the day the last guy disappeared.",
           "type": "TRANSCRIPT"
          },
          {
           "audio_item_indices": null,
           "channel": null,
           "end_timestamp_millis": 101250,
           "id": null,
           "language": null,
           "segment_index": 18,
           "sensitive_data_detection": null,
           "speaker": {
            "speaker_label": "spk_0",
            "speaker_name": "None"
           },
           "start_timestamp_millis": 100570,
           "text": "A witness,",
           "type": "TRANSCRIPT"
          },
          {
           "audio_item_indices": null,
           "channel": null,
           "end_timestamp_millis": 103000,
           "id": null,
           "language": null,
           "segment_index": 19,
           "sensitive_data_detection": null,
           "speaker": {
            "speaker_label": "spk_1",
            "speaker_name": "None"
           },
           "start_timestamp_millis": 102050,
           "text": "yeah, a witness.",
           "type": "TRANSCRIPT"
          },
          {
           "audio_item_indices": null,
           "channel": null,
           "end_timestamp_millis": 104740,
           "id": null,
           "language": null,
           "segment_index": 20,
           "sensitive_data_detection": null,
           "speaker": {
            "speaker_label": "spk_0",
            "speaker_name": "None"
           },
           "start_timestamp_millis": 103290,
           "text": "Why didn't you say that in the first place?",
           "type": "TRANSCRIPT"
          },
          {
           "audio_item_indices": null,
           "channel": null,
           "end_timestamp_millis": 108160,
           "id": null,
           "language": null,
           "segment_index": 21,
           "sensitive_data_detection": null,
           "speaker": {
            "speaker_label": "spk_1",
            "speaker_name": "None"
           },
           "start_timestamp_millis": 105330,
           "text": "Because I thought the guy was nuts what he said.",
           "type": "TRANSCRIPT"
          },
          {
           "audio_item_indices": null,
           "channel": null,
           "end_timestamp_millis": 110120,
           "id": null,
           "language": null,
           "segment_index": 22,
           "sensitive_data_detection": null,
           "speaker": {
            "speaker_label": "spk_0",
            "speaker_name": "None"
           },
           "start_timestamp_millis": 109250,
           "text": "But now you believe him.",
           "type": "TRANSCRIPT"
          },
          {
           "audio_item_indices": null,
           "channel": null,
           "end_timestamp_millis": 118900,
           "id": null,
           "language": null,
           "segment_index": 23,
           "sensitive_data_detection": null,
           "speaker": {
            "speaker_label": "spk_1",
            "speaker_name": "None"
           },
           "start_timestamp_millis": 111430,
           "text": "I had him checked out too. Guy's a goddamn Eagle Scout, so now, now I don't know what to believe. I know I don't want to believe him.",
           "type": "TRANSCRIPT"
          },
          {
           "audio_item_indices": null,
           "channel": null,
           "end_timestamp_millis": 120640,
           "id": null,
           "language": null,
           "segment_index": 24,
           "sensitive_data_detection": null,
           "speaker": {
            "speaker_label": "spk_0",
            "speaker_name": "None"
           },
           "start_timestamp_millis": 119820,
           "text": "What did he say?",
           "type": "TRANSCRIPT"
          },
          {
           "audio_item_indices": null,
           "channel": null,
           "end_timestamp_millis": 124490,
           "id": null,
           "language": null,
           "segment_index": 25,
           "sensitive_data_detection": null,
           "speaker": {
            "speaker_label": "spk_1",
            "speaker_name": "None"
           },
           "start_timestamp_millis": 120780,
           "text": "He said he was out there walking his dog along the bluffs above El Matador, right?",
           "type": "TRANSCRIPT"
          },
          {
           "audio_item_indices": null,
           "channel": null,
           "end_timestamp_millis": 140800,
           "id": null,
           "language": null,
           "segment_index": 26,
           "sensitive_data_detection": null,
           "speaker": {
            "speaker_label": "spk_1",
            "speaker_name": "None"
           },
           "start_timestamp_millis": 125210,
           "text": "And he looks down at the beach at that huge rock, you know, the one that's separated from the mainland right where the ocean meets the shore. His words, looks like a, like a mythic sea creature, you know, that one. Anyway, he looks down there and there's a guy who's on top of that rock.",
           "type": "TRANSCRIPT"
          },
          {
           "audio_item_indices": null,
           "channel": null,
           "end_timestamp_millis": 152420,
           "id": null,
           "language": null,
           "segment_index": 27,
           "sensitive_data_detection": null,
           "speaker": {
            "speaker_label": "spk_1",
            "speaker_name": "None"
           },
           "start_timestamp_millis": 141630,
           "text": "And he's thinking to himself, how the hell do you get up there? You gotta be a goddamn mountain climber. But more importantly, he says the guy's acting really funny. He's looking all over that rock like he's looking for something or someone.",
           "type": "TRANSCRIPT"
          },
          {
           "audio_item_indices": null,
           "channel": null,
           "end_timestamp_millis": 165620,
           "id": null,
           "language": null,
           "segment_index": 28,
           "sensitive_data_detection": null,
           "speaker": {
            "speaker_label": "spk_1",
            "speaker_name": "None"
           },
           "start_timestamp_millis": 153710,
           "text": "At that very moment, he says it got really, really dark, really fast, and bombs start going off in the air, thunder and lightning, weather like he'd never seen before, coming from, he didn't know where.",
           "type": "TRANSCRIPT"
          },
          {
           "audio_item_indices": null,
           "channel": null,
           "end_timestamp_millis": 169320,
           "id": null,
           "language": null,
           "segment_index": 29,
           "sensitive_data_detection": null,
           "speaker": {
            "speaker_label": "spk_1",
            "speaker_name": "None"
           },
           "start_timestamp_millis": 166650,
           "text": "When he looks back at the rock, the guy's gone.",
           "type": "TRANSCRIPT"
          },
          {
           "audio_item_indices": null,
           "channel": null,
           "end_timestamp_millis": 178270,
           "id": null,
           "language": null,
           "segment_index": 30,
           "sensitive_data_detection": null,
           "speaker": {
            "speaker_label": "spk_1",
            "speaker_name": "None"
           },
           "start_timestamp_millis": 170200,
           "text": "But there's a woman there. She's in a white dress, alabaster skin, his words, and he says she's staring right up at him.",
           "type": "TRANSCRIPT"
          },
          {
           "audio_item_indices": null,
           "channel": null,
           "end_timestamp_millis": 182460,
           "id": null,
           "language": null,
           "segment_index": 31,
           "sensitive_data_detection": null,
           "speaker": {
            "speaker_label": "spk_1",
            "speaker_name": "None"
           },
           "start_timestamp_millis": 180140,
           "text": "He sees her, she's beautiful.",
           "type": "TRANSCRIPT"
          },
          {
           "audio_item_indices": null,
           "channel": null,
           "end_timestamp_millis": 186130,
           "id": null,
           "language": null,
           "segment_index": 32,
           "sensitive_data_detection": null,
           "speaker": {
            "speaker_label": "spk_1",
            "speaker_name": "None"
           },
           "start_timestamp_millis": 183240,
           "text": "But like she's from some other time, some other place.",
           "type": "TRANSCRIPT"
          },
          {
           "audio_item_indices": null,
           "channel": null,
           "end_timestamp_millis": 191630,
           "id": null,
           "language": null,
           "segment_index": 33,
           "sensitive_data_detection": null,
           "speaker": {
            "speaker_label": "spk_1",
            "speaker_name": "None"
           },
           "start_timestamp_millis": 186940,
           "text": "He looks back at the weather because it's getting worse and worse. He decides to hightail it out of there.",
           "type": "TRANSCRIPT"
          },
          {
           "audio_item_indices": null,
           "channel": null,
           "end_timestamp_millis": 196990,
           "id": null,
           "language": null,
           "segment_index": 34,
           "sensitive_data_detection": null,
           "speaker": {
            "speaker_label": "spk_1",
            "speaker_name": "None"
           },
           "start_timestamp_millis": 194520,
           "text": "And that was it. That was his story, right?",
           "type": "TRANSCRIPT"
          }
         ],
         "chapter_index": 5,
         "content_moderation": [
          {
           "confidence": 0.0639,
           "end_timestamp_millis": 34160,
           "id": "9027d5e5-a997-4e30-87e3-10a30640d668",
           "moderation_categories": [
            {
             "category": "profanity",
             "confidence": 0.1116
            },
            {
             "category": "hate_speech",
             "confidence": 0.1065
            },
            {
             "category": "sexual",
             "confidence": 0.1116
            },
            {
             "category": "insult",
             "confidence": 0.0737
            },
            {
             "category": "violence_or_threat",
             "confidence": 0.1144
            },
            {
             "category": "graphic",
             "confidence": 0.1161
            },
            {
             "category": "harassment_or_abuse",
             "confidence": 0.0583
            }
           ],
           "start_timestamp_millis": 31060,
           "type": "AUDIO_MODERATION"
          },
          {
           "confidence": 0.0639,
           "end_timestamp_millis": 35750,
           "id": "727fc5d5-9367-4f71-b535-b90087297fab",
           "moderation_categories": [
            {
             "category": "profanity",
             "confidence": 0.1116
            },
            {
             "category": "hate_speech",
             "confidence": 0.1065
            },
            {
             "category": "sexual",
             "confidence": 0.1116
            },
            {
             "category": "insult",
             "confidence": 0.0737
            },
            {
             "category": "violence_or_threat",
             "confidence": 0.1144
            },
            {
             "category": "graphic",
             "confidence": 0.1161
            },
            {
             "category": "harassment_or_abuse",
             "confidence": 0.0583
            }
           ],
           "start_timestamp_millis": 35110,
           "type": "AUDIO_MODERATION"
          },
          {
           "confidence": 0.0639,
           "end_timestamp_millis": 38930,
           "id": "ffa6c18b-44e3-4b3c-80e0-b833268ca6d4",
           "moderation_categories": [
            {
             "category": "profanity",
             "confidence": 0.1116
            },
            {
             "category": "hate_speech",
             "confidence": 0.1065
            },
            {
             "category": "sexual",
             "confidence": 0.1116
            },
            {
             "category": "insult",
             "confidence": 0.0737
            },
            {
             "category": "violence_or_threat",
             "confidence": 0.1144
            },
            {
             "category": "graphic",
             "confidence": 0.1161
            },
            {
             "category": "harassment_or_abuse",
             "confidence": 0.0583
            }
           ],
           "start_timestamp_millis": 36580,
           "type": "AUDIO_MODERATION"
          },
          {
           "confidence": 0.0639,
           "end_timestamp_millis": 44880,
           "id": "b1b33848-31b0-45be-8caa-a5498bb89b52",
           "moderation_categories": [
            {
             "category": "profanity",
             "confidence": 0.1116
            },
            {
             "category": "hate_speech",
             "confidence": 0.1065
            },
            {
             "category": "sexual",
             "confidence": 0.1116
            },
            {
             "category": "insult",
             "confidence": 0.0737
            },
            {
             "category": "violence_or_threat",
             "confidence": 0.1144
            },
            {
             "category": "graphic",
             "confidence": 0.1161
            },
            {
             "category": "harassment_or_abuse",
             "confidence": 0.0583
            }
           ],
           "start_timestamp_millis": 40860,
           "type": "AUDIO_MODERATION"
          },
          {
           "confidence": 0.0639,
           "end_timestamp_millis": 54350,
           "id": "1167811c-3318-42a5-8cc7-477e675f3485",
           "moderation_categories": [
            {
             "category": "profanity",
             "confidence": 0.1116
            },
            {
             "category": "hate_speech",
             "confidence": 0.1065
            },
            {
             "category": "sexual",
             "confidence": 0.1116
            },
            {
             "category": "insult",
             "confidence": 0.0737
            },
            {
             "category": "violence_or_threat",
             "confidence": 0.4405
            },
            {
             "category": "graphic",
             "confidence": 0.1161
            },
            {
             "category": "harassment_or_abuse",
             "confidence": 0.0583
            }
           ],
           "start_timestamp_millis": 45540,
           "type": "AUDIO_MODERATION"
          },
          {
           "confidence": 0.0639,
           "end_timestamp_millis": 56330,
           "id": "f3970d9f-f6f1-474c-aa3c-bc6736955d36",
           "moderation_categories": [
            {
             "category": "profanity",
             "confidence": 0.1116
            },
            {
             "category": "hate_speech",
             "confidence": 0.1065
            },
            {
             "category": "sexual",
             "confidence": 0.1116
            },
            {
             "category": "insult",
             "confidence": 0.0737
            },
            {
             "category": "violence_or_threat",
             "confidence": 0.1144
            },
            {
             "category": "graphic",
             "confidence": 0.1161
            },
            {
             "category": "harassment_or_abuse",
             "confidence": 0.0583
            }
           ],
           "start_timestamp_millis": 55620,
           "type": "AUDIO_MODERATION"
          },
          {
           "confidence": 0.0639,
           "end_timestamp_millis": 57640,
           "id": "52fa81b8-e581-4146-8686-f3b527e4ba79",
           "moderation_categories": [
            {
             "category": "profanity",
             "confidence": 0.1116
            },
            {
             "category": "hate_speech",
             "confidence": 0.1065
            },
            {
             "category": "sexual",
             "confidence": 0.1116
            },
            {
             "category": "insult",
             "confidence": 0.0737
            },
            {
             "category": "violence_or_threat",
             "confidence": 0.1144
            },
            {
             "category": "graphic",
             "confidence": 0.1161
            },
            {
             "category": "harassment_or_abuse",
             "confidence": 0.0583
            }
           ],
           "start_timestamp_millis": 57630,
           "type": "AUDIO_MODERATION"
          },
          {
           "confidence": 0.0639,
           "end_timestamp_millis": 59870,
           "id": "10246c52-8fba-4196-9d2a-52018c2ec57f",
           "moderation_categories": [
            {
             "category": "profanity",
             "confidence": 0.1116
            },
            {
             "category": "hate_speech",
             "confidence": 0.1065
            },
            {
             "category": "sexual",
             "confidence": 0.1116
            },
            {
             "category": "insult",
             "confidence": 0.0737
            },
            {
             "category": "violence_or_threat",
             "confidence": 0.1144
            },
            {
             "category": "graphic",
             "confidence": 0.1161
            },
            {
             "category": "harassment_or_abuse",
             "confidence": 0.0583
            }
           ],
           "start_timestamp_millis": 58600,
           "type": "AUDIO_MODERATION"
          },
          {
           "confidence": 0.0639,
           "end_timestamp_millis": 67760,
           "id": "fb973483-df6e-4f52-b9a8-be14a1376aba",
           "moderation_categories": [
            {
             "category": "profanity",
             "confidence": 0.1116
            },
            {
             "category": "hate_speech",
             "confidence": 0.1065
            },
            {
             "category": "sexual",
             "confidence": 0.1116
            },
            {
             "category": "insult",
             "confidence": 0.0737
            },
            {
             "category": "violence_or_threat",
             "confidence": 0.1144
            },
            {
             "category": "graphic",
             "confidence": 0.1161
            },
            {
             "category": "harassment_or_abuse",
             "confidence": 0.0583
            }
           ],
           "start_timestamp_millis": 60530,
           "type": "AUDIO_MODERATION"
          },
          {
           "confidence": 0.0639,
           "end_timestamp_millis": 71130,
           "id": "d96f4c7a-668b-4b77-935d-b1e3e7924a2e",
           "moderation_categories": [
            {
             "category": "profanity",
             "confidence": 0.1116
            },
            {
             "category": "hate_speech",
             "confidence": 0.1065
            },
            {
             "category": "sexual",
             "confidence": 0.1116
            },
            {
             "category": "insult",
             "confidence": 0.0737
            },
            {
             "category": "violence_or_threat",
             "confidence": 0.1144
            },
            {
             "category": "graphic",
             "confidence": 0.1161
            },
            {
             "category": "harassment_or_abuse",
             "confidence": 0.0583
            }
           ],
           "start_timestamp_millis": 69710,
           "type": "AUDIO_MODERATION"
          },
          {
           "confidence": 0.0639,
           "end_timestamp_millis": 75920,
           "id": "a519d5be-63a2-4b81-a55a-330c506fbe33",
           "moderation_categories": [
            {
             "category": "profanity",
             "confidence": 0.1116
            },
            {
             "category": "hate_speech",
             "confidence": 0.1065
            },
            {
             "category": "sexual",
             "confidence": 0.1116
            },
            {
             "category": "insult",
             "confidence": 0.0737
            },
            {
             "category": "violence_or_threat",
             "confidence": 0.1144
            },
            {
             "category": "graphic",
             "confidence": 0.1161
            },
            {
             "category": "harassment_or_abuse",
             "confidence": 0.0583
            }
           ],
           "start_timestamp_millis": 72870,
           "type": "AUDIO_MODERATION"
          },
          {
           "confidence": 0.0639,
           "end_timestamp_millis": 80850,
           "id": "f35fcea0-863e-4ba5-b4ef-c9efddde03f4",
           "moderation_categories": [
            {
             "category": "profanity",
             "confidence": 0.1116
            },
            {
             "category": "hate_speech",
             "confidence": 0.1065
            },
            {
             "category": "sexual",
             "confidence": 0.1116
            },
            {
             "category": "insult",
             "confidence": 0.1112
            },
            {
             "category": "violence_or_threat",
             "confidence": 0.1144
            },
            {
             "category": "graphic",
             "confidence": 0.1161
            },
            {
             "category": "harassment_or_abuse",
             "confidence": 0.0583
            }
           ],
           "start_timestamp_millis": 76740,
           "type": "AUDIO_MODERATION"
          },
          {
           "confidence": 0.0639,
           "end_timestamp_millis": 86160,
           "id": "bedc857c-6ebd-4b3d-8097-1847d785334d",
           "moderation_categories": [
            {
             "category": "profanity",
             "confidence": 0.1116
            },
            {
             "category": "hate_speech",
             "confidence": 0.1065
            },
            {
             "category": "sexual",
             "confidence": 0.1116
            },
            {
             "category": "insult",
             "confidence": 0.0737
            },
            {
             "category": "violence_or_threat",
             "confidence": 0.1144
            },
            {
             "category": "graphic",
             "confidence": 0.1161
            },
            {
             "category": "harassment_or_abuse",
             "confidence": 0.0583
            }
           ],
           "start_timestamp_millis": 80980,
           "type": "AUDIO_MODERATION"
          },
          {
           "confidence": 0.0639,
           "end_timestamp_millis": 87050,
           "id": "cc2b78dc-fb72-4d58-83e6-74952f42ec11",
           "moderation_categories": [
            {
             "category": "profanity",
             "confidence": 0.1116
            },
            {
             "category": "hate_speech",
             "confidence": 0.1065
            },
            {
             "category": "sexual",
             "confidence": 0.1116
            },
            {
             "category": "insult",
             "confidence": 0.0737
            },
            {
             "category": "violence_or_threat",
             "confidence": 0.1144
            },
            {
             "category": "graphic",
             "confidence": 0.1161
            },
            {
             "category": "harassment_or_abuse",
             "confidence": 0.0583
            }
           ],
           "start_timestamp_millis": 86460,
           "type": "AUDIO_MODERATION"
          },
          {
           "confidence": 0.0639,
           "end_timestamp_millis": 88930,
           "id": "1cd7c89d-8e39-4ad2-9092-b51829ee6933",
           "moderation_categories": [
            {
             "category": "profanity",
             "confidence": 0.1116
            },
            {
             "category": "hate_speech",
             "confidence": 0.1065
            },
            {
             "category": "sexual",
             "confidence": 0.1116
            },
            {
             "category": "insult",
             "confidence": 0.0737
            },
            {
             "category": "violence_or_threat",
             "confidence": 0.1144
            },
            {
             "category": "graphic",
             "confidence": 0.1161
            },
            {
             "category": "harassment_or_abuse",
             "confidence": 0.0583
            }
           ],
           "start_timestamp_millis": 87740,
           "type": "AUDIO_MODERATION"
          },
          {
           "confidence": 0.0639,
           "end_timestamp_millis": 95080,
           "id": "e95f7fed-1b4e-47cf-bbeb-5c216b74e5d3",
           "moderation_categories": [
            {
             "category": "profanity",
             "confidence": 0.1116
            },
            {
             "category": "hate_speech",
             "confidence": 0.1065
            },
            {
             "category": "sexual",
             "confidence": 0.1116
            },
            {
             "category": "insult",
             "confidence": 0.0737
            },
            {
             "category": "violence_or_threat",
             "confidence": 0.1144
            },
            {
             "category": "graphic",
             "confidence": 0.1161
            },
            {
             "category": "harassment_or_abuse",
             "confidence": 0.0583
            }
           ],
           "start_timestamp_millis": 89700,
           "type": "AUDIO_MODERATION"
          },
          {
           "confidence": 0.0639,
           "end_timestamp_millis": 99600,
           "id": "7b86a6cc-a5f3-449e-b79a-5191710f087a",
           "moderation_categories": [
            {
             "category": "profanity",
             "confidence": 0.1116
            },
            {
             "category": "hate_speech",
             "confidence": 0.1065
            },
            {
             "category": "sexual",
             "confidence": 0.1116
            },
            {
             "category": "insult",
             "confidence": 0.0737
            },
            {
             "category": "violence_or_threat",
             "confidence": 0.1144
            },
            {
             "category": "graphic",
             "confidence": 0.1161
            },
            {
             "category": "harassment_or_abuse",
             "confidence": 0.0583
            }
           ],
           "start_timestamp_millis": 96600,
           "type": "AUDIO_MODERATION"
          },
          {
           "confidence": 0.0639,
           "end_timestamp_millis": 101250,
           "id": "a1f70741-aecc-453d-b323-f53ac8fa63cf",
           "moderation_categories": [
            {
             "category": "profanity",
             "confidence": 0.1116
            },
            {
             "category": "hate_speech",
             "confidence": 0.1065
            },
            {
             "category": "sexual",
             "confidence": 0.1116
            },
            {
             "category": "insult",
             "confidence": 0.0737
            },
            {
             "category": "violence_or_threat",
             "confidence": 0.1144
            },
            {
             "category": "graphic",
             "confidence": 0.1161
            },
            {
             "category": "harassment_or_abuse",
             "confidence": 0.0583
            }
           ],
           "start_timestamp_millis": 100570,
           "type": "AUDIO_MODERATION"
          },
          {
           "confidence": 0.0639,
           "end_timestamp_millis": 103000,
           "id": "17b6c803-5782-4c52-bbe1-bc127e8f0427",
           "moderation_categories": [
            {
             "category": "profanity",
             "confidence": 0.1116
            },
            {
             "category": "hate_speech",
             "confidence": 0.1065
            },
            {
             "category": "sexual",
             "confidence": 0.1116
            },
            {
             "category": "insult",
             "confidence": 0.0737
            },
            {
             "category": "violence_or_threat",
             "confidence": 0.1144
            },
            {
             "category": "graphic",
             "confidence": 0.1161
            },
            {
             "category": "harassment_or_abuse",
             "confidence": 0.0583
            }
           ],
           "start_timestamp_millis": 102050,
           "type": "AUDIO_MODERATION"
          },
          {
           "confidence": 0.0639,
           "end_timestamp_millis": 104740,
           "id": "fdcffcd8-d41f-4fd8-bde6-337164352264",
           "moderation_categories": [
            {
             "category": "profanity",
             "confidence": 0.1116
            },
            {
             "category": "hate_speech",
             "confidence": 0.1065
            },
            {
             "category": "sexual",
             "confidence": 0.1116
            },
            {
             "category": "insult",
             "confidence": 0.0737
            },
            {
             "category": "violence_or_threat",
             "confidence": 0.1144
            },
            {
             "category": "graphic",
             "confidence": 0.1161
            },
            {
             "category": "harassment_or_abuse",
             "confidence": 0.0583
            }
           ],
           "start_timestamp_millis": 103290,
           "type": "AUDIO_MODERATION"
          },
          {
           "confidence": 0.0639,
           "end_timestamp_millis": 108160,
           "id": "44e125f0-bb5b-42ef-80bb-61fa8dbedb49",
           "moderation_categories": [
            {
             "category": "profanity",
             "confidence": 0.1116
            },
            {
             "category": "hate_speech",
             "confidence": 0.1065
            },
            {
             "category": "sexual",
             "confidence": 0.1116
            },
            {
             "category": "insult",
             "confidence": 0.0737
            },
            {
             "category": "violence_or_threat",
             "confidence": 0.1144
            },
            {
             "category": "graphic",
             "confidence": 0.1161
            },
            {
             "category": "harassment_or_abuse",
             "confidence": 0.0583
            }
           ],
           "start_timestamp_millis": 105330,
           "type": "AUDIO_MODERATION"
          },
          {
           "confidence": 0.0639,
           "end_timestamp_millis": 110120,
           "id": "e1e2b0e3-33c1-4211-9271-a37b8ebba9da",
           "moderation_categories": [
            {
             "category": "profanity",
             "confidence": 0.1116
            },
            {
             "category": "hate_speech",
             "confidence": 0.1065
            },
            {
             "category": "sexual",
             "confidence": 0.1116
            },
            {
             "category": "insult",
             "confidence": 0.0737
            },
            {
             "category": "violence_or_threat",
             "confidence": 0.1144
            },
            {
             "category": "graphic",
             "confidence": 0.1161
            },
            {
             "category": "harassment_or_abuse",
             "confidence": 0.0583
            }
           ],
           "start_timestamp_millis": 109250,
           "type": "AUDIO_MODERATION"
          },
          {
           "confidence": 0.0639,
           "end_timestamp_millis": 118900,
           "id": "be3b2eb3-0c0a-40e5-bcad-249b1e4564dd",
           "moderation_categories": [
            {
             "category": "profanity",
             "confidence": 0.7209
            },
            {
             "category": "hate_speech",
             "confidence": 0.1065
            },
            {
             "category": "sexual",
             "confidence": 0.1116
            },
            {
             "category": "insult",
             "confidence": 0.0737
            },
            {
             "category": "violence_or_threat",
             "confidence": 0.1144
            },
            {
             "category": "graphic",
             "confidence": 0.1161
            },
            {
             "category": "harassment_or_abuse",
             "confidence": 0.0583
            }
           ],
           "start_timestamp_millis": 111430,
           "type": "AUDIO_MODERATION"
          },
          {
           "confidence": 0.0639,
           "end_timestamp_millis": 120640,
           "id": "567f90a8-2d00-4100-94e6-3107a23c49c5",
           "moderation_categories": [
            {
             "category": "profanity",
             "confidence": 0.1116
            },
            {
             "category": "hate_speech",
             "confidence": 0.1065
            },
            {
             "category": "sexual",
             "confidence": 0.1116
            },
            {
             "category": "insult",
             "confidence": 0.0737
            },
            {
             "category": "violence_or_threat",
             "confidence": 0.1144
            },
            {
             "category": "graphic",
             "confidence": 0.1161
            },
            {
             "category": "harassment_or_abuse",
             "confidence": 0.0583
            }
           ],
           "start_timestamp_millis": 119820,
           "type": "AUDIO_MODERATION"
          },
          {
           "confidence": 0.0639,
           "end_timestamp_millis": 124490,
           "id": "813e2d2d-256d-42c4-a3dd-f52106e794c5",
           "moderation_categories": [
            {
             "category": "profanity",
             "confidence": 0.1116
            },
            {
             "category": "hate_speech",
             "confidence": 0.1065
            },
            {
             "category": "sexual",
             "confidence": 0.1116
            },
            {
             "category": "insult",
             "confidence": 0.0737
            },
            {
             "category": "violence_or_threat",
             "confidence": 0.1144
            },
            {
             "category": "graphic",
             "confidence": 0.1161
            },
            {
             "category": "harassment_or_abuse",
             "confidence": 0.0583
            }
           ],
           "start_timestamp_millis": 120780,
           "type": "AUDIO_MODERATION"
          },
          {
           "confidence": 0.0639,
           "end_timestamp_millis": 140800,
           "id": "cad8dc20-7793-4d5e-9c5c-2b93dd9c683f",
           "moderation_categories": [
            {
             "category": "profanity",
             "confidence": 0.1116
            },
            {
             "category": "hate_speech",
             "confidence": 0.1065
            },
            {
             "category": "sexual",
             "confidence": 0.1116
            },
            {
             "category": "insult",
             "confidence": 0.0737
            },
            {
             "category": "violence_or_threat",
             "confidence": 0.1144
            },
            {
             "category": "graphic",
             "confidence": 0.1161
            },
            {
             "category": "harassment_or_abuse",
             "confidence": 0.0583
            }
           ],
           "start_timestamp_millis": 125210,
           "type": "AUDIO_MODERATION"
          },
          {
           "confidence": 0.0639,
           "end_timestamp_millis": 152420,
           "id": "31c0447f-69a0-4d03-b476-2062d0bac471",
           "moderation_categories": [
            {
             "category": "profanity",
             "confidence": 0.6789
            },
            {
             "category": "hate_speech",
             "confidence": 0.1065
            },
            {
             "category": "sexual",
             "confidence": 0.1116
            },
            {
             "category": "insult",
             "confidence": 0.0737
            },
            {
             "category": "violence_or_threat",
             "confidence": 0.1144
            },
            {
             "category": "graphic",
             "confidence": 0.1161
            },
            {
             "category": "harassment_or_abuse",
             "confidence": 0.0583
            }
           ],
           "start_timestamp_millis": 141630,
           "type": "AUDIO_MODERATION"
          },
          {
           "confidence": 0.0639,
           "end_timestamp_millis": 165620,
           "id": "963e44bc-1573-4dcd-8ce3-987863cde26c",
           "moderation_categories": [
            {
             "category": "profanity",
             "confidence": 0.1116
            },
            {
             "category": "hate_speech",
             "confidence": 0.1065
            },
            {
             "category": "sexual",
             "confidence": 0.1116
            },
            {
             "category": "insult",
             "confidence": 0.0737
            },
            {
             "category": "violence_or_threat",
             "confidence": 0.1144
            },
            {
             "category": "graphic",
             "confidence": 0.1161
            },
            {
             "category": "harassment_or_abuse",
             "confidence": 0.0583
            }
           ],
           "start_timestamp_millis": 153710,
           "type": "AUDIO_MODERATION"
          },
          {
           "confidence": 0.0639,
           "end_timestamp_millis": 169320,
           "id": "cf4c3dcc-bcef-4cbc-a31d-4eb6bdc59251",
           "moderation_categories": [
            {
             "category": "profanity",
             "confidence": 0.1116
            },
            {
             "category": "hate_speech",
             "confidence": 0.1065
            },
            {
             "category": "sexual",
             "confidence": 0.1116
            },
            {
             "category": "insult",
             "confidence": 0.0737
            },
            {
             "category": "violence_or_threat",
             "confidence": 0.1144
            },
            {
             "category": "graphic",
             "confidence": 0.1161
            },
            {
             "category": "harassment_or_abuse",
             "confidence": 0.0583
            }
           ],
           "start_timestamp_millis": 166650,
           "type": "AUDIO_MODERATION"
          },
          {
           "confidence": 0.0639,
           "end_timestamp_millis": 178270,
           "id": "4273d8e5-0fd4-45ea-94ae-24a32c8989c6",
           "moderation_categories": [
            {
             "category": "profanity",
             "confidence": 0.1116
            },
            {
             "category": "hate_speech",
             "confidence": 0.1065
            },
            {
             "category": "sexual",
             "confidence": 0.1116
            },
            {
             "category": "insult",
             "confidence": 0.0737
            },
            {
             "category": "violence_or_threat",
             "confidence": 0.1144
            },
            {
             "category": "graphic",
             "confidence": 0.1161
            },
            {
             "category": "harassment_or_abuse",
             "confidence": 0.0583
            }
           ],
           "start_timestamp_millis": 170200,
           "type": "AUDIO_MODERATION"
          },
          {
           "confidence": 0.0639,
           "end_timestamp_millis": 182460,
           "id": "190308da-0400-41ab-a593-e0fde63806c3",
           "moderation_categories": [
            {
             "category": "profanity",
             "confidence": 0.1116
            },
            {
             "category": "hate_speech",
             "confidence": 0.1065
            },
            {
             "category": "sexual",
             "confidence": 0.1116
            },
            {
             "category": "insult",
             "confidence": 0.0737
            },
            {
             "category": "violence_or_threat",
             "confidence": 0.1144
            },
            {
             "category": "graphic",
             "confidence": 0.1161
            },
            {
             "category": "harassment_or_abuse",
             "confidence": 0.0583
            }
           ],
           "start_timestamp_millis": 180140,
           "type": "AUDIO_MODERATION"
          },
          {
           "confidence": 0.0639,
           "end_timestamp_millis": 186130,
           "id": "a4f8cadf-18c3-4a40-925a-0f0a1ca90c3c",
           "moderation_categories": [
            {
             "category": "profanity",
             "confidence": 0.1116
            },
            {
             "category": "hate_speech",
             "confidence": 0.1065
            },
            {
             "category": "sexual",
             "confidence": 0.1116
            },
            {
             "category": "insult",
             "confidence": 0.0737
            },
            {
             "category": "violence_or_threat",
             "confidence": 0.1144
            },
            {
             "category": "graphic",
             "confidence": 0.1161
            },
            {
             "category": "harassment_or_abuse",
             "confidence": 0.0583
            }
           ],
           "start_timestamp_millis": 183240,
           "type": "AUDIO_MODERATION"
          },
          {
           "confidence": 0.0639,
           "end_timestamp_millis": 191630,
           "id": "eb80e947-26fd-467e-bd6e-a1f69a987d41",
           "moderation_categories": [
            {
             "category": "profanity",
             "confidence": 0.1116
            },
            {
             "category": "hate_speech",
             "confidence": 0.1065
            },
            {
             "category": "sexual",
             "confidence": 0.1116
            },
            {
             "category": "insult",
             "confidence": 0.0737
            },
            {
             "category": "violence_or_threat",
             "confidence": 0.1144
            },
            {
             "category": "graphic",
             "confidence": 0.1161
            },
            {
             "category": "harassment_or_abuse",
             "confidence": 0.0583
            }
           ],
           "start_timestamp_millis": 186940,
           "type": "AUDIO_MODERATION"
          },
          {
           "confidence": 0.0639,
           "end_timestamp_millis": 196990,
           "id": "6078adf4-9f60-4a15-8344-82cfc71dab4a",
           "moderation_categories": [
            {
             "category": "profanity",
             "confidence": 0.1116
            },
            {
             "category": "hate_speech",
             "confidence": 0.1065
            },
            {
             "category": "sexual",
             "confidence": 0.1116
            },
            {
             "category": "insult",
             "confidence": 0.0737
            },
            {
             "category": "violence_or_threat",
             "confidence": 0.1144
            },
            {
             "category": "graphic",
             "confidence": 0.1161
            },
            {
             "category": "harassment_or_abuse",
             "confidence": 0.0583
            }
           ],
           "start_timestamp_millis": 194520,
           "type": "AUDIO_MODERATION"
          }
         ],
         "duration_frames": 5046,
         "duration_millis": 168333,
         "duration_smpte": "00:02:48;08",
         "end_frame_index": 5936,
         "end_timecode_smpte": "00:03:18;01",
         "end_timestamp_millis": 198063,
         "frames": [
          {
           "content_moderation": [],
           "frame_index": 993,
           "logos": [],
           "text_lines": [],
           "text_words": [],
           "timecode_smpte": "00:00:33;02",
           "timestamp_millis": 33099
          },
          {
           "content_moderation": [],
           "frame_index": 1217,
           "logos": [],
           "text_lines": [],
           "text_words": [],
           "timecode_smpte": "00:00:40;18",
           "timestamp_millis": 40607
          },
          {
           "content_moderation": [],
           "frame_index": 1427,
           "logos": [],
           "text_lines": [],
           "text_words": [],
           "timecode_smpte": "00:00:47;18",
           "timestamp_millis": 47614
          },
          {
           "content_moderation": [],
           "frame_index": 1549,
           "logos": [],
           "text_lines": [],
           "text_words": [],
           "timecode_smpte": "00:00:51;18",
           "timestamp_millis": 51651
          },
          {
           "content_moderation": [],
           "frame_index": 1699,
           "logos": [],
           "text_lines": [],
           "text_words": [],
           "timecode_smpte": "00:00:56;18",
           "timestamp_millis": 56656
          },
          {
           "content_moderation": [],
           "frame_index": 1968,
           "logos": [],
           "text_lines": [],
           "text_words": [],
           "timecode_smpte": "00:01:05;20",
           "timestamp_millis": 65665
          },
          {
           "content_moderation": [],
           "frame_index": 2220,
           "logos": [],
           "text_lines": [],
           "text_words": [],
           "timecode_smpte": "00:01:14;02",
           "timestamp_millis": 74041
          },
          {
           "content_moderation": [],
           "frame_index": 2340,
           "logos": [],
           "text_lines": [],
           "text_words": [],
           "timecode_smpte": "00:01:18;02",
           "timestamp_millis": 78045
          },
          {
           "content_moderation": [],
           "frame_index": 2505,
           "logos": [],
           "text_lines": [],
           "text_words": [],
           "timecode_smpte": "00:01:23;16",
           "timestamp_millis": 83550
          },
          {
           "content_moderation": [],
           "frame_index": 2610,
           "logos": [],
           "text_lines": [],
           "text_words": [],
           "timecode_smpte": "00:01:27;02",
           "timestamp_millis": 87054
          },
          {
           "content_moderation": [],
           "frame_index": 2654,
           "logos": [],
           "text_lines": [],
           "text_words": [],
           "timecode_smpte": "00:01:28;16",
           "timestamp_millis": 88555
          },
          {
           "content_moderation": [],
           "frame_index": 2849,
           "logos": [],
           "text_lines": [],
           "text_words": [],
           "timecode_smpte": "00:01:35;02",
           "timestamp_millis": 95062
          },
          {
           "content_moderation": [],
           "frame_index": 3074,
           "logos": [],
           "text_lines": [],
           "text_words": [],
           "timecode_smpte": "00:01:42;16",
           "timestamp_millis": 102569
          },
          {
           "content_moderation": [],
           "frame_index": 3205,
           "logos": [],
           "text_lines": [],
           "text_words": [],
           "timecode_smpte": "00:01:46;26",
           "timestamp_millis": 106906
          },
          {
           "content_moderation": [],
           "frame_index": 3295,
           "logos": [],
           "text_lines": [],
           "text_words": [],
           "timecode_smpte": "00:01:49;26",
           "timestamp_millis": 109909
          },
          {
           "content_moderation": [],
           "frame_index": 3445,
           "logos": [],
           "text_lines": [],
           "text_words": [],
           "timecode_smpte": "00:01:54;26",
           "timestamp_millis": 114914
          },
          {
           "content_moderation": [],
           "frame_index": 3609,
           "logos": [],
           "text_lines": [],
           "text_words": [],
           "timecode_smpte": "00:02:00;14",
           "timestamp_millis": 120420
          },
          {
           "content_moderation": [],
           "frame_index": 3800,
           "logos": [],
           "text_lines": [],
           "text_words": [],
           "timecode_smpte": "00:02:06;24",
           "timestamp_millis": 126760
          },
          {
           "content_moderation": [],
           "frame_index": 4070,
           "logos": [],
           "text_lines": [],
           "text_words": [],
           "timecode_smpte": "00:02:15;24",
           "timestamp_millis": 135769
          },
          {
           "content_moderation": [],
           "frame_index": 4174,
           "logos": [],
           "text_lines": [],
           "text_words": [],
           "timecode_smpte": "00:02:19;08",
           "timestamp_millis": 139272
          },
          {
           "content_moderation": [],
           "frame_index": 4294,
           "logos": [],
           "text_lines": [],
           "text_words": [],
           "timecode_smpte": "00:02:23;08",
           "timestamp_millis": 143276
          },
          {
           "content_moderation": [],
           "frame_index": 4605,
           "logos": [],
           "text_lines": [],
           "text_words": [],
           "timecode_smpte": "00:02:33;18",
           "timestamp_millis": 153620
          },
          {
           "content_moderation": [],
           "frame_index": 5009,
           "logos": [],
           "text_lines": [],
           "text_words": [],
           "timecode_smpte": "00:02:47;04",
           "timestamp_millis": 167134
          },
          {
           "content_moderation": [],
           "frame_index": 5189,
           "logos": [],
           "text_lines": [],
           "text_words": [],
           "timecode_smpte": "00:02:53;04",
           "timestamp_millis": 173140
          },
          {
           "content_moderation": [],
           "frame_index": 5369,
           "logos": [],
           "text_lines": [],
           "text_words": [],
           "timecode_smpte": "00:02:59;04",
           "timestamp_millis": 179146
          },
          {
           "content_moderation": [],
           "frame_index": 5650,
           "logos": [],
           "text_lines": [],
           "text_words": [],
           "timecode_smpte": "00:03:08;16",
           "timestamp_millis": 188488
          },
          {
           "content_moderation": [],
           "frame_index": 5844,
           "logos": [],
           "text_lines": [],
           "text_words": [],
           "timecode_smpte": "00:03:15;00",
           "timestamp_millis": 194994
          }
         ],
         "iab_categories": [
          {
           "category": "Hobbies and Interests",
           "confidence": 0.74,
           "id": "0",
           "parent_id": null,
           "parent_name": null,
           "taxonomy_level": 1,
           "type": "IAB"
          },
          {
           "category": "Content Production",
           "confidence": 0.74,
           "id": "1",
           "parent_id": null,
           "parent_name": "Hobbies and Interests",
           "taxonomy_level": 2,
           "type": "IAB"
          },
          {
           "category": "Style and Fashion",
           "confidence": 0.72400004,
           "id": "2",
           "parent_id": null,
           "parent_name": null,
           "taxonomy_level": 1,
           "type": "IAB"
          },
          {
           "category": "Men's Fashion",
           "confidence": 0.72400004,
           "id": "3",
           "parent_id": null,
           "parent_name": "Style and Fashion",
           "taxonomy_level": 2,
           "type": "IAB"
          },
          {
           "category": "Crime",
           "confidence": 0.65099996,
           "id": "4",
           "parent_id": null,
           "parent_name": null,
           "taxonomy_level": 1,
           "type": "IAB"
          },
          {
           "category": "Style and Fashion",
           "confidence": 0.58,
           "id": "5",
           "parent_id": null,
           "parent_name": null,
           "taxonomy_level": 1,
           "type": "IAB"
          },
          {
           "category": "Women's Fashion",
           "confidence": 0.58,
           "id": "6",
           "parent_id": null,
           "parent_name": "Style and Fashion",
           "taxonomy_level": 2,
           "type": "IAB"
          },
          {
           "category": "Sensitive Topics",
           "confidence": 0.537,
           "id": "7",
           "parent_id": null,
           "parent_name": null,
           "taxonomy_level": 1,
           "type": "IAB"
          },
          {
           "category": "Death, Injury, or Military Conflict",
           "confidence": 0.537,
           "id": "8",
           "parent_id": null,
           "parent_name": "Sensitive Topics",
           "taxonomy_level": 2,
           "type": "IAB"
          },
          {
           "category": "Family and Relationships",
           "confidence": 0.52900004,
           "id": "9",
           "parent_id": null,
           "parent_name": null,
           "taxonomy_level": 1,
           "type": "IAB"
          },
          {
           "category": "Bereavement",
           "confidence": 0.52900004,
           "id": "10",
           "parent_id": null,
           "parent_name": "Family and Relationships",
           "taxonomy_level": 2,
           "type": "IAB"
          },
          {
           "category": "Law",
           "confidence": 0.52,
           "id": "11",
           "parent_id": null,
           "parent_name": null,
           "taxonomy_level": 1,
           "type": "IAB"
          }
         ],
         "segment_index": null,
         "shot_indices": [
          9,
          10,
          11,
          12,
          13,
          14,
          15,
          16,
          17,
          18,
          19,
          20,
          21,
          22,
          23,
          24,
          25,
          26,
          27,
          28,
          29,
          30,
          31,
          32,
          33,
          34,
          35,
          36
         ],
         "start_frame_index": 891,
         "start_timecode_smpte": "00:00:29;22",
         "start_timestamp_millis": 29730,
         "sub_chapter_index": null,
         "summary": "In a dimly lit detective's office, an older man and a younger man in a vest discuss a mysterious case. The older man describes a location above El Matador, where Mickey Cohen used to send associates for \"bon voyage\" mob hits. The younger man expresses skepticism about this being a mob hit, noting that one of the victims was a school teacher, another an insurance salesman, and the third a retired man. When the older man suggests the younger man shouldn't go to the location, the younger man becomes defensive. The older man explains that the victims took a cold swim to their deaths, but the younger man insists there are no bodies and someone was there the day the last man disappeared. The younger man reveals he had a witness checked out, who is now a scout. Initially dismissing the witness's story, the younger man admits he now believes him. He recounts the witness's account: a man saw someone on top of the rock looking for something or someone, then the weather changed dramatically with thunder, lightning, and bombs. When the witness looked back, the man was gone but a woman in a white dress was staring at him. The older man listens intently as the younger man concludes by asking if that was the witness's story.",
         "transcript": {
          "representation": {
           "text": "[spk_1]: Yeah, on that stretch of road right above El Matador. You know it. With the big rock that's right, yeah.\n\n[spk_0]: Mickey Cohen used to take his associates out there, bid him a bon voyage.\n\n[spk_1]: Mob hits. No, not this time. One of these guys was a school teacher. Next guy, he sold insurance. The last guy, he was retired.\n\n[spk_0]: Any connection?\n\n[spk_1]: Mm. I mean, I checked them all out. There's no criminal records, no association with any criminal organizations. One of the guys was arrested for drunk driving a long time ago. They were all divorced.\n\n[spk_0]: Well, in that case, maybe you don't want to go out there, boss.\n\n[spk_1]: What are you, a comedian? If that's the case, you sure don't want to go out there. Yeah,\n\n[spk_0]: look, I know what happened, all right. They go out to the rock. They take that long, cold, slow swim to China,\n\n[spk_1]: suicide.\n\n[spk_0]: It's been known to happen out there.\n\n[spk_1]: No, not this time. What do you mean? Well, for one thing, there's no bodies, and Somebody was out there the day the last guy disappeared.\n\n[spk_0]: A witness,\n\n[spk_1]: yeah, a witness.\n\n[spk_0]: Why didn't you say that in the first place?\n\n[spk_1]: Because I thought the guy was nuts what he said.\n\n[spk_0]: But now you believe him.\n\n[spk_1]: I had him checked out too. Guy's a goddamn Eagle Scout, so now, now I don't know what to believe. I know I don't want to believe him.\n\n[spk_0]: What did he say?\n\n[spk_1]: He said he was out there walking his dog along the bluffs above El Matador, right? And he looks down at the beach at that huge rock, you know, the one that's separated from the mainland right where the ocean meets the shore. His words, looks like a, like a mythic sea creature, you know, that one. Anyway, he looks down there and there's a guy who's on top of that rock. And he's thinking to himself, how the hell do you get up there? You gotta be a goddamn mountain climber. But more importantly, he says the guy's acting really funny. He's looking all over that rock like he's looking for something or someone. At that very moment, he says it got really, really dark, really fast, and bombs start going off in the air, thunder and lightning, weather like he'd never seen before, coming from, he didn't know where. When he looks back at the rock, the guy's gone. But there's a woman there. She's in a white dress, alabaster skin, his words, and he says she's staring right up at him. He sees her, she's beautiful. But like she's from some other time, some other place. He looks back at the weather because it's getting worse and worse. He decides to hightail it out of there. And that was it. That was his story, right?"
          }
         }
        },
        {
         "audio_segments": [
          {
           "audio_item_indices": null,
           "channel": null,
           "end_timestamp_millis": 199550,
           "id": null,
           "language": null,
           "segment_index": 35,
           "sensitive_data_detection": null,
           "speaker": {
            "speaker_label": "spk_1",
            "speaker_name": "None"
           },
           "start_timestamp_millis": 198810,
           "text": "So now",
           "type": "TRANSCRIPT"
          },
          {
           "audio_item_indices": null,
           "channel": null,
           "end_timestamp_millis": 201140,
           "id": null,
           "language": null,
           "segment_index": 36,
           "sensitive_data_detection": null,
           "speaker": {
            "speaker_label": "spk_1",
            "speaker_name": "None"
           },
           "start_timestamp_millis": 200630,
           "text": "Now",
           "type": "TRANSCRIPT"
          },
          {
           "audio_item_indices": null,
           "channel": null,
           "end_timestamp_millis": 203660,
           "id": null,
           "language": null,
           "segment_index": 37,
           "sensitive_data_detection": null,
           "speaker": {
            "speaker_label": "spk_1",
            "speaker_name": "None"
           },
           "start_timestamp_millis": 201910,
           "text": "I need you to go up there and find that woman.",
           "type": "TRANSCRIPT"
          }
         ],
         "chapter_index": 6,
         "content_moderation": [
          {
           "confidence": 0.0639,
           "end_timestamp_millis": 199550,
           "id": "9c604861-0865-4a06-9579-eff986106d28",
           "moderation_categories": [
            {
             "category": "profanity",
             "confidence": 0.1116
            },
            {
             "category": "hate_speech",
             "confidence": 0.1065
            },
            {
             "category": "sexual",
             "confidence": 0.1116
            },
            {
             "category": "insult",
             "confidence": 0.0737
            },
            {
             "category": "violence_or_threat",
             "confidence": 0.1144
            },
            {
             "category": "graphic",
             "confidence": 0.1161
            },
            {
             "category": "harassment_or_abuse",
             "confidence": 0.0583
            }
           ],
           "start_timestamp_millis": 198810,
           "type": "AUDIO_MODERATION"
          },
          {
           "confidence": 0.0639,
           "end_timestamp_millis": 201140,
           "id": "aaa4e790-b58f-4561-876b-8618a83eeb3d",
           "moderation_categories": [
            {
             "category": "profanity",
             "confidence": 0.1116
            },
            {
             "category": "hate_speech",
             "confidence": 0.1065
            },
            {
             "category": "sexual",
             "confidence": 0.1116
            },
            {
             "category": "insult",
             "confidence": 0.0737
            },
            {
             "category": "violence_or_threat",
             "confidence": 0.1144
            },
            {
             "category": "graphic",
             "confidence": 0.1161
            },
            {
             "category": "harassment_or_abuse",
             "confidence": 0.0583
            }
           ],
           "start_timestamp_millis": 200630,
           "type": "AUDIO_MODERATION"
          },
          {
           "confidence": 0.0639,
           "end_timestamp_millis": 203660,
           "id": "943c0047-5c1a-49db-bce8-b757badaf37a",
           "moderation_categories": [
            {
             "category": "profanity",
             "confidence": 0.1116
            },
            {
             "category": "hate_speech",
             "confidence": 0.1065
            },
            {
             "category": "sexual",
             "confidence": 0.1116
            },
            {
             "category": "insult",
             "confidence": 0.0737
            },
            {
             "category": "violence_or_threat",
             "confidence": 0.1144
            },
            {
             "category": "graphic",
             "confidence": 0.1161
            },
            {
             "category": "harassment_or_abuse",
             "confidence": 0.0583
            }
           ],
           "start_timestamp_millis": 201910,
           "type": "AUDIO_MODERATION"
          }
         ],
         "duration_frames": 196,
         "duration_millis": 6539,
         "duration_smpte": "00:00:06;15",
         "end_frame_index": 6132,
         "end_timecode_smpte": "00:03:24;17",
         "end_timestamp_millis": 204603,
         "frames": [
          {
           "content_moderation": [],
           "frame_index": 5960,
           "logos": [],
           "text_lines": [],
           "text_words": [],
           "timecode_smpte": "00:03:18;26",
           "timestamp_millis": 198832
          },
          {
           "content_moderation": [],
           "frame_index": 5975,
           "logos": [],
           "text_lines": [],
           "text_words": [],
           "timecode_smpte": "00:03:19;10",
           "timestamp_millis": 199332
          },
          {
           "content_moderation": [],
           "frame_index": 5990,
           "logos": [],
           "text_lines": [],
           "text_words": [],
           "timecode_smpte": "00:03:19;26",
           "timestamp_millis": 199833
          },
          {
           "content_moderation": [],
           "frame_index": 6005,
           "logos": [],
           "text_lines": [],
           "text_words": [],
           "timecode_smpte": "00:03:20;10",
           "timestamp_millis": 200333
          },
          {
           "content_moderation": [],
           "frame_index": 6020,
           "logos": [],
           "text_lines": [],
           "text_words": [],
           "timecode_smpte": "00:03:20;26",
           "timestamp_millis": 200834
          },
          {
           "content_moderation": [],
           "frame_index": 6035,
           "logos": [],
           "text_lines": [],
           "text_words": [],
           "timecode_smpte": "00:03:21;10",
           "timestamp_millis": 201334
          },
          {
           "content_moderation": [],
           "frame_index": 6050,
           "logos": [],
           "text_lines": [],
           "text_words": [],
           "timecode_smpte": "00:03:21;26",
           "timestamp_millis": 201835
          },
          {
           "content_moderation": [],
           "frame_index": 6065,
           "logos": [],
           "text_lines": [],
           "text_words": [],
           "timecode_smpte": "00:03:22;10",
           "timestamp_millis": 202335
          },
          {
           "content_moderation": [],
           "frame_index": 6080,
           "logos": [],
           "text_lines": [],
           "text_words": [],
           "timecode_smpte": "00:03:22;26",
           "timestamp_millis": 202836
          },
          {
           "content_moderation": [],
           "frame_index": 6095,
           "logos": [],
           "text_lines": [],
           "text_words": [],
           "timecode_smpte": "00:03:23;10",
           "timestamp_millis": 203336
          },
          {
           "content_moderation": [],
           "frame_index": 6110,
           "logos": [],
           "text_lines": [],
           "text_words": [],
           "timecode_smpte": "00:03:23;26",
           "timestamp_millis": 203837
          },
          {
           "content_moderation": [],
           "frame_index": 6125,
           "logos": [],
           "text_lines": [],
           "text_words": [],
           "timecode_smpte": "00:03:24;10",
           "timestamp_millis": 204337
          }
         ],
         "iab_categories": [
          {
           "category": "Automotive",
           "confidence": 0.999,
           "id": "0",
           "parent_id": null,
           "parent_name": null,
           "taxonomy_level": 1,
           "type": "IAB"
          },
          {
           "category": "Auto Type",
           "confidence": 0.999,
           "id": "1",
           "parent_id": null,
           "parent_name": "Automotive",
           "taxonomy_level": 2,
           "type": "IAB"
          },
          {
           "category": "Automotive",
           "confidence": 0.91800004,
           "id": "2",
           "parent_id": null,
           "parent_name": null,
           "taxonomy_level": 1,
           "type": "IAB"
          },
          {
           "category": "Auto Body Styles",
           "confidence": 0.91800004,
           "id": "3",
           "parent_id": null,
           "parent_name": "Automotive",
           "taxonomy_level": 2,
           "type": "IAB"
          },
          {
           "category": "Travel",
           "confidence": 0.862,
           "id": "4",
           "parent_id": null,
           "parent_name": null,
           "taxonomy_level": 1,
           "type": "IAB"
          },
          {
           "category": "Travel Type",
           "confidence": 0.862,
           "id": "5",
           "parent_id": null,
           "parent_name": "Travel",
           "taxonomy_level": 2,
           "type": "IAB"
          },
          {
           "category": "Sensitive Topics",
           "confidence": 0.636,
           "id": "6",
           "parent_id": null,
           "parent_name": null,
           "taxonomy_level": 1,
           "type": "IAB"
          },
          {
           "category": "Illegal Drugs, Tobacco, eCigarettes, Vaping, Alcohol",
           "confidence": 0.636,
           "id": "7",
           "parent_id": null,
           "parent_name": "Sensitive Topics",
           "taxonomy_level": 2,
           "type": "IAB"
          }
         ],
         "segment_index": null,
         "shot_indices": [
          37
         ],
         "start_frame_index": 5937,
         "start_timecode_smpte": "00:03:18;03",
         "start_timestamp_millis": 198064,
         "sub_chapter_index": null,
         "summary": "A vintage black sedan drives along a desert highway between mountains. The car moves steadily through the landscape. An unseen speaker gives instructions over the phone: \"So now I need you to go up there and find that woman.\" The speaker is assigning a mission to locate a specific woman in this remote area. The car continues driving, seemingly heading toward the location where the woman might be found.",
         "transcript": {
          "representation": {
           "text": "[spk_1]: So now Now I need you to go up there and find that woman."
          }
         }
        },
        {
         "audio_segments": [
          {
           "audio_item_indices": null,
           "channel": null,
           "end_timestamp_millis": 209580,
           "id": null,
           "language": null,
           "segment_index": 38,
           "sensitive_data_detection": null,
           "speaker": {
            "speaker_label": "spk_0",
            "speaker_name": "None"
           },
           "start_timestamp_millis": 207240,
           "text": "So these guys just disappear.",
           "type": "TRANSCRIPT"
          },
          {
           "audio_item_indices": null,
           "channel": null,
           "end_timestamp_millis": 230290,
           "id": null,
           "language": null,
           "segment_index": 39,
           "sensitive_data_detection": null,
           "speaker": {
            "speaker_label": "spk_1",
            "speaker_name": "None"
           },
           "start_timestamp_millis": 210800,
           "text": "No, not this time. Somebody was out there the day the last guy disappeared. A witness, yeah, a witness. He said that he was up there walking his dog along those bluffs above El Matador, and there's a guy who's on top of that rock. He's just like looking all over the rock as if he's looking for someone or something.",
           "type": "TRANSCRIPT"
          },
          {
           "audio_item_indices": null,
           "channel": null,
           "end_timestamp_millis": 236600,
           "id": null,
           "language": null,
           "segment_index": 40,
           "sensitive_data_detection": null,
           "speaker": {
            "speaker_label": "spk_1",
            "speaker_name": "None"
           },
           "start_timestamp_millis": 233080,
           "text": "Then it gets dark all of a sudden really fast.",
           "type": "TRANSCRIPT"
          },
          {
           "audio_item_indices": null,
           "channel": null,
           "end_timestamp_millis": 240410,
           "id": null,
           "language": null,
           "segment_index": 41,
           "sensitive_data_detection": null,
           "speaker": {
            "speaker_label": "spk_1",
            "speaker_name": "None"
           },
           "start_timestamp_millis": 237480,
           "text": "Like thunder and lightning from everywhere, all this weather.",
           "type": "TRANSCRIPT"
          },
          {
           "audio_item_indices": null,
           "channel": null,
           "end_timestamp_millis": 249760,
           "id": null,
           "language": null,
           "segment_index": 42,
           "sensitive_data_detection": null,
           "speaker": {
            "speaker_label": "spk_1",
            "speaker_name": "None"
           },
           "start_timestamp_millis": 242330,
           "text": "When he looks back at the rock. The guy's gone, but there's a woman there in a long white dress with alabaster skin.",
           "type": "TRANSCRIPT"
          },
          {
           "audio_item_indices": null,
           "channel": null,
           "end_timestamp_millis": 253390,
           "id": null,
           "language": null,
           "segment_index": 43,
           "sensitive_data_detection": null,
           "speaker": {
            "speaker_label": "spk_1",
            "speaker_name": "None"
           },
           "start_timestamp_millis": 250520,
           "text": "And she's staring right up at him, not moving.",
           "type": "TRANSCRIPT"
          },
          {
           "audio_item_indices": null,
           "channel": null,
           "end_timestamp_millis": 256370,
           "id": null,
           "language": null,
           "segment_index": 44,
           "sensitive_data_detection": null,
           "speaker": {
            "speaker_label": "spk_1",
            "speaker_name": "None"
           },
           "start_timestamp_millis": 255200,
           "text": "Now I don't know what to believe.",
           "type": "TRANSCRIPT"
          }
         ],
         "chapter_index": 7,
         "content_moderation": [
          {
           "confidence": 0.0639,
           "end_timestamp_millis": 209580,
           "id": "333b64c3-c9f2-4d76-be7c-6dce79244189",
           "moderation_categories": [
            {
             "category": "profanity",
             "confidence": 0.1116
            },
            {
             "category": "hate_speech",
             "confidence": 0.1065
            },
            {
             "category": "sexual",
             "confidence": 0.1116
            },
            {
             "category": "insult",
             "confidence": 0.0737
            },
            {
             "category": "violence_or_threat",
             "confidence": 0.1144
            },
            {
             "category": "graphic",
             "confidence": 0.1161
            },
            {
             "category": "harassment_or_abuse",
             "confidence": 0.0583
            }
           ],
           "start_timestamp_millis": 207240,
           "type": "AUDIO_MODERATION"
          },
          {
           "confidence": 0.0639,
           "end_timestamp_millis": 230290,
           "id": "c28aacef-0541-4f1a-9058-572dd17c6d5f",
           "moderation_categories": [
            {
             "category": "profanity",
             "confidence": 0.1116
            },
            {
             "category": "hate_speech",
             "confidence": 0.1065
            },
            {
             "category": "sexual",
             "confidence": 0.1116
            },
            {
             "category": "insult",
             "confidence": 0.0737
            },
            {
             "category": "violence_or_threat",
             "confidence": 0.1144
            },
            {
             "category": "graphic",
             "confidence": 0.1161
            },
            {
             "category": "harassment_or_abuse",
             "confidence": 0.0583
            }
           ],
           "start_timestamp_millis": 210800,
           "type": "AUDIO_MODERATION"
          },
          {
           "confidence": 0.0639,
           "end_timestamp_millis": 236600,
           "id": "65e746c9-a115-492e-9f26-4ee82436e091",
           "moderation_categories": [
            {
             "category": "profanity",
             "confidence": 0.1116
            },
            {
             "category": "hate_speech",
             "confidence": 0.1065
            },
            {
             "category": "sexual",
             "confidence": 0.1116
            },
            {
             "category": "insult",
             "confidence": 0.0737
            },
            {
             "category": "violence_or_threat",
             "confidence": 0.1144
            },
            {
             "category": "graphic",
             "confidence": 0.1161
            },
            {
             "category": "harassment_or_abuse",
             "confidence": 0.0583
            }
           ],
           "start_timestamp_millis": 233080,
           "type": "AUDIO_MODERATION"
          },
          {
           "confidence": 0.0639,
           "end_timestamp_millis": 240410,
           "id": "9ed5775d-657f-4acd-a9c9-e424b0482d80",
           "moderation_categories": [
            {
             "category": "profanity",
             "confidence": 0.1116
            },
            {
             "category": "hate_speech",
             "confidence": 0.1065
            },
            {
             "category": "sexual",
             "confidence": 0.1116
            },
            {
             "category": "insult",
             "confidence": 0.0737
            },
            {
             "category": "violence_or_threat",
             "confidence": 0.1144
            },
            {
             "category": "graphic",
             "confidence": 0.1161
            },
            {
             "category": "harassment_or_abuse",
             "confidence": 0.0583
            }
           ],
           "start_timestamp_millis": 237480,
           "type": "AUDIO_MODERATION"
          },
          {
           "confidence": 0.0639,
           "end_timestamp_millis": 249760,
           "id": "533f73a2-2a87-4c7a-bb1d-d7d6dc916941",
           "moderation_categories": [
            {
             "category": "profanity",
             "confidence": 0.1116
            },
            {
             "category": "hate_speech",
             "confidence": 0.1065
            },
            {
             "category": "sexual",
             "confidence": 0.1116
            },
            {
             "category": "insult",
             "confidence": 0.0737
            },
            {
             "category": "violence_or_threat",
             "confidence": 0.1144
            },
            {
             "category": "graphic",
             "confidence": 0.1161
            },
            {
             "category": "harassment_or_abuse",
             "confidence": 0.0583
            }
           ],
           "start_timestamp_millis": 242330,
           "type": "AUDIO_MODERATION"
          },
          {
           "confidence": 0.0639,
           "end_timestamp_millis": 253390,
           "id": "8fa1f829-9168-4f1f-bbb2-3027a7abec53",
           "moderation_categories": [
            {
             "category": "profanity",
             "confidence": 0.1116
            },
            {
             "category": "hate_speech",
             "confidence": 0.1065
            },
            {
             "category": "sexual",
             "confidence": 0.1116
            },
            {
             "category": "insult",
             "confidence": 0.0737
            },
            {
             "category": "violence_or_threat",
             "confidence": 0.1144
            },
            {
             "category": "graphic",
             "confidence": 0.1161
            },
            {
             "category": "harassment_or_abuse",
             "confidence": 0.0583
            }
           ],
           "start_timestamp_millis": 250520,
           "type": "AUDIO_MODERATION"
          },
          {
           "confidence": 0.0639,
           "end_timestamp_millis": 256370,
           "id": "da44c5aa-178b-42fd-bcda-de053dabdfe0",
           "moderation_categories": [
            {
             "category": "profanity",
             "confidence": 0.1116
            },
            {
             "category": "hate_speech",
             "confidence": 0.1065
            },
            {
             "category": "sexual",
             "confidence": 0.1116
            },
            {
             "category": "insult",
             "confidence": 0.0737
            },
            {
             "category": "violence_or_threat",
             "confidence": 0.1144
            },
            {
             "category": "graphic",
             "confidence": 0.1161
            },
            {
             "category": "harassment_or_abuse",
             "confidence": 0.0583
            }
           ],
           "start_timestamp_millis": 255200,
           "type": "AUDIO_MODERATION"
          }
         ],
         "duration_frames": 1544,
         "duration_millis": 51518,
         "duration_smpte": "00:00:51;13",
         "end_frame_index": 7676,
         "end_timecode_smpte": "00:04:16;03",
         "end_timestamp_millis": 256122,
         "frames": [
          {
           "content_moderation": [],
           "frame_index": 6679,
           "logos": [],
           "text_lines": [],
           "text_words": [],
           "timecode_smpte": "00:03:42;26",
           "timestamp_millis": 222856
          },
          {
           "content_moderation": [],
           "frame_index": 7050,
           "logos": [],
           "text_lines": [],
           "text_words": [],
           "timecode_smpte": "00:03:55;06",
           "timestamp_millis": 235202
          },
          {
           "content_moderation": [],
           "frame_index": 7095,
           "logos": [],
           "text_lines": [],
           "text_words": [],
           "timecode_smpte": "00:03:56;20",
           "timestamp_millis": 236703
          },
          {
           "content_moderation": [],
           "frame_index": 7125,
           "logos": [],
           "text_lines": [],
           "text_words": [],
           "timecode_smpte": "00:03:57;20",
           "timestamp_millis": 237704
          },
          {
           "content_moderation": [],
           "frame_index": 7170,
           "logos": [],
           "text_lines": [],
           "text_words": [],
           "timecode_smpte": "00:03:59;06",
           "timestamp_millis": 239206
          },
          {
           "content_moderation": [],
           "frame_index": 7200,
           "logos": [],
           "text_lines": [],
           "text_words": [],
           "timecode_smpte": "00:04:00;08",
           "timestamp_millis": 240207
          },
          {
           "content_moderation": [],
           "frame_index": 7259,
           "logos": [],
           "text_lines": [],
           "text_words": [],
           "timecode_smpte": "00:04:02;08",
           "timestamp_millis": 242209
          },
          {
           "content_moderation": [],
           "frame_index": 7319,
           "logos": [],
           "text_lines": [],
           "text_words": [],
           "timecode_smpte": "00:04:04;08",
           "timestamp_millis": 244211
          },
          {
           "content_moderation": [],
           "frame_index": 7495,
           "logos": [],
           "text_lines": [],
           "text_words": [],
           "timecode_smpte": "00:04:10;02",
           "timestamp_millis": 250050
          },
          {
           "content_moderation": [],
           "frame_index": 7604,
           "logos": [],
           "text_lines": [],
           "text_words": [],
           "timecode_smpte": "00:04:13;22",
           "timestamp_millis": 253720
          },
          {
           "content_moderation": [],
           "frame_index": 7619,
           "logos": [],
           "text_lines": [],
           "text_words": [],
           "timecode_smpte": "00:04:14;08",
           "timestamp_millis": 254221
          },
          {
           "content_moderation": [],
           "frame_index": 7634,
           "logos": [],
           "text_lines": [],
           "text_words": [],
           "timecode_smpte": "00:04:14;22",
           "timestamp_millis": 254721
          },
          {
           "content_moderation": [],
           "frame_index": 7645,
           "logos": [],
           "text_lines": [],
           "text_words": [],
           "timecode_smpte": "00:04:15;02",
           "timestamp_millis": 255055
          },
          {
           "content_moderation": [],
           "frame_index": 7660,
           "logos": [],
           "text_lines": [],
           "text_words": [],
           "timecode_smpte": "00:04:15;18",
           "timestamp_millis": 255556
          },
          {
           "content_moderation": [],
           "frame_index": 7675,
           "logos": [],
           "text_lines": [],
           "text_words": [],
           "timecode_smpte": "00:04:16;02",
           "timestamp_millis": 256056
          }
         ],
         "iab_categories": [
          {
           "category": "Law",
           "confidence": 0.925,
           "id": "0",
           "parent_id": null,
           "parent_name": null,
           "taxonomy_level": 1,
           "type": "IAB"
          },
          {
           "category": "Crime",
           "confidence": 0.51,
           "id": "1",
           "parent_id": null,
           "parent_name": null,
           "taxonomy_level": 1,
           "type": "IAB"
          }
         ],
         "segment_index": null,
         "shot_indices": [
          38,
          39,
          40,
          41,
          42,
          43,
          44,
          45,
          46,
          47,
          48,
          49,
          50,
          51,
          52,
          53,
          54,
          55,
          56
         ],
         "start_frame_index": 6133,
         "start_timecode_smpte": "00:03:24;19",
         "start_timestamp_millis": 204604,
         "sub_chapter_index": null,
         "summary": "A man in a dark suit drives through a rural area at night, his expression serious and focused. He discusses a case with an unseen speaker who reveals that unlike previous disappearances, this time there was a witness. The witness reported seeing a person on top of a rock near El Matador bluffs while walking his dog. As the weather suddenly changes with dark clouds and lightning, the witness claims the person on the rock vanished. However, the witness observed a woman in a long white dress with alabaster skin standing on the rock, staring directly at him without moving. The man in the car becomes increasingly tense as he processes this information, particularly when he sees a woman with long dark hair reflected in his rearview mirror, her face illuminated by the car's interior light. The woman remains motionless and stares back at him, creating an unsettling connection between the witness's story and the current situation.",
         "transcript": {
          "representation": {
           "text": "[spk_0]: So these guys just disappear.\n\n[spk_1]: No, not this time. Somebody was out there the day the last guy disappeared. A witness, yeah, a witness. He said that he was up there walking his dog along those bluffs above El Matador, and there's a guy who's on top of that rock. He's just like looking all over the rock as if he's looking for someone or something. Then it gets dark all of a sudden really fast. Like thunder and lightning from everywhere, all this weather. When he looks back at the rock. The guy's gone, but there's a woman there in a long white dress with alabaster skin. And she's staring right up at him, not moving. Now I don't know what to"
          }
         }
        },
        {
         "audio_segments": [
          {
           "audio_item_indices": null,
           "channel": null,
           "end_timestamp_millis": 259500,
           "id": null,
           "language": null,
           "segment_index": 45,
           "sensitive_data_detection": null,
           "speaker": {
            "speaker_label": "spk_1",
            "speaker_name": "None"
           },
           "start_timestamp_millis": 257980,
           "text": "I know I sure don't want to believe him.",
           "type": "TRANSCRIPT"
          }
         ],
         "chapter_index": 8,
         "content_moderation": [
          {
           "confidence": 0.0639,
           "end_timestamp_millis": 259500,
           "id": "c0ea899f-dba1-4b59-9959-e387b73b822e",
           "moderation_categories": [
            {
             "category": "profanity",
             "confidence": 0.1116
            },
            {
             "category": "hate_speech",
             "confidence": 0.1065
            },
            {
             "category": "sexual",
             "confidence": 0.1116
            },
            {
             "category": "insult",
             "confidence": 0.0737
            },
            {
             "category": "violence_or_threat",
             "confidence": 0.1144
            },
            {
             "category": "graphic",
             "confidence": 0.1161
            },
            {
             "category": "harassment_or_abuse",
             "confidence": 0.0583
            }
           ],
           "start_timestamp_millis": 257980,
           "type": "AUDIO_MODERATION"
          }
         ],
         "duration_frames": 290,
         "duration_millis": 9676,
         "duration_smpte": "00:00:09;20",
         "end_frame_index": 7966,
         "end_timecode_smpte": "00:04:25;24",
         "end_timestamp_millis": 265799,
         "frames": [
          {
           "content_moderation": [],
           "frame_index": 7690,
           "logos": [],
           "text_lines": [],
           "text_words": [],
           "timecode_smpte": "00:04:16;18",
           "timestamp_millis": 256557
          },
          {
           "content_moderation": [],
           "frame_index": 7720,
           "logos": [],
           "text_lines": [],
           "text_words": [],
           "timecode_smpte": "00:04:17;18",
           "timestamp_millis": 257558
          },
          {
           "content_moderation": [],
           "frame_index": 7765,
           "logos": [],
           "text_lines": [],
           "text_words": [],
           "timecode_smpte": "00:04:19;02",
           "timestamp_millis": 259059
          },
          {
           "content_moderation": [],
           "frame_index": 7795,
           "logos": [],
           "text_lines": [],
           "text_words": [],
           "timecode_smpte": "00:04:20;02",
           "timestamp_millis": 260060
          },
          {
           "content_moderation": [],
           "frame_index": 7825,
           "logos": [],
           "text_lines": [],
           "text_words": [],
           "timecode_smpte": "00:04:21;02",
           "timestamp_millis": 261061
          },
          {
           "content_moderation": [],
           "frame_index": 7870,
           "logos": [],
           "text_lines": [],
           "text_words": [],
           "timecode_smpte": "00:04:22;18",
           "timestamp_millis": 262563
          },
          {
           "content_moderation": [],
           "frame_index": 7900,
           "logos": [],
           "text_lines": [],
           "text_words": [],
           "timecode_smpte": "00:04:23;18",
           "timestamp_millis": 263564
          },
          {
           "content_moderation": [],
           "frame_index": 7915,
           "logos": [],
           "text_lines": [],
           "text_words": [],
           "timecode_smpte": "00:04:24;02",
           "timestamp_millis": 264064
          },
          {
           "content_moderation": [],
           "frame_index": 7930,
           "logos": [],
           "text_lines": [],
           "text_words": [],
           "timecode_smpte": "00:04:24;18",
           "timestamp_millis": 264565
          },
          {
           "content_moderation": [],
           "frame_index": 7945,
           "logos": [],
           "text_lines": [],
           "text_words": [],
           "timecode_smpte": "00:04:25;02",
           "timestamp_millis": 265065
          },
          {
           "content_moderation": [],
           "frame_index": 7960,
           "logos": [],
           "text_lines": [],
           "text_words": [],
           "timecode_smpte": "00:04:25;18",
           "timestamp_millis": 265566
          }
         ],
         "iab_categories": [
          {
           "category": "Sensitive Topics",
           "confidence": 0.72300005,
           "id": "0",
           "parent_id": null,
           "parent_name": null,
           "taxonomy_level": 1,
           "type": "IAB"
          },
          {
           "category": "Illegal Drugs, Tobacco, eCigarettes, Vaping, Alcohol",
           "confidence": 0.72300005,
           "id": "1",
           "parent_id": null,
           "parent_name": "Sensitive Topics",
           "taxonomy_level": 2,
           "type": "IAB"
          }
         ],
         "segment_index": null,
         "shot_indices": [
          57,
          58,
          59,
          60,
          61,
          62,
          63,
          64,
          65,
          66
         ],
         "start_frame_index": 7677,
         "start_timecode_smpte": "00:04:16;05",
         "start_timestamp_millis": 256123,
         "sub_chapter_index": null,
         "summary": "A man in a dark suit sits alone in a car at night, looking tense and worried. He mutters to himself, \"I know I sure don't want to believe him,\" indicating he is conflicted about some information he has received. The scene then shifts to a rearview mirror view of a woman with dark hair. She stares directly at the mirror, her face illuminated by the car's interior light. Raindrops on the mirror create a pattern of light and shadow. The woman remains completely still, her expression serious and focused. The scene suggests a tense situation involving both characters, with the man's reluctance to believe someone and the woman's unwavering attention.",
         "transcript": {
          "representation": {
           "text": "[spk_1]: I know I sure don't want to believe him."
          }
         }
        },
        {
         "audio_segments": [],
         "chapter_index": 9,
         "content_moderation": [],
         "duration_frames": 189,
         "duration_millis": 6306,
         "duration_smpte": "00:00:06;09",
         "end_frame_index": 8155,
         "end_timecode_smpte": "00:04:32;02",
         "end_timestamp_millis": 272105,
         "frames": [
          {
           "content_moderation": [],
           "frame_index": 7989,
           "logos": [],
           "text_lines": [],
           "text_words": [],
           "timecode_smpte": "00:04:26;18",
           "timestamp_millis": 266567
          },
          {
           "content_moderation": [],
           "frame_index": 8004,
           "logos": [],
           "text_lines": [],
           "text_words": [],
           "timecode_smpte": "00:04:27;02",
           "timestamp_millis": 267067
          },
          {
           "content_moderation": [],
           "frame_index": 8019,
           "logos": [],
           "text_lines": [],
           "text_words": [],
           "timecode_smpte": "00:04:27;18",
           "timestamp_millis": 267568
          },
          {
           "content_moderation": [],
           "frame_index": 8034,
           "logos": [],
           "text_lines": [],
           "text_words": [],
           "timecode_smpte": "00:04:28;02",
           "timestamp_millis": 268068
          },
          {
           "content_moderation": [],
           "frame_index": 8049,
           "logos": [],
           "text_lines": [],
           "text_words": [],
           "timecode_smpte": "00:04:28;18",
           "timestamp_millis": 268569
          },
          {
           "content_moderation": [],
           "frame_index": 8064,
           "logos": [],
           "text_lines": [],
           "text_words": [],
           "timecode_smpte": "00:04:29;02",
           "timestamp_millis": 269069
          },
          {
           "content_moderation": [],
           "frame_index": 8079,
           "logos": [],
           "text_lines": [],
           "text_words": [],
           "timecode_smpte": "00:04:29;18",
           "timestamp_millis": 269570
          },
          {
           "content_moderation": [],
           "frame_index": 8094,
           "logos": [],
           "text_lines": [],
           "text_words": [],
           "timecode_smpte": "00:04:30;02",
           "timestamp_millis": 270070
          },
          {
           "content_moderation": [],
           "frame_index": 8109,
           "logos": [],
           "text_lines": [],
           "text_words": [],
           "timecode_smpte": "00:04:30;18",
           "timestamp_millis": 270571
          },
          {
           "content_moderation": [],
           "frame_index": 8124,
           "logos": [],
           "text_lines": [],
           "text_words": [],
           "timecode_smpte": "00:04:31;02",
           "timestamp_millis": 271071
          },
          {
           "content_moderation": [],
           "frame_index": 8139,
           "logos": [],
           "text_lines": [],
           "text_words": [],
           "timecode_smpte": "00:04:31;18",
           "timestamp_millis": 271572
          },
          {
           "content_moderation": [],
           "frame_index": 8154,
           "logos": [],
           "text_lines": [],
           "text_words": [],
           "timecode_smpte": "00:04:32;02",
           "timestamp_millis": 272072
          }
         ],
         "iab_categories": [
          {
           "category": "Style and Fashion",
           "confidence": 0.99,
           "id": "0",
           "parent_id": null,
           "parent_name": null,
           "taxonomy_level": 1,
           "type": "IAB"
          },
          {
           "category": "Men's Fashion",
           "confidence": 0.99,
           "id": "1",
           "parent_id": null,
           "parent_name": "Style and Fashion",
           "taxonomy_level": 2,
           "type": "IAB"
          },
          {
           "category": "Sensitive Topics",
           "confidence": 0.931,
           "id": "2",
           "parent_id": null,
           "parent_name": null,
           "taxonomy_level": 1,
           "type": "IAB"
          },
          {
           "category": "Illegal Drugs, Tobacco, eCigarettes, Vaping, Alcohol",
           "confidence": 0.931,
           "id": "3",
           "parent_id": null,
           "parent_name": "Sensitive Topics",
           "taxonomy_level": 2,
           "type": "IAB"
          },
          {
           "category": "Fine Art",
           "confidence": 0.73,
           "id": "4",
           "parent_id": null,
           "parent_name": null,
           "taxonomy_level": 1,
           "type": "IAB"
          },
          {
           "category": "Digital Arts",
           "confidence": 0.73,
           "id": "5",
           "parent_id": null,
           "parent_name": "Fine Art",
           "taxonomy_level": 2,
           "type": "IAB"
          },
          {
           "category": "Style and Fashion",
           "confidence": 0.578,
           "id": "6",
           "parent_id": null,
           "parent_name": null,
           "taxonomy_level": 1,
           "type": "IAB"
          },
          {
           "category": "Personal Care",
           "confidence": 0.578,
           "id": "7",
           "parent_id": null,
           "parent_name": "Style and Fashion",
           "taxonomy_level": 2,
           "type": "IAB"
          },
          {
           "category": "Fine Art",
           "confidence": 0.566,
           "id": "8",
           "parent_id": null,
           "parent_name": null,
           "taxonomy_level": 1,
           "type": "IAB"
          },
          {
           "category": "Fine Art Photography",
           "confidence": 0.566,
           "id": "9",
           "parent_id": null,
           "parent_name": "Fine Art",
           "taxonomy_level": 2,
           "type": "IAB"
          }
         ],
         "segment_index": null,
         "shot_indices": [
          67,
          68,
          69
         ],
         "start_frame_index": 7967,
         "start_timecode_smpte": "00:04:25;24",
         "start_timestamp_millis": 265799,
         "sub_chapter_index": null,
         "summary": "A man in a dark suit sits alone in a car. He stares forward with an intense, unwavering expression. His eyes remain fixed and his mouth stays closed. The car's interior is dimly lit, with light coming through the windows. He appears to be waiting or preparing for something significant. His formal attire and serious demeanor suggest he is involved in a professional or potentially dangerous situation.",
         "transcript": {
          "representation": {
           "text": ""
          }
         }
        },
        {
         "audio_segments": [],
         "chapter_index": 10,
         "content_moderation": [],
         "duration_frames": 678,
         "duration_millis": 22622,
         "duration_smpte": "00:00:22;19",
         "end_frame_index": 8833,
         "end_timecode_smpte": "00:04:54;21",
         "end_timestamp_millis": 294727,
         "frames": [
          {
           "content_moderation": [],
           "frame_index": 8225,
           "logos": [],
           "text_lines": [],
           "text_words": [],
           "timecode_smpte": "00:04:34;12",
           "timestamp_millis": 274407
          },
          {
           "content_moderation": [],
           "frame_index": 8255,
           "logos": [],
           "text_lines": [],
           "text_words": [],
           "timecode_smpte": "00:04:35;12",
           "timestamp_millis": 275408
          },
          {
           "content_moderation": [],
           "frame_index": 8285,
           "logos": [],
           "text_lines": [],
           "text_words": [],
           "timecode_smpte": "00:04:36;12",
           "timestamp_millis": 276409
          },
          {
           "content_moderation": [],
           "frame_index": 8319,
           "logos": [],
           "text_lines": [],
           "text_words": [],
           "timecode_smpte": "00:04:37;18",
           "timestamp_millis": 277578
          },
          {
           "content_moderation": [],
           "frame_index": 8349,
           "logos": [],
           "text_lines": [],
           "text_words": [],
           "timecode_smpte": "00:04:38;18",
           "timestamp_millis": 278579
          },
          {
           "content_moderation": [],
           "frame_index": 8379,
           "logos": [],
           "text_lines": [],
           "text_words": [],
           "timecode_smpte": "00:04:39;18",
           "timestamp_millis": 279580
          },
          {
           "content_moderation": [],
           "frame_index": 8450,
           "logos": [],
           "text_lines": [],
           "text_words": [],
           "timecode_smpte": "00:04:41;28",
           "timestamp_millis": 281915
          },
          {
           "content_moderation": [],
           "frame_index": 8510,
           "logos": [],
           "text_lines": [],
           "text_words": [],
           "timecode_smpte": "00:04:43;28",
           "timestamp_millis": 283917
          },
          {
           "content_moderation": [],
           "frame_index": 8570,
           "logos": [],
           "text_lines": [],
           "text_words": [],
           "timecode_smpte": "00:04:45;28",
           "timestamp_millis": 285919
          },
          {
           "content_moderation": [],
           "frame_index": 8645,
           "logos": [],
           "text_lines": [],
           "text_words": [],
           "timecode_smpte": "00:04:48;12",
           "timestamp_millis": 288421
          },
          {
           "content_moderation": [],
           "frame_index": 8705,
           "logos": [],
           "text_lines": [],
           "text_words": [],
           "timecode_smpte": "00:04:50;12",
           "timestamp_millis": 290423
          },
          {
           "content_moderation": [],
           "frame_index": 8764,
           "logos": [],
           "text_lines": [],
           "text_words": [],
           "timecode_smpte": "00:04:52;12",
           "timestamp_millis": 292425
          }
         ],
         "iab_categories": [
          {
           "category": "Automotive",
           "confidence": 0.999,
           "id": "0",
           "parent_id": null,
           "parent_name": null,
           "taxonomy_level": 1,
           "type": "IAB"
          },
          {
           "category": "Auto Type",
           "confidence": 0.999,
           "id": "1",
           "parent_id": null,
           "parent_name": "Automotive",
           "taxonomy_level": 2,
           "type": "IAB"
          },
          {
           "category": "Automotive",
           "confidence": 0.97199994,
           "id": "2",
           "parent_id": null,
           "parent_name": null,
           "taxonomy_level": 1,
           "type": "IAB"
          },
          {
           "category": "Auto Body Styles",
           "confidence": 0.97199994,
           "id": "3",
           "parent_id": null,
           "parent_name": "Automotive",
           "taxonomy_level": 2,
           "type": "IAB"
          },
          {
           "category": "Style and Fashion",
           "confidence": 0.84699994,
           "id": "4",
           "parent_id": null,
           "parent_name": null,
           "taxonomy_level": 1,
           "type": "IAB"
          },
          {
           "category": "Women's Fashion",
           "confidence": 0.84699994,
           "id": "5",
           "parent_id": null,
           "parent_name": "Style and Fashion",
           "taxonomy_level": 2,
           "type": "IAB"
          },
          {
           "category": "Fine Art",
           "confidence": 0.549,
           "id": "6",
           "parent_id": null,
           "parent_name": null,
           "taxonomy_level": 1,
           "type": "IAB"
          },
          {
           "category": "Fine Art Photography",
           "confidence": 0.549,
           "id": "7",
           "parent_id": null,
           "parent_name": "Fine Art",
           "taxonomy_level": 2,
           "type": "IAB"
          }
         ],
         "segment_index": null,
         "shot_indices": [
          70
         ],
         "start_frame_index": 8156,
         "start_timecode_smpte": "00:04:32;03",
         "start_timestamp_millis": 272105,
         "sub_chapter_index": null,
         "summary": "A vintage black sedan is parked on a coastal dirt road overlooking the ocean. The scene is empty until a second vintage black sedan appears behind the first. A police officer in a dark uniform and hat exits his vehicle and walks between the two cars. He stands between them, looking out at the ocean. The officer appears to be conducting an official inspection or surveillance of the area.",
         "transcript": {
          "representation": {
           "text": ""
          }
         }
        },
        {
         "audio_segments": [
          {
           "audio_item_indices": null,
           "channel": null,
           "end_timestamp_millis": 313750,
           "id": null,
           "language": null,
           "segment_index": 46,
           "sensitive_data_detection": null,
           "speaker": {
            "speaker_label": "spk_1",
            "speaker_name": "Foster"
           },
           "start_timestamp_millis": 311840,
           "text": "Yeah, dispatch, this is Captain Foster.",
           "type": "TRANSCRIPT"
          },
          {
           "audio_item_indices": null,
           "channel": null,
           "end_timestamp_millis": 318200,
           "id": null,
           "language": null,
           "segment_index": 47,
           "sensitive_data_detection": null,
           "speaker": {
            "speaker_label": "spk_1",
            "speaker_name": "Foster"
           },
           "start_timestamp_millis": 314570,
           "text": "I'm out here at the El Matador location. No sign of Detective Sullivan.",
           "type": "TRANSCRIPT"
          },
          {
           "audio_item_indices": null,
           "channel": null,
           "end_timestamp_millis": 321000,
           "id": null,
           "language": null,
           "segment_index": 48,
           "sensitive_data_detection": null,
           "speaker": {
            "speaker_label": "spk_1",
            "speaker_name": "Foster"
           },
           "start_timestamp_millis": 319770,
           "text": "Now what's this car?",
           "type": "TRANSCRIPT"
          },
          {
           "audio_item_indices": null,
           "channel": null,
           "end_timestamp_millis": 324900,
           "id": null,
           "language": null,
           "segment_index": 49,
           "sensitive_data_detection": null,
           "speaker": {
            "speaker_label": "spk_1",
            "speaker_name": "Foster"
           },
           "start_timestamp_millis": 322320,
           "text": "Listen, I'm gonna take a look around before you send anybody out here, so.",
           "type": "TRANSCRIPT"
          },
          {
           "audio_item_indices": null,
           "channel": null,
           "end_timestamp_millis": 331750,
           "id": null,
           "language": null,
           "segment_index": 50,
           "sensitive_data_detection": null,
           "speaker": {
            "speaker_label": "spk_1",
            "speaker_name": "Foster"
           },
           "start_timestamp_millis": 331020,
           "text": "Hang on a minute.",
           "type": "TRANSCRIPT"
          }
         ],
         "chapter_index": 11,
         "content_moderation": [
          {
           "confidence": 0.0639,
           "end_timestamp_millis": 313750,
           "id": "e6a2fc57-7025-4bb4-8796-5dead8dfa16e",
           "moderation_categories": [
            {
             "category": "profanity",
             "confidence": 0.1116
            },
            {
             "category": "hate_speech",
             "confidence": 0.1065
            },
            {
             "category": "sexual",
             "confidence": 0.1116
            },
            {
             "category": "insult",
             "confidence": 0.0737
            },
            {
             "category": "violence_or_threat",
             "confidence": 0.1144
            },
            {
             "category": "graphic",
             "confidence": 0.1161
            },
            {
             "category": "harassment_or_abuse",
             "confidence": 0.0583
            }
           ],
           "start_timestamp_millis": 311840,
           "type": "AUDIO_MODERATION"
          },
          {
           "confidence": 0.0639,
           "end_timestamp_millis": 318200,
           "id": "bb276f31-d520-4029-8453-b258401ea9c3",
           "moderation_categories": [
            {
             "category": "profanity",
             "confidence": 0.1116
            },
            {
             "category": "hate_speech",
             "confidence": 0.1065
            },
            {
             "category": "sexual",
             "confidence": 0.1116
            },
            {
             "category": "insult",
             "confidence": 0.0737
            },
            {
             "category": "violence_or_threat",
             "confidence": 0.1144
            },
            {
             "category": "graphic",
             "confidence": 0.1161
            },
            {
             "category": "harassment_or_abuse",
             "confidence": 0.0583
            }
           ],
           "start_timestamp_millis": 314570,
           "type": "AUDIO_MODERATION"
          },
          {
           "confidence": 0.0639,
           "end_timestamp_millis": 321000,
           "id": "60a3e753-7505-4d1a-b4be-3a6024e702e2",
           "moderation_categories": [
            {
             "category": "profanity",
             "confidence": 0.1116
            },
            {
             "category": "hate_speech",
             "confidence": 0.1065
            },
            {
             "category": "sexual",
             "confidence": 0.1116
            },
            {
             "category": "insult",
             "confidence": 0.0737
            },
            {
             "category": "violence_or_threat",
             "confidence": 0.1144
            },
            {
             "category": "graphic",
             "confidence": 0.1161
            },
            {
             "category": "harassment_or_abuse",
             "confidence": 0.0583
            }
           ],
           "start_timestamp_millis": 319770,
           "type": "AUDIO_MODERATION"
          },
          {
           "confidence": 0.0639,
           "end_timestamp_millis": 324900,
           "id": "408d0dce-b649-4297-9682-37f3a638f2b2",
           "moderation_categories": [
            {
             "category": "profanity",
             "confidence": 0.1116
            },
            {
             "category": "hate_speech",
             "confidence": 0.1065
            },
            {
             "category": "sexual",
             "confidence": 0.1116
            },
            {
             "category": "insult",
             "confidence": 0.0737
            },
            {
             "category": "violence_or_threat",
             "confidence": 0.1144
            },
            {
             "category": "graphic",
             "confidence": 0.1161
            },
            {
             "category": "harassment_or_abuse",
             "confidence": 0.0583
            }
           ],
           "start_timestamp_millis": 322320,
           "type": "AUDIO_MODERATION"
          },
          {
           "confidence": 0.0639,
           "end_timestamp_millis": 331750,
           "id": "4273079c-41cb-4d19-8a99-33519febef4a",
           "moderation_categories": [
            {
             "category": "profanity",
             "confidence": 0.1116
            },
            {
             "category": "hate_speech",
             "confidence": 0.1065
            },
            {
             "category": "sexual",
             "confidence": 0.1116
            },
            {
             "category": "insult",
             "confidence": 0.0737
            },
            {
             "category": "violence_or_threat",
             "confidence": 0.1144
            },
            {
             "category": "graphic",
             "confidence": 0.1161
            },
            {
             "category": "harassment_or_abuse",
             "confidence": 0.0583
            }
           ],
           "start_timestamp_millis": 331020,
           "type": "AUDIO_MODERATION"
          }
         ],
         "duration_frames": 1252,
         "duration_millis": 41775,
         "duration_smpte": "00:00:41;22",
         "end_frame_index": 10085,
         "end_timecode_smpte": "00:05:36;14",
         "end_timestamp_millis": 336502,
         "frames": [
          {
           "content_moderation": [],
           "frame_index": 8944,
           "logos": [],
           "text_lines": [],
           "text_words": [],
           "timecode_smpte": "00:04:58;12",
           "timestamp_millis": 298431
          },
          {
           "content_moderation": [],
           "frame_index": 9015,
           "logos": [],
           "text_lines": [],
           "text_words": [],
           "timecode_smpte": "00:05:00;24",
           "timestamp_millis": 300767
          },
          {
           "content_moderation": [],
           "frame_index": 9064,
           "logos": [],
           "text_lines": [],
           "text_words": [],
           "timecode_smpte": "00:05:02;14",
           "timestamp_millis": 302435
          },
          {
           "content_moderation": [],
           "frame_index": 9124,
           "logos": [],
           "text_lines": [],
           "text_words": [],
           "timecode_smpte": "00:05:04;14",
           "timestamp_millis": 304437
          },
          {
           "content_moderation": [],
           "frame_index": 9210,
           "logos": [],
           "text_lines": [],
           "text_words": [],
           "timecode_smpte": "00:05:07;10",
           "timestamp_millis": 307274
          },
          {
           "content_moderation": [],
           "frame_index": 9315,
           "logos": [],
           "text_lines": [],
           "text_words": [],
           "timecode_smpte": "00:05:10;24",
           "timestamp_millis": 310777
          },
          {
           "content_moderation": [],
           "frame_index": 9435,
           "logos": [],
           "text_lines": [],
           "text_words": [],
           "timecode_smpte": "00:05:14;24",
           "timestamp_millis": 314781
          },
          {
           "content_moderation": [],
           "frame_index": 9539,
           "logos": [],
           "text_lines": [],
           "text_words": [],
           "timecode_smpte": "00:05:18;10",
           "timestamp_millis": 318285
          },
          {
           "content_moderation": [
            {
             "category": "Violence",
             "confidence": 0.52124196,
             "id": "f13c8d82-92c5-44bc-bc00-9bdf65528330",
             "parent_name": null,
             "taxonomy_level": null,
             "type": "VISUAL_MODERATION"
            }
           ],
           "frame_index": 9644,
           "logos": [],
           "text_lines": [],
           "text_words": [],
           "timecode_smpte": "00:05:21;24",
           "timestamp_millis": 321788
          },
          {
           "content_moderation": [],
           "frame_index": 9764,
           "logos": [],
           "text_lines": [],
           "text_words": [],
           "timecode_smpte": "00:05:25;24",
           "timestamp_millis": 325792
          },
          {
           "content_moderation": [],
           "frame_index": 9869,
           "logos": [],
           "text_lines": [],
           "text_words": [],
           "timecode_smpte": "00:05:29;10",
           "timestamp_millis": 329296
          },
          {
           "content_moderation": [],
           "frame_index": 9974,
           "logos": [],
           "text_lines": [],
           "text_words": [],
           "timecode_smpte": "00:05:32;24",
           "timestamp_millis": 332766
          }
         ],
         "iab_categories": [
          {
           "category": "Automotive",
           "confidence": 0.83699995,
           "id": "0",
           "parent_id": null,
           "parent_name": null,
           "taxonomy_level": 1,
           "type": "IAB"
          },
          {
           "category": "Auto Type",
           "confidence": 0.83699995,
           "id": "1",
           "parent_id": null,
           "parent_name": "Automotive",
           "taxonomy_level": 2,
           "type": "IAB"
          },
          {
           "category": "Sensitive Topics",
           "confidence": 0.82199997,
           "id": "2",
           "parent_id": null,
           "parent_name": null,
           "taxonomy_level": 1,
           "type": "IAB"
          },
          {
           "category": "Illegal Drugs, Tobacco, eCigarettes, Vaping, Alcohol",
           "confidence": 0.82199997,
           "id": "3",
           "parent_id": null,
           "parent_name": "Sensitive Topics",
           "taxonomy_level": 2,
           "type": "IAB"
          }
         ],
         "segment_index": null,
         "shot_indices": [
          71
         ],
         "start_frame_index": 8834,
         "start_timecode_smpte": "00:04:54;21",
         "start_timestamp_millis": 294727,
         "sub_chapter_index": null,
         "summary": "Captain Foster stands beside his vintage car in a remote rural location, smoking a cigarette. He makes a phone call to dispatch, identifying himself and reporting that Detective Sullivan is missing at the El Matador location. After confirming his location, Captain Foster takes control of the situation, informing dispatch that he will investigate the area himself rather than waiting for backup. He pauses to survey the landscape before deciding to proceed with his search. The overcast sky and isolated setting emphasize the gravity of the situation as Captain Foster prepares to investigate the disappearance of his colleague alone.",
         "transcript": {
          "representation": {
           "text": "[spk_1]: Yeah, dispatch, this is Captain Foster. I'm out here at the El Matador location. No sign of Detective Sullivan. Now what's this car? Listen, I'm gonna take a look around before you send anybody out here, so. Hang on a minute."
          }
         }
        },
        {
         "audio_segments": [
          {
           "audio_item_indices": null,
           "channel": null,
           "end_timestamp_millis": 342790,
           "id": null,
           "language": null,
           "segment_index": 51,
           "sensitive_data_detection": null,
           "speaker": {
            "speaker_label": "spk_0",
            "speaker_name": "None"
           },
           "start_timestamp_millis": 341780,
           "text": "Captain Foster",
           "type": "TRANSCRIPT"
          },
          {
           "audio_item_indices": null,
           "channel": null,
           "end_timestamp_millis": 531190,
           "id": null,
           "language": null,
           "segment_index": 52,
           "sensitive_data_detection": null,
           "speaker": {
            "speaker_label": "spk_1",
            "speaker_name": "None"
           },
           "start_timestamp_millis": 529720,
           "text": "LAPD put your hands in the air.",
           "type": "TRANSCRIPT"
          },
          {
           "audio_item_indices": null,
           "channel": null,
           "end_timestamp_millis": 534450,
           "id": null,
           "language": null,
           "segment_index": 53,
           "sensitive_data_detection": null,
           "speaker": {
            "speaker_label": "spk_1",
            "speaker_name": "None"
           },
           "start_timestamp_millis": 533120,
           "text": "Put your hands up now.",
           "type": "TRANSCRIPT"
          }
         ],
         "chapter_index": 12,
         "content_moderation": [
          {
           "confidence": 0.0639,
           "end_timestamp_millis": 342790,
           "id": "ff531e7c-064c-420a-8429-a9d7d9926951",
           "moderation_categories": [
            {
             "category": "profanity",
             "confidence": 0.1116
            },
            {
             "category": "hate_speech",
             "confidence": 0.1065
            },
            {
             "category": "sexual",
             "confidence": 0.1116
            },
            {
             "category": "insult",
             "confidence": 0.0737
            },
            {
             "category": "violence_or_threat",
             "confidence": 0.1144
            },
            {
             "category": "graphic",
             "confidence": 0.1161
            },
            {
             "category": "harassment_or_abuse",
             "confidence": 0.0583
            }
           ],
           "start_timestamp_millis": 341780,
           "type": "AUDIO_MODERATION"
          },
          {
           "confidence": 0.0639,
           "end_timestamp_millis": 531190,
           "id": "54dbe1db-d274-436a-b2e9-4d1b9a55e84a",
           "moderation_categories": [
            {
             "category": "profanity",
             "confidence": 0.1116
            },
            {
             "category": "hate_speech",
             "confidence": 0.1065
            },
            {
             "category": "sexual",
             "confidence": 0.1116
            },
            {
             "category": "insult",
             "confidence": 0.0737
            },
            {
             "category": "violence_or_threat",
             "confidence": 0.2373
            },
            {
             "category": "graphic",
             "confidence": 0.1161
            },
            {
             "category": "harassment_or_abuse",
             "confidence": 0.0583
            }
           ],
           "start_timestamp_millis": 529720,
           "type": "AUDIO_MODERATION"
          },
          {
           "confidence": 0.0639,
           "end_timestamp_millis": 534450,
           "id": "baf59fdd-3cdc-4540-9aaf-32fca17c9227",
           "moderation_categories": [
            {
             "category": "profanity",
             "confidence": 0.1116
            },
            {
             "category": "hate_speech",
             "confidence": 0.1065
            },
            {
             "category": "sexual",
             "confidence": 0.1116
            },
            {
             "category": "insult",
             "confidence": 0.0737
            },
            {
             "category": "violence_or_threat",
             "confidence": 0.2733
            },
            {
             "category": "graphic",
             "confidence": 0.1161
            },
            {
             "category": "harassment_or_abuse",
             "confidence": 0.0583
            }
           ],
           "start_timestamp_millis": 533120,
           "type": "AUDIO_MODERATION"
          }
         ],
         "duration_frames": 6921,
         "duration_millis": 230930,
         "duration_smpte": "00:03:50;27",
         "end_frame_index": 17006,
         "end_timecode_smpte": "00:09:27;14",
         "end_timestamp_millis": 567433,
         "frames": [
          {
           "content_moderation": [],
           "frame_index": 10289,
           "logos": [],
           "text_lines": [],
           "text_words": [],
           "timecode_smpte": "00:05:43;08",
           "timestamp_millis": 343276
          },
          {
           "content_moderation": [],
           "frame_index": 10603,
           "logos": [],
           "text_lines": [],
           "text_words": [],
           "timecode_smpte": "00:05:53;24",
           "timestamp_millis": 353787
          },
          {
           "content_moderation": [],
           "frame_index": 10715,
           "logos": [],
           "text_lines": [],
           "text_words": [],
           "timecode_smpte": "00:05:57;14",
           "timestamp_millis": 357490
          },
          {
           "content_moderation": [],
           "frame_index": 10745,
           "logos": [],
           "text_lines": [],
           "text_words": [],
           "timecode_smpte": "00:05:58;14",
           "timestamp_millis": 358491
          },
          {
           "content_moderation": [],
           "frame_index": 10790,
           "logos": [],
           "text_lines": [],
           "text_words": [],
           "timecode_smpte": "00:06:00;02",
           "timestamp_millis": 359993
          },
          {
           "content_moderation": [],
           "frame_index": 10865,
           "logos": [],
           "text_lines": [],
           "text_words": [],
           "timecode_smpte": "00:06:02;16",
           "timestamp_millis": 362495
          },
          {
           "content_moderation": [],
           "frame_index": 11000,
           "logos": [],
           "text_lines": [],
           "text_words": [],
           "timecode_smpte": "00:06:07;02",
           "timestamp_millis": 367000
          },
          {
           "content_moderation": [],
           "frame_index": 11149,
           "logos": [],
           "text_lines": [],
           "text_words": [],
           "timecode_smpte": "00:06:12;02",
           "timestamp_millis": 372005
          },
          {
           "content_moderation": [],
           "frame_index": 11539,
           "logos": [],
           "text_lines": [],
           "text_words": [],
           "timecode_smpte": "00:06:25;00",
           "timestamp_millis": 384984
          },
          {
           "content_moderation": [],
           "frame_index": 11944,
           "logos": [],
           "text_lines": [],
           "text_words": [],
           "timecode_smpte": "00:06:38;16",
           "timestamp_millis": 398498
          },
          {
           "content_moderation": [],
           "frame_index": 12168,
           "logos": [],
           "text_lines": [],
           "text_words": [],
           "timecode_smpte": "00:06:46;00",
           "timestamp_millis": 406005
          },
          {
           "content_moderation": [],
           "frame_index": 12363,
           "logos": [],
           "text_lines": [],
           "text_words": [],
           "timecode_smpte": "00:06:52;16",
           "timestamp_millis": 412512
          },
          {
           "content_moderation": [],
           "frame_index": 12786,
           "logos": [],
           "text_lines": [],
           "text_words": [],
           "timecode_smpte": "00:07:06;20",
           "timestamp_millis": 426626
          },
          {
           "content_moderation": [],
           "frame_index": 13281,
           "logos": [],
           "text_lines": [],
           "text_words": [],
           "timecode_smpte": "00:07:23;04",
           "timestamp_millis": 443109
          },
          {
           "content_moderation": [],
           "frame_index": 13476,
           "logos": [],
           "text_lines": [],
           "text_words": [],
           "timecode_smpte": "00:07:29;20",
           "timestamp_millis": 449616
          },
          {
           "content_moderation": [],
           "frame_index": 13641,
           "logos": [],
           "text_lines": [],
           "text_words": [],
           "timecode_smpte": "00:07:35;04",
           "timestamp_millis": 455121
          },
          {
           "content_moderation": [],
           "frame_index": 13805,
           "logos": [],
           "text_lines": [],
           "text_words": [],
           "timecode_smpte": "00:07:40;20",
           "timestamp_millis": 460627
          },
          {
           "content_moderation": [
            {
             "category": "Violence",
             "confidence": 0.896774,
             "id": "dcdfbb3f-30d4-48a8-87da-d4c81ea11987",
             "parent_name": null,
             "taxonomy_level": null,
             "type": "VISUAL_MODERATION"
            }
           ],
           "frame_index": 13916,
           "logos": [],
           "text_lines": [],
           "text_words": [],
           "timecode_smpte": "00:07:44;10",
           "timestamp_millis": 464298
          },
          {
           "content_moderation": [],
           "frame_index": 14045,
           "logos": [],
           "text_lines": [],
           "text_words": [],
           "timecode_smpte": "00:07:48;20",
           "timestamp_millis": 468635
          },
          {
           "content_moderation": [
            {
             "category": "Violence",
             "confidence": 0.540385,
             "id": "467b2c09-f20b-4564-9040-617f686a9716",
             "parent_name": null,
             "taxonomy_level": null,
             "type": "VISUAL_MODERATION"
            }
           ],
           "frame_index": 14186,
           "logos": [],
           "text_lines": [],
           "text_words": [],
           "timecode_smpte": "00:07:53;10",
           "timestamp_millis": 473307
          },
          {
           "content_moderation": [],
           "frame_index": 14380,
           "logos": [],
           "text_lines": [],
           "text_words": [],
           "timecode_smpte": "00:07:59;24",
           "timestamp_millis": 479813
          },
          {
           "content_moderation": [],
           "frame_index": 14665,
           "logos": [],
           "text_lines": [],
           "text_words": [],
           "timecode_smpte": "00:08:09;12",
           "timestamp_millis": 489323
          },
          {
           "content_moderation": [],
           "frame_index": 14995,
           "logos": [],
           "text_lines": [],
           "text_words": [],
           "timecode_smpte": "00:08:20;10",
           "timestamp_millis": 500300
          },
          {
           "content_moderation": [],
           "frame_index": 15220,
           "logos": [],
           "text_lines": [],
           "text_words": [],
           "timecode_smpte": "00:08:27;26",
           "timestamp_millis": 507808
          },
          {
           "content_moderation": [],
           "frame_index": 15459,
           "logos": [],
           "text_lines": [],
           "text_words": [],
           "timecode_smpte": "00:08:35;26",
           "timestamp_millis": 515816
          },
          {
           "content_moderation": [],
           "frame_index": 15696,
           "logos": [],
           "text_lines": [],
           "text_words": [],
           "timecode_smpte": "00:08:43;22",
           "timestamp_millis": 523690
          },
          {
           "content_moderation": [],
           "frame_index": 15936,
           "logos": [],
           "text_lines": [],
           "text_words": [],
           "timecode_smpte": "00:08:51;22",
           "timestamp_millis": 531698
          },
          {
           "content_moderation": [
            {
             "category": "Violence",
             "confidence": 0.913048,
             "id": "fb5e1f80-558c-4a6e-9163-5cfc42e04a49",
             "parent_name": null,
             "taxonomy_level": null,
             "type": "VISUAL_MODERATION"
            }
           ],
           "frame_index": 16011,
           "logos": [],
           "text_lines": [],
           "text_words": [],
           "timecode_smpte": "00:08:54;06",
           "timestamp_millis": 534200
          },
          {
           "content_moderation": [],
           "frame_index": 16100,
           "logos": [],
           "text_lines": [],
           "text_words": [],
           "timecode_smpte": "00:08:57;06",
           "timestamp_millis": 537203
          },
          {
           "content_moderation": [
            {
             "category": "Violence",
             "confidence": 0.98139,
             "id": "b851291e-f57c-4d7a-ae40-a41675b98fa7",
             "parent_name": null,
             "taxonomy_level": null,
             "type": "VISUAL_MODERATION"
            }
           ],
           "frame_index": 16295,
           "logos": [],
           "text_lines": [],
           "text_words": [],
           "timecode_smpte": "00:09:03;24",
           "timestamp_millis": 543710
          },
          {
           "content_moderation": [],
           "frame_index": 16520,
           "logos": [],
           "text_lines": [],
           "text_words": [],
           "timecode_smpte": "00:09:11;08",
           "timestamp_millis": 551217
          },
          {
           "content_moderation": [],
           "frame_index": 16955,
           "logos": [],
           "text_lines": [],
           "text_words": [],
           "timecode_smpte": "00:09:25;22",
           "timestamp_millis": 565698
          }
         ],
         "iab_categories": [
          {
           "category": "Sensitive Topics",
           "confidence": 0.541,
           "id": "0",
           "parent_id": null,
           "parent_name": null,
           "taxonomy_level": 1,
           "type": "IAB"
          },
          {
           "category": "Illegal Drugs, Tobacco, eCigarettes, Vaping, Alcohol",
           "confidence": 0.541,
           "id": "1",
           "parent_id": null,
           "parent_name": "Sensitive Topics",
           "taxonomy_level": 2,
           "type": "IAB"
          }
         ],
         "segment_index": null,
         "shot_indices": [
          72,
          73,
          74,
          75,
          76,
          77,
          78,
          79,
          80,
          81,
          82,
          83,
          84,
          85,
          86,
          87,
          88,
          89,
          90,
          91,
          92,
          93,
          94,
          95,
          96,
          97,
          98,
          99,
          100,
          101,
          102,
          103,
          104
         ],
         "start_frame_index": 10086,
         "start_timecode_smpte": "00:05:36;16",
         "start_timestamp_millis": 336503,
         "sub_chapter_index": null,
         "summary": "Captain Foster stands alone on a coastal cliff, watching the stormy sea. He moves to the beach and walks through the rocky shoreline, eventually entering a cave. Inside the dark cave, he uses a flashlight to search. A ventriloquist's dummy appears, sitting on a stool and looking at Captain Foster. The dummy's eyes follow Foster's movements. The scene shifts to a dark room where Foster stands with his flashlight. A clock appears, showing the time as 10:10. The scene returns to the coastal setting, with Foster standing on the beach and a stained glass window reflecting the ocean. The scene then shows Foster in a spotlight, with a police officer's voice ordering him to put his hands up. Three men stand in a line - Foster in the center, with two other men on either side. The police officer commands them to raise their hands. The scene ends with Foster alone again, looking serious.",
         "transcript": {
          "representation": {
           "text": "[spk_0]: Captain Foster\n\n[spk_1]: LAPD put your hands in the air. Put your hands up now. Oh"
          }
         }
        },
        {
         "audio_segments": [],
         "chapter_index": 13,
         "content_moderation": [],
         "duration_frames": 337,
         "duration_millis": 11244,
         "duration_smpte": "00:00:11;07",
         "end_frame_index": 17343,
         "end_timecode_smpte": "00:09:38;20",
         "end_timestamp_millis": 578677,
         "frames": [
          {
           "content_moderation": [],
           "frame_index": 17045,
           "logos": [],
           "text_lines": [],
           "text_words": [],
           "timecode_smpte": "00:09:28;22",
           "timestamp_millis": 568701
          },
          {
           "content_moderation": [],
           "frame_index": 17074,
           "logos": [],
           "text_lines": [],
           "text_words": [],
           "timecode_smpte": "00:09:29;22",
           "timestamp_millis": 569702
          },
          {
           "content_moderation": [],
           "frame_index": 17134,
           "logos": [],
           "text_lines": [],
           "text_words": [],
           "timecode_smpte": "00:09:31;22",
           "timestamp_millis": 571704
          },
          {
           "content_moderation": [],
           "frame_index": 17164,
           "logos": [],
           "text_lines": [],
           "text_words": [],
           "timecode_smpte": "00:09:32;22",
           "timestamp_millis": 572705
          },
          {
           "content_moderation": [],
           "frame_index": 17194,
           "logos": [],
           "text_lines": [],
           "text_words": [],
           "timecode_smpte": "00:09:33;22",
           "timestamp_millis": 573706
          },
          {
           "content_moderation": [],
           "frame_index": 17209,
           "logos": [],
           "text_lines": [],
           "text_words": [],
           "timecode_smpte": "00:09:34;08",
           "timestamp_millis": 574207
          },
          {
           "content_moderation": [],
           "frame_index": 17238,
           "logos": [],
           "text_lines": [],
           "text_words": [],
           "timecode_smpte": "00:09:35;06",
           "timestamp_millis": 575142
          },
          {
           "content_moderation": [],
           "frame_index": 17253,
           "logos": [],
           "text_lines": [],
           "text_words": [],
           "timecode_smpte": "00:09:35;20",
           "timestamp_millis": 575642
          },
          {
           "content_moderation": [],
           "frame_index": 17269,
           "logos": [],
           "text_lines": [],
           "text_words": [],
           "timecode_smpte": "00:09:36;08",
           "timestamp_millis": 576209
          },
          {
           "content_moderation": [],
           "frame_index": 17284,
           "logos": [],
           "text_lines": [],
           "text_words": [],
           "timecode_smpte": "00:09:36;22",
           "timestamp_millis": 576709
          },
          {
           "content_moderation": [],
           "frame_index": 17313,
           "logos": [],
           "text_lines": [],
           "text_words": [],
           "timecode_smpte": "00:09:37;20",
           "timestamp_millis": 577644
          },
          {
           "content_moderation": [],
           "frame_index": 17328,
           "logos": [],
           "text_lines": [],
           "text_words": [],
           "timecode_smpte": "00:09:38;06",
           "timestamp_millis": 578145
          }
         ],
         "iab_categories": [
          {
           "category": "Style and Fashion",
           "confidence": 0.932,
           "id": "0",
           "parent_id": null,
           "parent_name": null,
           "taxonomy_level": 1,
           "type": "IAB"
          },
          {
           "category": "Women's Fashion",
           "confidence": 0.932,
           "id": "1",
           "parent_id": null,
           "parent_name": "Style and Fashion",
           "taxonomy_level": 2,
           "type": "IAB"
          },
          {
           "category": "Fine Art",
           "confidence": 0.66300005,
           "id": "2",
           "parent_id": null,
           "parent_name": null,
           "taxonomy_level": 1,
           "type": "IAB"
          },
          {
           "category": "Fine Art Photography",
           "confidence": 0.66300005,
           "id": "3",
           "parent_id": null,
           "parent_name": "Fine Art",
           "taxonomy_level": 2,
           "type": "IAB"
          },
          {
           "category": "Fine Art",
           "confidence": 0.577,
           "id": "4",
           "parent_id": null,
           "parent_name": null,
           "taxonomy_level": 1,
           "type": "IAB"
          },
          {
           "category": "Dance",
           "confidence": 0.577,
           "id": "5",
           "parent_id": null,
           "parent_name": "Fine Art",
           "taxonomy_level": 2,
           "type": "IAB"
          },
          {
           "category": "Sensitive Topics",
           "confidence": 0.572,
           "id": "6",
           "parent_id": null,
           "parent_name": null,
           "taxonomy_level": 1,
           "type": "IAB"
          },
          {
           "category": "Illegal Drugs, Tobacco, eCigarettes, Vaping, Alcohol",
           "confidence": 0.572,
           "id": "7",
           "parent_id": null,
           "parent_name": "Sensitive Topics",
           "taxonomy_level": 2,
           "type": "IAB"
          }
         ],
         "segment_index": null,
         "shot_indices": [
          105,
          106
         ],
         "start_frame_index": 17007,
         "start_timecode_smpte": "00:09:27;14",
         "start_timestamp_millis": 567433,
         "sub_chapter_index": null,
         "summary": "A man in a suit and fedora and a woman in a white dress stand side by side in a dark setting. Behind them is a tunnel of trees with light coming through. The scene then shifts to focus on the woman alone. She stands still, facing the camera with a serious expression. Her hair is styled in soft waves, and she wears a sleeveless white dress. The lighting highlights her face against the dark background. The scene appears to be a dramatic moment, possibly from a film or theatrical production.",
         "transcript": {
          "representation": {
           "text": ""
          }
         }
        },
        {
         "audio_segments": [],
         "chapter_index": 14,
         "content_moderation": [],
         "duration_frames": 3814,
         "duration_millis": 127260,
         "duration_smpte": "00:02:07;07",
         "end_frame_index": 21157,
         "end_timecode_smpte": "00:11:45;26",
         "end_timestamp_millis": 705938,
         "frames": [
          {
           "content_moderation": [],
           "frame_index": 17643,
           "logos": [],
           "text_lines": [],
           "text_words": [],
           "timecode_smpte": "00:09:48;20",
           "timestamp_millis": 588655
          },
          {
           "content_moderation": [],
           "frame_index": 17972,
           "logos": [],
           "text_lines": [],
           "text_words": [],
           "timecode_smpte": "00:09:59;20",
           "timestamp_millis": 599666
          },
          {
           "content_moderation": [],
           "frame_index": 18302,
           "logos": [],
           "text_lines": [],
           "text_words": [],
           "timecode_smpte": "00:10:10;20",
           "timestamp_millis": 610644
          },
          {
           "content_moderation": [],
           "frame_index": 18895,
           "logos": [],
           "text_lines": [],
           "text_words": [],
           "timecode_smpte": "00:10:30;12",
           "timestamp_millis": 630430
          },
          {
           "content_moderation": [],
           "frame_index": 19060,
           "logos": [],
           "text_lines": [],
           "text_words": [],
           "timecode_smpte": "00:10:35;28",
           "timestamp_millis": 635936
          },
          {
           "content_moderation": [],
           "frame_index": 19360,
           "logos": [],
           "text_lines": [],
           "text_words": [],
           "timecode_smpte": "00:10:45;28",
           "timestamp_millis": 645946
          },
          {
           "content_moderation": [],
           "frame_index": 19659,
           "logos": [],
           "text_lines": [],
           "text_words": [],
           "timecode_smpte": "00:10:55;28",
           "timestamp_millis": 655956
          },
          {
           "content_moderation": [],
           "frame_index": 19959,
           "logos": [],
           "text_lines": [],
           "text_words": [],
           "timecode_smpte": "00:11:05;28",
           "timestamp_millis": 665932
          },
          {
           "content_moderation": [],
           "frame_index": 20259,
           "logos": [],
           "text_lines": [],
           "text_words": [],
           "timecode_smpte": "00:11:15;28",
           "timestamp_millis": 675942
          },
          {
           "content_moderation": [],
           "frame_index": 20468,
           "logos": [],
           "text_lines": [],
           "text_words": [],
           "timecode_smpte": "00:11:22;28",
           "timestamp_millis": 682949
          },
          {
           "content_moderation": [],
           "frame_index": 20618,
           "logos": [],
           "text_lines": [],
           "text_words": [],
           "timecode_smpte": "00:11:27;28",
           "timestamp_millis": 687954
          },
          {
           "content_moderation": [],
           "frame_index": 20865,
           "logos": [],
           "text_lines": [],
           "text_words": [],
           "timecode_smpte": "00:11:36;04",
           "timestamp_millis": 696162
          }
         ],
         "iab_categories": [
          {
           "category": "Business and Finance",
           "confidence": 0.98,
           "id": "0",
           "parent_id": null,
           "parent_name": null,
           "taxonomy_level": 1,
           "type": "IAB"
          },
          {
           "category": "Industries",
           "confidence": 0.98,
           "id": "1",
           "parent_id": null,
           "parent_name": "Business and Finance",
           "taxonomy_level": 2,
           "type": "IAB"
          },
          {
           "category": "Business and Finance",
           "confidence": 0.976,
           "id": "2",
           "parent_id": null,
           "parent_name": null,
           "taxonomy_level": 1,
           "type": "IAB"
          },
          {
           "category": "Business",
           "confidence": 0.976,
           "id": "3",
           "parent_id": null,
           "parent_name": "Business and Finance",
           "taxonomy_level": 2,
           "type": "IAB"
          },
          {
           "category": "Hobbies and Interests",
           "confidence": 0.94699997,
           "id": "4",
           "parent_id": null,
           "parent_name": null,
           "taxonomy_level": 1,
           "type": "IAB"
          },
          {
           "category": "Content Production",
           "confidence": 0.94699997,
           "id": "5",
           "parent_id": null,
           "parent_name": "Hobbies and Interests",
           "taxonomy_level": 2,
           "type": "IAB"
          },
          {
           "category": "Fine Art",
           "confidence": 0.79300004,
           "id": "6",
           "parent_id": null,
           "parent_name": null,
           "taxonomy_level": 1,
           "type": "IAB"
          },
          {
           "category": "Fine Art Photography",
           "confidence": 0.79300004,
           "id": "7",
           "parent_id": null,
           "parent_name": "Fine Art",
           "taxonomy_level": 2,
           "type": "IAB"
          },
          {
           "category": "Fine Art",
           "confidence": 0.731,
           "id": "8",
           "parent_id": null,
           "parent_name": null,
           "taxonomy_level": 1,
           "type": "IAB"
          },
          {
           "category": "Theater",
           "confidence": 0.731,
           "id": "9",
           "parent_id": null,
           "parent_name": "Fine Art",
           "taxonomy_level": 2,
           "type": "IAB"
          },
          {
           "category": "Sensitive Topics",
           "confidence": 0.65199995,
           "id": "10",
           "parent_id": null,
           "parent_name": null,
           "taxonomy_level": 1,
           "type": "IAB"
          },
          {
           "category": "Illegal Drugs, Tobacco, eCigarettes, Vaping, Alcohol",
           "confidence": 0.65199995,
           "id": "11",
           "parent_id": null,
           "parent_name": "Sensitive Topics",
           "taxonomy_level": 2,
           "type": "IAB"
          },
          {
           "category": "Sensitive Topics",
           "confidence": 0.635,
           "id": "12",
           "parent_id": null,
           "parent_name": null,
           "taxonomy_level": 1,
           "type": "IAB"
          },
          {
           "category": "Spam or Harmful Content",
           "confidence": 0.635,
           "id": "13",
           "parent_id": null,
           "parent_name": "Sensitive Topics",
           "taxonomy_level": 2,
           "type": "IAB"
          },
          {
           "category": "Style and Fashion",
           "confidence": 0.62700003,
           "id": "14",
           "parent_id": null,
           "parent_name": null,
           "taxonomy_level": 1,
           "type": "IAB"
          },
          {
           "category": "Men's Fashion",
           "confidence": 0.62700003,
           "id": "15",
           "parent_id": null,
           "parent_name": "Style and Fashion",
           "taxonomy_level": 2,
           "type": "IAB"
          },
          {
           "category": "Family and Relationships",
           "confidence": 0.523,
           "id": "16",
           "parent_id": null,
           "parent_name": null,
           "taxonomy_level": 1,
           "type": "IAB"
          },
          {
           "category": "Bereavement",
           "confidence": 0.523,
           "id": "17",
           "parent_id": null,
           "parent_name": "Family and Relationships",
           "taxonomy_level": 2,
           "type": "IAB"
          }
         ],
         "segment_index": null,
         "shot_indices": [
          107,
          108
         ],
         "start_frame_index": 17344,
         "start_timecode_smpte": "00:09:38;22",
         "start_timestamp_millis": 578678,
         "sub_chapter_index": null,
         "summary": "The end credits of a film roll upward on a black background. The credits list the writing team (Curtis Clark and James Harmon Brown), director of photography (Makius Fordeher), and original music composer (Alex Kovacs). The credits then show the production company (Virgin Soil Pictures) and line producer (Anourea Sastoque). The credits continue with production staff, including set dresser, script supervisor, sound mixer, and costume designer. The cast list includes Kevin Kliner as Mac, Reid Scott as Jake, and multiple actors playing Mannequin characters. The crew credits include camera operators, lighting technicians, and sound mixer. The credits also list transportation staff, set production assistants, catering crew, craft services, and aerial services. The credits conclude with special thanks to the City of Malibu, CA, and production location information. The credits end with the copyright notice for Virgin Soil Pictures, Inc. (2016).",
         "transcript": {
          "representation": {
           "text": ""
          }
         }
        },
        {
         "audio_segments": [],
         "chapter_index": 15,
         "content_moderation": [],
         "duration_frames": 389,
         "duration_millis": 12979,
         "duration_smpte": "00:00:12;29",
         "end_frame_index": 21546,
         "end_timecode_smpte": "00:11:58;26",
         "end_timestamp_millis": 718918,
         "frames": [
          {
           "content_moderation": [],
           "frame_index": 21194,
           "logos": [],
           "text_lines": [],
           "text_words": [],
           "timecode_smpte": "00:11:47;04",
           "timestamp_millis": 707173
          },
          {
           "content_moderation": [],
           "frame_index": 21224,
           "logos": [],
           "text_lines": [],
           "text_words": [],
           "timecode_smpte": "00:11:48;04",
           "timestamp_millis": 708174
          },
          {
           "content_moderation": [],
           "frame_index": 21299,
           "logos": [],
           "text_lines": [],
           "text_words": [],
           "timecode_smpte": "00:11:50;20",
           "timestamp_millis": 710677
          },
          {
           "content_moderation": [],
           "frame_index": 21359,
           "logos": [],
           "text_lines": [],
           "text_words": [],
           "timecode_smpte": "00:11:52;20",
           "timestamp_millis": 712679
          },
          {
           "content_moderation": [],
           "frame_index": 21374,
           "logos": [],
           "text_lines": [],
           "text_words": [],
           "timecode_smpte": "00:11:53;04",
           "timestamp_millis": 713146
          },
          {
           "content_moderation": [],
           "frame_index": 21389,
           "logos": [],
           "text_lines": [],
           "text_words": [],
           "timecode_smpte": "00:11:53;18",
           "timestamp_millis": 713646
          },
          {
           "content_moderation": [],
           "frame_index": 21404,
           "logos": [],
           "text_lines": [],
           "text_words": [],
           "timecode_smpte": "00:11:54;04",
           "timestamp_millis": 714147
          },
          {
           "content_moderation": [],
           "frame_index": 21449,
           "logos": [],
           "text_lines": [],
           "text_words": [],
           "timecode_smpte": "00:11:55;18",
           "timestamp_millis": 715648
          },
          {
           "content_moderation": [],
           "frame_index": 21479,
           "logos": [],
           "text_lines": [],
           "text_words": [],
           "timecode_smpte": "00:11:56;18",
           "timestamp_millis": 716649
          },
          {
           "content_moderation": [],
           "frame_index": 21494,
           "logos": [],
           "text_lines": [],
           "text_words": [],
           "timecode_smpte": "00:11:57;04",
           "timestamp_millis": 717150
          },
          {
           "content_moderation": [],
           "frame_index": 21524,
           "logos": [],
           "text_lines": [],
           "text_words": [],
           "timecode_smpte": "00:11:58;04",
           "timestamp_millis": 718151
          },
          {
           "content_moderation": [],
           "frame_index": 21539,
           "logos": [],
           "text_lines": [],
           "text_words": [],
           "timecode_smpte": "00:11:58;18",
           "timestamp_millis": 718651
          }
         ],
         "iab_categories": [
          {
           "category": "Business and Finance",
           "confidence": 0.965,
           "id": "0",
           "parent_id": null,
           "parent_name": null,
           "taxonomy_level": 1,
           "type": "IAB"
          },
          {
           "category": "Industries",
           "confidence": 0.965,
           "id": "1",
           "parent_id": null,
           "parent_name": "Business and Finance",
           "taxonomy_level": 2,
           "type": "IAB"
          },
          {
           "category": "Business and Finance",
           "confidence": 0.83599997,
           "id": "2",
           "parent_id": null,
           "parent_name": null,
           "taxonomy_level": 1,
           "type": "IAB"
          },
          {
           "category": "Business",
           "confidence": 0.83599997,
           "id": "3",
           "parent_id": null,
           "parent_name": "Business and Finance",
           "taxonomy_level": 2,
           "type": "IAB"
          },
          {
           "category": "Fine Art",
           "confidence": 0.589,
           "id": "4",
           "parent_id": null,
           "parent_name": null,
           "taxonomy_level": 1,
           "type": "IAB"
          },
          {
           "category": "Digital Arts",
           "confidence": 0.589,
           "id": "5",
           "parent_id": null,
           "parent_name": "Fine Art",
           "taxonomy_level": 2,
           "type": "IAB"
          }
         ],
         "segment_index": null,
         "shot_indices": [
          109,
          110,
          111,
          112,
          113
         ],
         "start_frame_index": 21158,
         "start_timecode_smpte": "00:11:45;28",
         "start_timestamp_millis": 705939,
         "sub_chapter_index": null,
         "summary": "The video shows a series of production company and technology logos. It begins with the \"Feed Digital Cinema\" logo, featuring a red circle and metallic ring. The \"FOTOKEM\" logo appears in white text. The \"DOLBY ATMOS\" and \"DOLBY VISION\" logos are displayed side by side. The \"ROHDE & SCHWARZ\" logo appears in blue text on a white background. The sequence ends with a black screen.",
         "transcript": {
          "representation": {
           "text": ""
          }
         }
        }
       ],
       "metadata": {
        "asset_id": "0",
        "codec": "h264",
        "duration_millis": 718918,
        "format": "QuickTime / MOV",
        "frame_height": 720,
        "frame_rate": 29.97,
        "frame_width": 1280,
        "s3_bucket": "workshop-workshopbucket-otczrfpjgb6p",
        "s3_key": "bda/video/NetflixMeridian.mp4",
        "semantic_modality": "VIDEO"
       },
       "shots": [
        {
         "chapter_indices": [
          0
         ],
         "confidence": 0.9998398688202159,
         "duration_frames": 29,
         "duration_millis": 1001,
         "duration_smpte": "00:00:01;00",
         "end_frame_index": 29,
         "end_timecode_smpte": "00:00:01;00",
         "end_timestamp_millis": 1001,
         "shot_index": 0,
         "start_frame_index": 0,
         "start_timecode_smpte": "00:00:00;00",
         "start_timestamp_millis": 0
        },
        {
         "chapter_indices": [
          1
         ],
         "confidence": 0.9990242208596232,
         "duration_frames": 125,
         "duration_millis": 4204,
         "duration_smpte": "00:00:04;06",
         "end_frame_index": 155,
         "end_timecode_smpte": "00:00:05;06",
         "end_timestamp_millis": 5205,
         "shot_index": 1,
         "start_frame_index": 30,
         "start_timecode_smpte": "00:00:01;00",
         "start_timestamp_millis": 1001
        },
        {
         "chapter_indices": [
          1
         ],
         "confidence": 0.9990242208596232,
         "duration_frames": 119,
         "duration_millis": 4004,
         "duration_smpte": "00:00:04;00",
         "end_frame_index": 275,
         "end_timecode_smpte": "00:00:09;06",
         "end_timestamp_millis": 9209,
         "shot_index": 2,
         "start_frame_index": 156,
         "start_timecode_smpte": "00:00:05;06",
         "start_timestamp_millis": 5205
        },
        {
         "chapter_indices": [
          1
         ],
         "confidence": 0.9990738718680476,
         "duration_frames": 116,
         "duration_millis": 3904,
         "duration_smpte": "00:00:03;27",
         "end_frame_index": 392,
         "end_timecode_smpte": "00:00:13;03",
         "end_timestamp_millis": 13113,
         "shot_index": 3,
         "start_frame_index": 276,
         "start_timecode_smpte": "00:00:09;06",
         "start_timestamp_millis": 9209
        },
        {
         "chapter_indices": [
          1
         ],
         "confidence": 0.9997880313391443,
         "duration_frames": 75,
         "duration_millis": 2536,
         "duration_smpte": "00:00:02;16",
         "end_frame_index": 468,
         "end_timecode_smpte": "00:00:15;19",
         "end_timestamp_millis": 15649,
         "shot_index": 4,
         "start_frame_index": 393,
         "start_timecode_smpte": "00:00:13;03",
         "start_timestamp_millis": 13113
        },
        {
         "chapter_indices": [
          2
         ],
         "confidence": 0.9999033884581088,
         "duration_frames": 57,
         "duration_millis": 1935,
         "duration_smpte": "00:00:01;27",
         "end_frame_index": 526,
         "end_timecode_smpte": "00:00:17;17",
         "end_timestamp_millis": 17584,
         "shot_index": 5,
         "start_frame_index": 469,
         "start_timecode_smpte": "00:00:15;20",
         "start_timestamp_millis": 15649
        },
        {
         "chapter_indices": [
          2
         ],
         "confidence": 0.9996092889117618,
         "duration_frames": 76,
         "duration_millis": 2569,
         "duration_smpte": "00:00:02;16",
         "end_frame_index": 603,
         "end_timecode_smpte": "00:00:20;03",
         "end_timestamp_millis": 20153,
         "shot_index": 6,
         "start_frame_index": 527,
         "start_timecode_smpte": "00:00:17;17",
         "start_timestamp_millis": 17584
        },
        {
         "chapter_indices": [
          3
         ],
         "confidence": 0.9983213157531532,
         "duration_frames": 87,
         "duration_millis": 2936,
         "duration_smpte": "00:00:02;27",
         "end_frame_index": 691,
         "end_timecode_smpte": "00:00:23;01",
         "end_timestamp_millis": 23089,
         "shot_index": 7,
         "start_frame_index": 604,
         "start_timecode_smpte": "00:00:20;04",
         "start_timestamp_millis": 20153
        },
        {
         "chapter_indices": [
          4
         ],
         "confidence": 0.9983213157531532,
         "duration_frames": 199,
         "duration_millis": 6639,
         "duration_smpte": "00:00:06;18",
         "end_frame_index": 891,
         "end_timecode_smpte": "00:00:29;21",
         "end_timestamp_millis": 29729,
         "shot_index": 8,
         "start_frame_index": 692,
         "start_timecode_smpte": "00:00:23;03",
         "start_timestamp_millis": 23090
        },
        {
         "chapter_indices": [
          5
         ],
         "confidence": 0.9999283126456707,
         "duration_frames": 191,
         "duration_millis": 6372,
         "duration_smpte": "00:00:06;10",
         "end_frame_index": 1082,
         "end_timecode_smpte": "00:00:36;02",
         "end_timestamp_millis": 36102,
         "shot_index": 9,
         "start_frame_index": 891,
         "start_timecode_smpte": "00:00:29;22",
         "start_timestamp_millis": 29730
        },
        {
         "chapter_indices": [
          5
         ],
         "confidence": 0.9998244335898698,
         "duration_frames": 272,
         "duration_millis": 9109,
         "duration_smpte": "00:00:09;03",
         "end_frame_index": 1355,
         "end_timecode_smpte": "00:00:45;05",
         "end_timestamp_millis": 45211,
         "shot_index": 10,
         "start_frame_index": 1083,
         "start_timecode_smpte": "00:00:36;02",
         "start_timestamp_millis": 36102
        },
        {
         "chapter_indices": [
          5
         ],
         "confidence": 0.9998244335898698,
         "duration_frames": 102,
         "duration_millis": 3437,
         "duration_smpte": "00:00:03;13",
         "end_frame_index": 1458,
         "end_timecode_smpte": "00:00:48;18",
         "end_timestamp_millis": 48648,
         "shot_index": 11,
         "start_frame_index": 1356,
         "start_timecode_smpte": "00:00:45;05",
         "start_timestamp_millis": 45211
        },
        {
         "chapter_indices": [
          5
         ],
         "confidence": 0.9999033957457039,
         "duration_frames": 189,
         "duration_millis": 6339,
         "duration_smpte": "00:00:06;08",
         "end_frame_index": 1648,
         "end_timecode_smpte": "00:00:54;27",
         "end_timestamp_millis": 54987,
         "shot_index": 12,
         "start_frame_index": 1459,
         "start_timecode_smpte": "00:00:48;19",
         "start_timestamp_millis": 48648
        },
        {
         "chapter_indices": [
          5
         ],
         "confidence": 0.9999556629564436,
         "duration_frames": 0,
         "duration_millis": 33,
         "duration_smpte": "00:00:00;00",
         "end_frame_index": 1649,
         "end_timecode_smpte": "00:00:54;29",
         "end_timestamp_millis": 55021,
         "shot_index": 13,
         "start_frame_index": 1649,
         "start_timecode_smpte": "00:00:54;29",
         "start_timestamp_millis": 54988
        },
        {
         "chapter_indices": [
          5
         ],
         "confidence": 0.9998442414017942,
         "duration_frames": 106,
         "duration_millis": 3570,
         "duration_smpte": "00:00:03;16",
         "end_frame_index": 1755,
         "end_timecode_smpte": "00:00:58;15",
         "end_timestamp_millis": 58558,
         "shot_index": 14,
         "start_frame_index": 1649,
         "start_timecode_smpte": "00:00:54;29",
         "start_timestamp_millis": 54988
        },
        {
         "chapter_indices": [
          5
         ],
         "confidence": 0.9998442414017942,
         "duration_frames": 403,
         "duration_millis": 13480,
         "duration_smpte": "00:00:13;13",
         "end_frame_index": 2159,
         "end_timecode_smpte": "00:01:12;01",
         "end_timestamp_millis": 72038,
         "shot_index": 15,
         "start_frame_index": 1756,
         "start_timecode_smpte": "00:00:58;16",
         "start_timestamp_millis": 58558
        },
        {
         "chapter_indices": [
          5
         ],
         "confidence": 0.9998784163128819,
         "duration_frames": 119,
         "duration_millis": 4004,
         "duration_smpte": "00:00:04;00",
         "end_frame_index": 2279,
         "end_timecode_smpte": "00:01:16;01",
         "end_timestamp_millis": 76042,
         "shot_index": 16,
         "start_frame_index": 2160,
         "start_timecode_smpte": "00:01:12;01",
         "start_timestamp_millis": 72038
        },
        {
         "chapter_indices": [
          5
         ],
         "confidence": 0.9998735005004061,
         "duration_frames": 128,
         "duration_millis": 4304,
         "duration_smpte": "00:00:04;08",
         "end_frame_index": 2408,
         "end_timecode_smpte": "00:01:20;09",
         "end_timestamp_millis": 80346,
         "shot_index": 17,
         "start_frame_index": 2280,
         "start_timecode_smpte": "00:01:16;01",
         "start_timestamp_millis": 76042
        },
        {
         "chapter_indices": [
          5
         ],
         "confidence": 0.9998912003790604,
         "duration_frames": 171,
         "duration_millis": 5739,
         "duration_smpte": "00:00:05;21",
         "end_frame_index": 2580,
         "end_timecode_smpte": "00:01:26;02",
         "end_timestamp_millis": 86086,
         "shot_index": 18,
         "start_frame_index": 2409,
         "start_timecode_smpte": "00:01:20;11",
         "start_timestamp_millis": 80347
        },
        {
         "chapter_indices": [
          5
         ],
         "confidence": 0.9998912003790604,
         "duration_frames": 37,
         "duration_millis": 1267,
         "duration_smpte": "00:00:01;06",
         "end_frame_index": 2618,
         "end_timecode_smpte": "00:01:27;09",
         "end_timestamp_millis": 87353,
         "shot_index": 19,
         "start_frame_index": 2581,
         "start_timecode_smpte": "00:01:26;03",
         "start_timestamp_millis": 86086
        },
        {
         "chapter_indices": [
          5
         ],
         "confidence": 0.9998853511155456,
         "duration_frames": 67,
         "duration_millis": 2268,
         "duration_smpte": "00:00:02;06",
         "end_frame_index": 2686,
         "end_timecode_smpte": "00:01:29;17",
         "end_timestamp_millis": 89622,
         "shot_index": 20,
         "start_frame_index": 2619,
         "start_timecode_smpte": "00:01:27;11",
         "start_timestamp_millis": 87354
        },
        {
         "chapter_indices": [
          5
         ],
         "confidence": 0.9998853511155456,
         "duration_frames": 307,
         "duration_millis": 10276,
         "duration_smpte": "00:00:10;06",
         "end_frame_index": 2994,
         "end_timecode_smpte": "00:01:39;25",
         "end_timestamp_millis": 99899,
         "shot_index": 21,
         "start_frame_index": 2687,
         "start_timecode_smpte": "00:01:29;19",
         "start_timestamp_millis": 89623
        },
        {
         "chapter_indices": [
          5
         ],
         "confidence": 0.9998620955973477,
         "duration_frames": 154,
         "duration_millis": 5170,
         "duration_smpte": "00:00:05;03",
         "end_frame_index": 3149,
         "end_timecode_smpte": "00:01:45;00",
         "end_timestamp_millis": 105070,
         "shot_index": 22,
         "start_frame_index": 2995,
         "start_timecode_smpte": "00:01:39;27",
         "start_timestamp_millis": 99900
        },
        {
         "chapter_indices": [
          5
         ],
         "confidence": 0.9998620955973477,
         "duration_frames": 106,
         "duration_millis": 3570,
         "duration_smpte": "00:00:03;16",
         "end_frame_index": 3256,
         "end_timecode_smpte": "00:01:48;18",
         "end_timestamp_millis": 108641,
         "shot_index": 23,
         "start_frame_index": 3150,
         "start_timecode_smpte": "00:01:45;02",
         "start_timestamp_millis": 105071
        },
        {
         "chapter_indices": [
          5
         ],
         "confidence": 0.9998923809220936,
         "duration_frames": 59,
         "duration_millis": 2002,
         "duration_smpte": "00:00:02;00",
         "end_frame_index": 3316,
         "end_timecode_smpte": "00:01:50;18",
         "end_timestamp_millis": 110643,
         "shot_index": 24,
         "start_frame_index": 3257,
         "start_timecode_smpte": "00:01:48;18",
         "start_timestamp_millis": 108641
        },
        {
         "chapter_indices": [
          5
         ],
         "confidence": 0.9999119495665244,
         "duration_frames": 252,
         "duration_millis": 8441,
         "duration_smpte": "00:00:08;12",
         "end_frame_index": 3569,
         "end_timecode_smpte": "00:01:59;00",
         "end_timestamp_millis": 119084,
         "shot_index": 25,
         "start_frame_index": 3317,
         "start_timecode_smpte": "00:01:50;18",
         "start_timestamp_millis": 110643
        },
        {
         "chapter_indices": [
          5
         ],
         "confidence": 0.9996999578172909,
         "duration_frames": 64,
         "duration_millis": 2168,
         "duration_smpte": "00:00:02;03",
         "end_frame_index": 3634,
         "end_timecode_smpte": "00:02:01;07",
         "end_timestamp_millis": 121253,
         "shot_index": 26,
         "start_frame_index": 3570,
         "start_timecode_smpte": "00:01:59;02",
         "start_timestamp_millis": 119085
        },
        {
         "chapter_indices": [
          5
         ],
         "confidence": 0.9996999578172909,
         "duration_frames": 363,
         "duration_millis": 12145,
         "duration_smpte": "00:00:12;02",
         "end_frame_index": 3998,
         "end_timecode_smpte": "00:02:13;11",
         "end_timestamp_millis": 133399,
         "shot_index": 27,
         "start_frame_index": 3635,
         "start_timecode_smpte": "00:02:01;09",
         "start_timestamp_millis": 121254
        },
        {
         "chapter_indices": [
          5
         ],
         "confidence": 0.9997503570186274,
         "duration_frames": 117,
         "duration_millis": 3937,
         "duration_smpte": "00:00:03;27",
         "end_frame_index": 4116,
         "end_timecode_smpte": "00:02:17;09",
         "end_timestamp_millis": 137336,
         "shot_index": 28,
         "start_frame_index": 3999,
         "start_timecode_smpte": "00:02:13;12",
         "start_timestamp_millis": 133399
        },
        {
         "chapter_indices": [
          5
         ],
         "confidence": 0.9997503570186274,
         "duration_frames": 115,
         "duration_millis": 3870,
         "duration_smpte": "00:00:03;25",
         "end_frame_index": 4232,
         "end_timecode_smpte": "00:02:21;06",
         "end_timestamp_millis": 141207,
         "shot_index": 29,
         "start_frame_index": 4117,
         "start_timecode_smpte": "00:02:17;11",
         "start_timestamp_millis": 137337
        },
        {
         "chapter_indices": [
          5
         ],
         "confidence": 0.9996795567602024,
         "duration_frames": 132,
         "duration_millis": 4438,
         "duration_smpte": "00:00:04;13",
         "end_frame_index": 4365,
         "end_timecode_smpte": "00:02:25;19",
         "end_timestamp_millis": 145645,
         "shot_index": 30,
         "start_frame_index": 4233,
         "start_timecode_smpte": "00:02:21;06",
         "start_timestamp_millis": 141207
        },
        {
         "chapter_indices": [
          5
         ],
         "confidence": 0.9996795567602024,
         "duration_frames": 599,
         "duration_millis": 20020,
         "duration_smpte": "00:00:19;29",
         "end_frame_index": 4965,
         "end_timecode_smpte": "00:02:45;18",
         "end_timestamp_millis": 165665,
         "shot_index": 31,
         "start_frame_index": 4366,
         "start_timecode_smpte": "00:02:25;19",
         "start_timestamp_millis": 145645
        },
        {
         "chapter_indices": [
          5
         ],
         "confidence": 0.9997430813438257,
         "duration_frames": 80,
         "duration_millis": 2703,
         "duration_smpte": "00:00:02;21",
         "end_frame_index": 5046,
         "end_timecode_smpte": "00:02:48;10",
         "end_timestamp_millis": 168368,
         "shot_index": 32,
         "start_frame_index": 4966,
         "start_timecode_smpte": "00:02:45;19",
         "start_timestamp_millis": 165665
        },
        {
         "chapter_indices": [
          5
         ],
         "confidence": 0.9997430813438257,
         "duration_frames": 216,
         "duration_millis": 7240,
         "duration_smpte": "00:00:07;06",
         "end_frame_index": 5263,
         "end_timecode_smpte": "00:02:55;16",
         "end_timestamp_millis": 175608,
         "shot_index": 33,
         "start_frame_index": 5047,
         "start_timecode_smpte": "00:02:48;10",
         "start_timestamp_millis": 168368
        },
        {
         "chapter_indices": [
          5
         ],
         "confidence": 0.9997707859960114,
         "duration_frames": 308,
         "duration_millis": 10309,
         "duration_smpte": "00:00:10;08",
         "end_frame_index": 5572,
         "end_timecode_smpte": "00:03:05;28",
         "end_timestamp_millis": 185918,
         "shot_index": 34,
         "start_frame_index": 5264,
         "start_timecode_smpte": "00:02:55;18",
         "start_timestamp_millis": 175609
        },
        {
         "chapter_indices": [
          5
         ],
         "confidence": 0.9997707859960114,
         "duration_frames": 155,
         "duration_millis": 5205,
         "duration_smpte": "00:00:05;05",
         "end_frame_index": 5728,
         "end_timecode_smpte": "00:03:11;03",
         "end_timestamp_millis": 191123,
         "shot_index": 35,
         "start_frame_index": 5573,
         "start_timecode_smpte": "00:03:05;28",
         "start_timestamp_millis": 185918
        },
        {
         "chapter_indices": [
          5
         ],
         "confidence": 0.9999054382245335,
         "duration_frames": 207,
         "duration_millis": 6940,
         "duration_smpte": "00:00:06;27",
         "end_frame_index": 5936,
         "end_timecode_smpte": "00:03:18;01",
         "end_timestamp_millis": 198063,
         "shot_index": 36,
         "start_frame_index": 5729,
         "start_timecode_smpte": "00:03:11;04",
         "start_timestamp_millis": 191123
        },
        {
         "chapter_indices": [
          6
         ],
         "confidence": 0.9999054382245335,
         "duration_frames": 195,
         "duration_millis": 6539,
         "duration_smpte": "00:00:06;14",
         "end_frame_index": 6132,
         "end_timecode_smpte": "00:03:24;17",
         "end_timestamp_millis": 204603,
         "shot_index": 37,
         "start_frame_index": 5937,
         "start_timecode_smpte": "00:03:18;03",
         "start_timestamp_millis": 198064
        },
        {
         "chapter_indices": [
          7
         ],
         "confidence": 0.7638969447873153,
         "duration_frames": 882,
         "duration_millis": 29463,
         "duration_smpte": "00:00:29;12",
         "end_frame_index": 7015,
         "end_timecode_smpte": "00:03:54;01",
         "end_timestamp_millis": 234067,
         "shot_index": 38,
         "start_frame_index": 6133,
         "start_timecode_smpte": "00:03:24;19",
         "start_timestamp_millis": 204604
        },
        {
         "chapter_indices": [
          7
         ],
         "confidence": 0.7490092206652832,
         "duration_frames": 63,
         "duration_millis": 2135,
         "duration_smpte": "00:00:02;03",
         "end_frame_index": 7079,
         "end_timecode_smpte": "00:03:56;04",
         "end_timestamp_millis": 236202,
         "shot_index": 39,
         "start_frame_index": 7016,
         "start_timecode_smpte": "00:03:54;01",
         "start_timestamp_millis": 234067
        },
        {
         "chapter_indices": [
          7
         ],
         "confidence": 0.7490092206652832,
         "duration_frames": 15,
         "duration_millis": 533,
         "duration_smpte": "00:00:00;14",
         "end_frame_index": 7095,
         "end_timecode_smpte": "00:03:56;20",
         "end_timestamp_millis": 236736,
         "shot_index": 40,
         "start_frame_index": 7080,
         "start_timecode_smpte": "00:03:56;06",
         "start_timestamp_millis": 236203
        },
        {
         "chapter_indices": [
          7
         ],
         "confidence": 0.6844001413864259,
         "duration_frames": 5,
         "duration_millis": 200,
         "duration_smpte": "00:00:00;05",
         "end_frame_index": 7101,
         "end_timecode_smpte": "00:03:56;26",
         "end_timestamp_millis": 236936,
         "shot_index": 41,
         "start_frame_index": 7096,
         "start_timecode_smpte": "00:03:56;21",
         "start_timestamp_millis": 236736
        },
        {
         "chapter_indices": [
          7
         ],
         "confidence": 0.6844001413864259,
         "duration_frames": 40,
         "duration_millis": 1367,
         "duration_smpte": "00:00:01;09",
         "end_frame_index": 7142,
         "end_timecode_smpte": "00:03:58;07",
         "end_timestamp_millis": 238304,
         "shot_index": 42,
         "start_frame_index": 7102,
         "start_timecode_smpte": "00:03:56;28",
         "start_timestamp_millis": 236937
        },
        {
         "chapter_indices": [
          7
         ],
         "confidence": 0.9945077218674065,
         "duration_frames": 4,
         "duration_millis": 166,
         "duration_smpte": "00:00:00;03",
         "end_frame_index": 7147,
         "end_timecode_smpte": "00:03:58;12",
         "end_timestamp_millis": 238471,
         "shot_index": 43,
         "start_frame_index": 7143,
         "start_timecode_smpte": "00:03:58;09",
         "start_timestamp_millis": 238305
        },
        {
         "chapter_indices": [
          7
         ],
         "confidence": 0.5696471516653131,
         "duration_frames": 5,
         "duration_millis": 199,
         "duration_smpte": "00:00:00;04",
         "end_frame_index": 7153,
         "end_timecode_smpte": "00:03:58;18",
         "end_timestamp_millis": 238671,
         "shot_index": 44,
         "start_frame_index": 7148,
         "start_timecode_smpte": "00:03:58;14",
         "start_timestamp_millis": 238472
        },
        {
         "chapter_indices": [
          7
         ],
         "confidence": 0.5696471516653131,
         "duration_frames": 23,
         "duration_millis": 800,
         "duration_smpte": "00:00:00;22",
         "end_frame_index": 7177,
         "end_timecode_smpte": "00:03:59;12",
         "end_timestamp_millis": 239472,
         "shot_index": 45,
         "start_frame_index": 7154,
         "start_timecode_smpte": "00:03:58;20",
         "start_timestamp_millis": 238672
        },
        {
         "chapter_indices": [
          7
         ],
         "confidence": 0.7474911443158367,
         "duration_frames": 28,
         "duration_millis": 967,
         "duration_smpte": "00:00:00;28",
         "end_frame_index": 7206,
         "end_timecode_smpte": "00:04:00;14",
         "end_timestamp_millis": 240440,
         "shot_index": 46,
         "start_frame_index": 7178,
         "start_timecode_smpte": "00:03:59;14",
         "start_timestamp_millis": 239473
        },
        {
         "chapter_indices": [
          7
         ],
         "confidence": 0.6654679760963512,
         "duration_frames": 92,
         "duration_millis": 3103,
         "duration_smpte": "00:00:03;03",
         "end_frame_index": 7299,
         "end_timecode_smpte": "00:04:03;17",
         "end_timestamp_millis": 243543,
         "shot_index": 47,
         "start_frame_index": 7207,
         "start_timecode_smpte": "00:04:00;14",
         "start_timestamp_millis": 240440
        },
        {
         "chapter_indices": [
          7
         ],
         "confidence": 0.6654679760963512,
         "duration_frames": 23,
         "duration_millis": 801,
         "duration_smpte": "00:00:00;24",
         "end_frame_index": 7323,
         "end_timecode_smpte": "00:04:04;11",
         "end_timestamp_millis": 244344,
         "shot_index": 48,
         "start_frame_index": 7300,
         "start_timecode_smpte": "00:04:03;17",
         "start_timestamp_millis": 243543
        },
        {
         "chapter_indices": [
          7
         ],
         "confidence": 0.8021861493266129,
         "duration_frames": 274,
         "duration_millis": 9176,
         "duration_smpte": "00:00:09;04",
         "end_frame_index": 7598,
         "end_timecode_smpte": "00:04:13;16",
         "end_timestamp_millis": 253520,
         "shot_index": 49,
         "start_frame_index": 7324,
         "start_timecode_smpte": "00:04:04;12",
         "start_timestamp_millis": 244344
        },
        {
         "chapter_indices": [
          7
         ],
         "confidence": 0.8043817587762869,
         "duration_frames": 10,
         "duration_millis": 367,
         "duration_smpte": "00:00:00;10",
         "end_frame_index": 7609,
         "end_timecode_smpte": "00:04:13;27",
         "end_timestamp_millis": 253887,
         "shot_index": 50,
         "start_frame_index": 7599,
         "start_timecode_smpte": "00:04:13;17",
         "start_timestamp_millis": 253520
        },
        {
         "chapter_indices": [
          7
         ],
         "confidence": 0.8043817587762869,
         "duration_frames": 14,
         "duration_millis": 500,
         "duration_smpte": "00:00:00;14",
         "end_frame_index": 7624,
         "end_timecode_smpte": "00:04:14;12",
         "end_timestamp_millis": 254387,
         "shot_index": 51,
         "start_frame_index": 7610,
         "start_timecode_smpte": "00:04:13;28",
         "start_timestamp_millis": 253887
        },
        {
         "chapter_indices": [
          7
         ],
         "confidence": 0.8872882932736103,
         "duration_frames": 11,
         "duration_millis": 400,
         "duration_smpte": "00:00:00;11",
         "end_frame_index": 7636,
         "end_timecode_smpte": "00:04:14;23",
         "end_timestamp_millis": 254787,
         "shot_index": 52,
         "start_frame_index": 7625,
         "start_timecode_smpte": "00:04:14;12",
         "start_timestamp_millis": 254387
        },
        {
         "chapter_indices": [
          7
         ],
         "confidence": 0.9433605188355204,
         "duration_frames": 19,
         "duration_millis": 667,
         "duration_smpte": "00:00:00;18",
         "end_frame_index": 7656,
         "end_timecode_smpte": "00:04:15;13",
         "end_timestamp_millis": 255455,
         "shot_index": 53,
         "start_frame_index": 7637,
         "start_timecode_smpte": "00:04:14;25",
         "start_timestamp_millis": 254788
        },
        {
         "chapter_indices": [
          7
         ],
         "confidence": 0.9147550722096021,
         "duration_frames": 5,
         "duration_millis": 200,
         "duration_smpte": "00:00:00;05",
         "end_frame_index": 7662,
         "end_timecode_smpte": "00:04:15;19",
         "end_timestamp_millis": 255655,
         "shot_index": 54,
         "start_frame_index": 7657,
         "start_timecode_smpte": "00:04:15;14",
         "start_timestamp_millis": 255455
        },
        {
         "chapter_indices": [
          7
         ],
         "confidence": 0.74653976381309,
         "duration_frames": 6,
         "duration_millis": 233,
         "duration_smpte": "00:00:00;06",
         "end_frame_index": 7669,
         "end_timecode_smpte": "00:04:15;27",
         "end_timestamp_millis": 255889,
         "shot_index": 55,
         "start_frame_index": 7663,
         "start_timecode_smpte": "00:04:15;21",
         "start_timestamp_millis": 255656
        },
        {
         "chapter_indices": [
          7
         ],
         "confidence": 0.74653976381309,
         "duration_frames": 6,
         "duration_millis": 233,
         "duration_smpte": "00:00:00;06",
         "end_frame_index": 7676,
         "end_timecode_smpte": "00:04:16;03",
         "end_timestamp_millis": 256122,
         "shot_index": 56,
         "start_frame_index": 7670,
         "start_timecode_smpte": "00:04:15;27",
         "start_timestamp_millis": 255889
        },
        {
         "chapter_indices": [
          8
         ],
         "confidence": 0.8016024089570122,
         "duration_frames": 26,
         "duration_millis": 900,
         "duration_smpte": "00:00:00;25",
         "end_frame_index": 7703,
         "end_timecode_smpte": "00:04:17;00",
         "end_timestamp_millis": 257023,
         "shot_index": 57,
         "start_frame_index": 7677,
         "start_timecode_smpte": "00:04:16;05",
         "start_timestamp_millis": 256123
        },
        {
         "chapter_indices": [
          8
         ],
         "confidence": 0.5436584457458199,
         "duration_frames": 38,
         "duration_millis": 1301,
         "duration_smpte": "00:00:01;08",
         "end_frame_index": 7742,
         "end_timecode_smpte": "00:04:18;10",
         "end_timestamp_millis": 258325,
         "shot_index": 58,
         "start_frame_index": 7704,
         "start_timecode_smpte": "00:04:17;02",
         "start_timestamp_millis": 257024
        },
        {
         "chapter_indices": [
          8
         ],
         "confidence": 0.5406141797964692,
         "duration_frames": 33,
         "duration_millis": 1134,
         "duration_smpte": "00:00:01;02",
         "end_frame_index": 7776,
         "end_timecode_smpte": "00:04:19;13",
         "end_timestamp_millis": 259459,
         "shot_index": 59,
         "start_frame_index": 7743,
         "start_timecode_smpte": "00:04:18;11",
         "start_timestamp_millis": 258325
        },
        {
         "chapter_indices": [
          8
         ],
         "confidence": 0.5406141797964692,
         "duration_frames": 17,
         "duration_millis": 601,
         "duration_smpte": "00:00:00;18",
         "end_frame_index": 7794,
         "end_timecode_smpte": "00:04:20;02",
         "end_timestamp_millis": 260060,
         "shot_index": 60,
         "start_frame_index": 7777,
         "start_timecode_smpte": "00:04:19;14",
         "start_timestamp_millis": 259459
        },
        {
         "chapter_indices": [
          8
         ],
         "confidence": 0.9650464549049643,
         "duration_frames": 52,
         "duration_millis": 1768,
         "duration_smpte": "00:00:01;22",
         "end_frame_index": 7847,
         "end_timecode_smpte": "00:04:21;24",
         "end_timestamp_millis": 261828,
         "shot_index": 61,
         "start_frame_index": 7795,
         "start_timecode_smpte": "00:04:20;02",
         "start_timestamp_millis": 260060
        },
        {
         "chapter_indices": [
          8
         ],
         "confidence": 0.5920667107244898,
         "duration_frames": 29,
         "duration_millis": 1000,
         "duration_smpte": "00:00:00;28",
         "end_frame_index": 7877,
         "end_timecode_smpte": "00:04:22;24",
         "end_timestamp_millis": 262829,
         "shot_index": 62,
         "start_frame_index": 7848,
         "start_timecode_smpte": "00:04:21;26",
         "start_timestamp_millis": 261829
        },
        {
         "chapter_indices": [
          8
         ],
         "confidence": 0.5920667107244898,
         "duration_frames": 26,
         "duration_millis": 900,
         "duration_smpte": "00:00:00;26",
         "end_frame_index": 7904,
         "end_timecode_smpte": "00:04:23;22",
         "end_timestamp_millis": 263730,
         "shot_index": 63,
         "start_frame_index": 7878,
         "start_timecode_smpte": "00:04:22;26",
         "start_timestamp_millis": 262830
        },
        {
         "chapter_indices": [
          8
         ],
         "confidence": 0.9356277875958906,
         "duration_frames": 32,
         "duration_millis": 1101,
         "duration_smpte": "00:00:01;02",
         "end_frame_index": 7937,
         "end_timecode_smpte": "00:04:24;24",
         "end_timestamp_millis": 264831,
         "shot_index": 64,
         "start_frame_index": 7905,
         "start_timecode_smpte": "00:04:23;22",
         "start_timestamp_millis": 263730
        },
        {
         "chapter_indices": [
          8
         ],
         "confidence": 0.8997224421902292,
         "duration_frames": 21,
         "duration_millis": 733,
         "duration_smpte": "00:00:00;20",
         "end_frame_index": 7959,
         "end_timecode_smpte": "00:04:25;16",
         "end_timestamp_millis": 265565,
         "shot_index": 65,
         "start_frame_index": 7938,
         "start_timecode_smpte": "00:04:24;26",
         "start_timestamp_millis": 264832
        },
        {
         "chapter_indices": [
          8
         ],
         "confidence": 0.8997224421902292,
         "duration_frames": 6,
         "duration_millis": 233,
         "duration_smpte": "00:00:00;06",
         "end_frame_index": 7966,
         "end_timecode_smpte": "00:04:25;24",
         "end_timestamp_millis": 265799,
         "shot_index": 66,
         "start_frame_index": 7960,
         "start_timecode_smpte": "00:04:25;18",
         "start_timestamp_millis": 265566
        },
        {
         "chapter_indices": [
          9
         ],
         "confidence": 0.8693098921881792,
         "duration_frames": 60,
         "duration_millis": 2035,
         "duration_smpte": "00:00:02;00",
         "end_frame_index": 8027,
         "end_timecode_smpte": "00:04:27;24",
         "end_timestamp_millis": 267834,
         "shot_index": 67,
         "start_frame_index": 7967,
         "start_timecode_smpte": "00:04:25;24",
         "start_timestamp_millis": 265799
        },
        {
         "chapter_indices": [
          9
         ],
         "confidence": 0.8693098921881792,
         "duration_frames": 11,
         "duration_millis": 400,
         "duration_smpte": "00:00:00;11",
         "end_frame_index": 8039,
         "end_timecode_smpte": "00:04:28;07",
         "end_timestamp_millis": 268235,
         "shot_index": 68,
         "start_frame_index": 8028,
         "start_timecode_smpte": "00:04:27;26",
         "start_timestamp_millis": 267835
        },
        {
         "chapter_indices": [
          9
         ],
         "confidence": 0.9245728993047916,
         "duration_frames": 115,
         "duration_millis": 3870,
         "duration_smpte": "00:00:03;24",
         "end_frame_index": 8155,
         "end_timecode_smpte": "00:04:32;02",
         "end_timestamp_millis": 272105,
         "shot_index": 69,
         "start_frame_index": 8040,
         "start_timecode_smpte": "00:04:28;08",
         "start_timestamp_millis": 268235
        },
        {
         "chapter_indices": [
          10
         ],
         "confidence": 0.999780240846504,
         "duration_frames": 677,
         "duration_millis": 22622,
         "duration_smpte": "00:00:22;18",
         "end_frame_index": 8833,
         "end_timecode_smpte": "00:04:54;21",
         "end_timestamp_millis": 294727,
         "shot_index": 70,
         "start_frame_index": 8156,
         "start_timecode_smpte": "00:04:32;03",
         "start_timestamp_millis": 272105
        },
        {
         "chapter_indices": [
          11
         ],
         "confidence": 0.999780240846504,
         "duration_frames": 1251,
         "duration_millis": 41775,
         "duration_smpte": "00:00:41;21",
         "end_frame_index": 10085,
         "end_timecode_smpte": "00:05:36;14",
         "end_timestamp_millis": 336502,
         "shot_index": 71,
         "start_frame_index": 8834,
         "start_timecode_smpte": "00:04:54;21",
         "start_timestamp_millis": 294727
        },
        {
         "chapter_indices": [
          12
         ],
         "confidence": 0.9995146963515215,
         "duration_frames": 408,
         "duration_millis": 13646,
         "duration_smpte": "00:00:13;17",
         "end_frame_index": 10494,
         "end_timecode_smpte": "00:05:50;03",
         "end_timestamp_millis": 350149,
         "shot_index": 72,
         "start_frame_index": 10086,
         "start_timecode_smpte": "00:05:36;16",
         "start_timestamp_millis": 336503
        },
        {
         "chapter_indices": [
          12
         ],
         "confidence": 0.998277501690349,
         "duration_frames": 212,
         "duration_millis": 7107,
         "duration_smpte": "00:00:07;02",
         "end_frame_index": 10707,
         "end_timecode_smpte": "00:05:57;07",
         "end_timestamp_millis": 357257,
         "shot_index": 73,
         "start_frame_index": 10495,
         "start_timecode_smpte": "00:05:50;05",
         "start_timestamp_millis": 350150
        },
        {
         "chapter_indices": [
          12
         ],
         "confidence": 0.6074590859903919,
         "duration_frames": 11,
         "duration_millis": 400,
         "duration_smpte": "00:00:00;11",
         "end_frame_index": 10719,
         "end_timecode_smpte": "00:05:57;19",
         "end_timestamp_millis": 357657,
         "shot_index": 74,
         "start_frame_index": 10708,
         "start_timecode_smpte": "00:05:57;08",
         "start_timestamp_millis": 357257
        },
        {
         "chapter_indices": [
          12
         ],
         "confidence": 0.632358198694412,
         "duration_frames": 46,
         "duration_millis": 1568,
         "duration_smpte": "00:00:01;16",
         "end_frame_index": 10766,
         "end_timecode_smpte": "00:05:59;05",
         "end_timestamp_millis": 359225,
         "shot_index": 75,
         "start_frame_index": 10720,
         "start_timecode_smpte": "00:05:57;19",
         "start_timestamp_millis": 357657
        },
        {
         "chapter_indices": [
          12
         ],
         "confidence": 0.57214577161717,
         "duration_frames": 57,
         "duration_millis": 1934,
         "duration_smpte": "00:00:01;27",
         "end_frame_index": 10824,
         "end_timecode_smpte": "00:06:01;06",
         "end_timestamp_millis": 361160,
         "shot_index": 76,
         "start_frame_index": 10767,
         "start_timecode_smpte": "00:05:59;07",
         "start_timestamp_millis": 359226
        },
        {
         "chapter_indices": [
          12
         ],
         "confidence": 0.999644025922949,
         "duration_frames": 82,
         "duration_millis": 2769,
         "duration_smpte": "00:00:02;22",
         "end_frame_index": 10907,
         "end_timecode_smpte": "00:06:03;28",
         "end_timestamp_millis": 363929,
         "shot_index": 77,
         "start_frame_index": 10825,
         "start_timecode_smpte": "00:06:01;06",
         "start_timestamp_millis": 361160
        },
        {
         "chapter_indices": [
          12
         ],
         "confidence": 0.8165889614147264,
         "duration_frames": 172,
         "duration_millis": 5772,
         "duration_smpte": "00:00:05;22",
         "end_frame_index": 11080,
         "end_timecode_smpte": "00:06:09;22",
         "end_timestamp_millis": 369702,
         "shot_index": 78,
         "start_frame_index": 10908,
         "start_timecode_smpte": "00:06:04;00",
         "start_timestamp_millis": 363930
        },
        {
         "chapter_indices": [
          12
         ],
         "confidence": 0.8165889614147264,
         "duration_frames": 124,
         "duration_millis": 4171,
         "duration_smpte": "00:00:04;05",
         "end_frame_index": 11205,
         "end_timecode_smpte": "00:06:13;27",
         "end_timestamp_millis": 373873,
         "shot_index": 79,
         "start_frame_index": 11081,
         "start_timecode_smpte": "00:06:09;22",
         "start_timestamp_millis": 369702
        },
        {
         "chapter_indices": [
          12
         ],
         "confidence": 0.9990838301394187,
         "duration_frames": 653,
         "duration_millis": 21821,
         "duration_smpte": "00:00:21;23",
         "end_frame_index": 11860,
         "end_timecode_smpte": "00:06:35;22",
         "end_timestamp_millis": 395728,
         "shot_index": 80,
         "start_frame_index": 11207,
         "start_timecode_smpte": "00:06:13;29",
         "start_timestamp_millis": 373907
        },
        {
         "chapter_indices": [
          12
         ],
         "confidence": 0.9992984530386336,
         "duration_frames": 168,
         "duration_millis": 5639,
         "duration_smpte": "00:00:05;19",
         "end_frame_index": 12029,
         "end_timecode_smpte": "00:06:41;11",
         "end_timestamp_millis": 401367,
         "shot_index": 81,
         "start_frame_index": 11861,
         "start_timecode_smpte": "00:06:35;22",
         "start_timestamp_millis": 395728
        },
        {
         "chapter_indices": [
          12
         ],
         "confidence": 0.9996877213859398,
         "duration_frames": 246,
         "duration_millis": 8242,
         "duration_smpte": "00:00:08;07",
         "end_frame_index": 12276,
         "end_timecode_smpte": "00:06:49;18",
         "end_timestamp_millis": 409609,
         "shot_index": 82,
         "start_frame_index": 12030,
         "start_timecode_smpte": "00:06:41;11",
         "start_timestamp_millis": 401367
        },
        {
         "chapter_indices": [
          12
         ],
         "confidence": 0.9999110368501664,
         "duration_frames": 169,
         "duration_millis": 5672,
         "duration_smpte": "00:00:05;19",
         "end_frame_index": 12446,
         "end_timecode_smpte": "00:06:55;08",
         "end_timestamp_millis": 415281,
         "shot_index": 83,
         "start_frame_index": 12277,
         "start_timecode_smpte": "00:06:49;19",
         "start_timestamp_millis": 409609
        },
        {
         "chapter_indices": [
          12
         ],
         "confidence": 0.9987539551448957,
         "duration_frames": 677,
         "duration_millis": 22623,
         "duration_smpte": "00:00:22;18",
         "end_frame_index": 13124,
         "end_timecode_smpte": "00:07:17;28",
         "end_timestamp_millis": 437904,
         "shot_index": 84,
         "start_frame_index": 12447,
         "start_timecode_smpte": "00:06:55;08",
         "start_timestamp_millis": 415281
        },
        {
         "chapter_indices": [
          12
         ],
         "confidence": 0.9583299217002095,
         "duration_frames": 310,
         "duration_millis": 10377,
         "duration_smpte": "00:00:10;10",
         "end_frame_index": 13435,
         "end_timecode_smpte": "00:07:28;09",
         "end_timestamp_millis": 448281,
         "shot_index": 85,
         "start_frame_index": 13125,
         "start_timecode_smpte": "00:07:17;29",
         "start_timestamp_millis": 437904
        },
        {
         "chapter_indices": [
          12
         ],
         "confidence": 0.9583299217002095,
         "duration_frames": 77,
         "duration_millis": 2602,
         "duration_smpte": "00:00:02;17",
         "end_frame_index": 13513,
         "end_timecode_smpte": "00:07:30;26",
         "end_timestamp_millis": 450883,
         "shot_index": 86,
         "start_frame_index": 13436,
         "start_timecode_smpte": "00:07:28;09",
         "start_timestamp_millis": 448281
        },
        {
         "chapter_indices": [
          12
         ],
         "confidence": 0.9629649877018085,
         "duration_frames": 258,
         "duration_millis": 8641,
         "duration_smpte": "00:00:08;17",
         "end_frame_index": 13772,
         "end_timecode_smpte": "00:07:39;15",
         "end_timestamp_millis": 459525,
         "shot_index": 87,
         "start_frame_index": 13514,
         "start_timecode_smpte": "00:07:30;28",
         "start_timestamp_millis": 450884
        },
        {
         "chapter_indices": [
          12
         ],
         "confidence": 0.9629649877018085,
         "duration_frames": 57,
         "duration_millis": 1934,
         "duration_smpte": "00:00:01;26",
         "end_frame_index": 13830,
         "end_timecode_smpte": "00:07:41;13",
         "end_timestamp_millis": 461460,
         "shot_index": 88,
         "start_frame_index": 13773,
         "start_timecode_smpte": "00:07:39;17",
         "start_timestamp_millis": 459526
        },
        {
         "chapter_indices": [
          12
         ],
         "confidence": 0.9897843092671876,
         "duration_frames": 172,
         "duration_millis": 5772,
         "duration_smpte": "00:00:05;22",
         "end_frame_index": 14003,
         "end_timecode_smpte": "00:07:47;07",
         "end_timestamp_millis": 467233,
         "shot_index": 89,
         "start_frame_index": 13831,
         "start_timecode_smpte": "00:07:41;15",
         "start_timestamp_millis": 461461
        },
        {
         "chapter_indices": [
          12
         ],
         "confidence": 0.9946902834190486,
         "duration_frames": 73,
         "duration_millis": 2469,
         "duration_smpte": "00:00:02;13",
         "end_frame_index": 14077,
         "end_timecode_smpte": "00:07:49;20",
         "end_timestamp_millis": 469702,
         "shot_index": 90,
         "start_frame_index": 14004,
         "start_timecode_smpte": "00:07:47;07",
         "start_timestamp_millis": 467233
        },
        {
         "chapter_indices": [
          12
         ],
         "confidence": 0.9657976700056383,
         "duration_frames": 218,
         "duration_millis": 7308,
         "duration_smpte": "00:00:07;09",
         "end_frame_index": 14296,
         "end_timecode_smpte": "00:07:57;00",
         "end_timestamp_millis": 477010,
         "shot_index": 91,
         "start_frame_index": 14078,
         "start_timecode_smpte": "00:07:49;21",
         "start_timestamp_millis": 469702
        },
        {
         "chapter_indices": [
          12
         ],
         "confidence": 0.9657976700056383,
         "duration_frames": 150,
         "duration_millis": 5038,
         "duration_smpte": "00:00:05;00",
         "end_frame_index": 14447,
         "end_timecode_smpte": "00:08:02;02",
         "end_timestamp_millis": 482048,
         "shot_index": 92,
         "start_frame_index": 14297,
         "start_timecode_smpte": "00:07:57;00",
         "start_timestamp_millis": 477010
        },
        {
         "chapter_indices": [
          12
         ],
         "confidence": 0.9906766120533784,
         "duration_frames": 435,
         "duration_millis": 14547,
         "duration_smpte": "00:00:14;14",
         "end_frame_index": 14883,
         "end_timecode_smpte": "00:08:16;18",
         "end_timestamp_millis": 496596,
         "shot_index": 93,
         "start_frame_index": 14448,
         "start_timecode_smpte": "00:08:02;04",
         "start_timestamp_millis": 482049
        },
        {
         "chapter_indices": [
          12
         ],
         "confidence": 0.9974817997054022,
         "duration_frames": 225,
         "duration_millis": 7540,
         "duration_smpte": "00:00:07;15",
         "end_frame_index": 15109,
         "end_timecode_smpte": "00:08:24;05",
         "end_timestamp_millis": 504137,
         "shot_index": 94,
         "start_frame_index": 14884,
         "start_timecode_smpte": "00:08:16;20",
         "start_timestamp_millis": 496597
        },
        {
         "chapter_indices": [
          12
         ],
         "confidence": 0.9990257848721565,
         "duration_frames": 223,
         "duration_millis": 7474,
         "duration_smpte": "00:00:07;13",
         "end_frame_index": 15333,
         "end_timecode_smpte": "00:08:31;18",
         "end_timestamp_millis": 511611,
         "shot_index": 95,
         "start_frame_index": 15110,
         "start_timecode_smpte": "00:08:24;05",
         "start_timestamp_millis": 504137
        },
        {
         "chapter_indices": [
          12
         ],
         "confidence": 0.9990454305149854,
         "duration_frames": 226,
         "duration_millis": 7573,
         "duration_smpte": "00:00:07;15",
         "end_frame_index": 15560,
         "end_timecode_smpte": "00:08:39;05",
         "end_timestamp_millis": 519185,
         "shot_index": 96,
         "start_frame_index": 15334,
         "start_timecode_smpte": "00:08:31;20",
         "start_timestamp_millis": 511612
        },
        {
         "chapter_indices": [
          12
         ],
         "confidence": 0.9793398483639048,
         "duration_frames": 352,
         "duration_millis": 11777,
         "duration_smpte": "00:00:11;21",
         "end_frame_index": 15913,
         "end_timecode_smpte": "00:08:50;28",
         "end_timestamp_millis": 530963,
         "shot_index": 97,
         "start_frame_index": 15561,
         "start_timecode_smpte": "00:08:39;07",
         "start_timestamp_millis": 519186
        },
        {
         "chapter_indices": [
          12
         ],
         "confidence": 0.97149344672412,
         "duration_frames": 41,
         "duration_millis": 1401,
         "duration_smpte": "00:00:01;11",
         "end_frame_index": 15955,
         "end_timecode_smpte": "00:08:52;10",
         "end_timestamp_millis": 532364,
         "shot_index": 98,
         "start_frame_index": 15914,
         "start_timecode_smpte": "00:08:50;29",
         "start_timestamp_millis": 530963
        },
        {
         "chapter_indices": [
          12
         ],
         "confidence": 0.97149344672412,
         "duration_frames": 89,
         "duration_millis": 3002,
         "duration_smpte": "00:00:02;28",
         "end_frame_index": 16045,
         "end_timecode_smpte": "00:08:55;10",
         "end_timestamp_millis": 535367,
         "shot_index": 99,
         "start_frame_index": 15956,
         "start_timecode_smpte": "00:08:52;12",
         "start_timestamp_millis": 532365
        },
        {
         "chapter_indices": [
          12
         ],
         "confidence": 0.9853627210256041,
         "duration_frames": 98,
         "duration_millis": 3303,
         "duration_smpte": "00:00:03;08",
         "end_frame_index": 16144,
         "end_timecode_smpte": "00:08:58;20",
         "end_timestamp_millis": 538671,
         "shot_index": 100,
         "start_frame_index": 16046,
         "start_timecode_smpte": "00:08:55;12",
         "start_timestamp_millis": 535368
        },
        {
         "chapter_indices": [
          12
         ],
         "confidence": 0.9701460530691222,
         "duration_frames": 308,
         "duration_millis": 10310,
         "duration_smpte": "00:00:10;08",
         "end_frame_index": 16453,
         "end_timecode_smpte": "00:09:09;00",
         "end_timestamp_millis": 548981,
         "shot_index": 101,
         "start_frame_index": 16145,
         "start_timecode_smpte": "00:08:58;20",
         "start_timestamp_millis": 538671
        },
        {
         "chapter_indices": [
          12
         ],
         "confidence": 0.9701460530691222,
         "duration_frames": 134,
         "duration_millis": 4505,
         "duration_smpte": "00:00:04;15",
         "end_frame_index": 16588,
         "end_timecode_smpte": "00:09:13;16",
         "end_timestamp_millis": 553486,
         "shot_index": 102,
         "start_frame_index": 16454,
         "start_timecode_smpte": "00:09:09;01",
         "start_timestamp_millis": 548981
        },
        {
         "chapter_indices": [
          12
         ],
         "confidence": 0.973472546293267,
         "duration_frames": 294,
         "duration_millis": 9843,
         "duration_smpte": "00:00:09;24",
         "end_frame_index": 16883,
         "end_timecode_smpte": "00:09:23;11",
         "end_timestamp_millis": 563329,
         "shot_index": 103,
         "start_frame_index": 16589,
         "start_timecode_smpte": "00:09:13;17",
         "start_timestamp_millis": 553486
        },
        {
         "chapter_indices": [
          12
         ],
         "confidence": 0.9961493801765772,
         "duration_frames": 122,
         "duration_millis": 4104,
         "duration_smpte": "00:00:04;03",
         "end_frame_index": 17006,
         "end_timecode_smpte": "00:09:27;14",
         "end_timestamp_millis": 567433,
         "shot_index": 104,
         "start_frame_index": 16884,
         "start_timecode_smpte": "00:09:23;11",
         "start_timestamp_millis": 563329
        },
        {
         "chapter_indices": [
          13
         ],
         "confidence": 0.9992161960060286,
         "duration_frames": 97,
         "duration_millis": 3270,
         "duration_smpte": "00:00:03;08",
         "end_frame_index": 17104,
         "end_timecode_smpte": "00:09:30;22",
         "end_timestamp_millis": 570703,
         "shot_index": 105,
         "start_frame_index": 17007,
         "start_timecode_smpte": "00:09:27;14",
         "start_timestamp_millis": 567433
        },
        {
         "chapter_indices": [
          13
         ],
         "confidence": 0.9736359087169031,
         "duration_frames": 238,
         "duration_millis": 7974,
         "duration_smpte": "00:00:07;28",
         "end_frame_index": 17343,
         "end_timecode_smpte": "00:09:38;20",
         "end_timestamp_millis": 578677,
         "shot_index": 106,
         "start_frame_index": 17105,
         "start_timecode_smpte": "00:09:30;22",
         "start_timestamp_millis": 570703
        },
        {
         "chapter_indices": [
          14
         ],
         "confidence": 0.7104460194461617,
         "duration_frames": 1285,
         "duration_millis": 42910,
         "duration_smpte": "00:00:42;25",
         "end_frame_index": 18629,
         "end_timecode_smpte": "00:10:21;17",
         "end_timestamp_millis": 621588,
         "shot_index": 107,
         "start_frame_index": 17344,
         "start_timecode_smpte": "00:09:38;22",
         "start_timestamp_millis": 578678
        },
        {
         "chapter_indices": [
          14
         ],
         "confidence": 0.6581465345829492,
         "duration_frames": 2527,
         "duration_millis": 84350,
         "duration_smpte": "00:01:24;08",
         "end_frame_index": 21157,
         "end_timecode_smpte": "00:11:45;26",
         "end_timestamp_millis": 705938,
         "shot_index": 108,
         "start_frame_index": 18630,
         "start_timecode_smpte": "00:10:21;18",
         "start_timestamp_millis": 621588
        },
        {
         "chapter_indices": [
          15
         ],
         "confidence": 0.6581465345829492,
         "duration_frames": 89,
         "duration_millis": 3002,
         "duration_smpte": "00:00:02;28",
         "end_frame_index": 21247,
         "end_timecode_smpte": "00:11:48;26",
         "end_timestamp_millis": 708941,
         "shot_index": 109,
         "start_frame_index": 21158,
         "start_timecode_smpte": "00:11:45;28",
         "start_timestamp_millis": 705939
        },
        {
         "chapter_indices": [
          15
         ],
         "confidence": 0.7879368424312443,
         "duration_frames": 89,
         "duration_millis": 3002,
         "duration_smpte": "00:00:02;28",
         "end_frame_index": 21337,
         "end_timecode_smpte": "00:11:51;26",
         "end_timestamp_millis": 711944,
         "shot_index": 110,
         "start_frame_index": 21248,
         "start_timecode_smpte": "00:11:48;28",
         "start_timestamp_millis": 708942
        },
        {
         "chapter_indices": [
          15
         ],
         "confidence": 0.9182710903497786,
         "duration_frames": 89,
         "duration_millis": 3002,
         "duration_smpte": "00:00:02;28",
         "end_frame_index": 21427,
         "end_timecode_smpte": "00:11:54;26",
         "end_timestamp_millis": 714947,
         "shot_index": 111,
         "start_frame_index": 21338,
         "start_timecode_smpte": "00:11:51;28",
         "start_timestamp_millis": 711945
        },
        {
         "chapter_indices": [
          15
         ],
         "confidence": 0.8557190180208274,
         "duration_frames": 83,
         "duration_millis": 2802,
         "duration_smpte": "00:00:02;23",
         "end_frame_index": 21511,
         "end_timecode_smpte": "00:11:57;21",
         "end_timestamp_millis": 717750,
         "shot_index": 112,
         "start_frame_index": 21428,
         "start_timecode_smpte": "00:11:54;28",
         "start_timestamp_millis": 714948
        },
        {
         "chapter_indices": [
          15
         ],
         "confidence": 0.8557190180208274,
         "duration_frames": 31,
         "duration_millis": 1068,
         "duration_smpte": "00:00:01;02",
         "end_frame_index": 21546,
         "end_timecode_smpte": "00:11:58;26",
         "end_timestamp_millis": 718918,
         "shot_index": 113,
         "start_frame_index": 21515,
         "start_timecode_smpte": "00:11:57;24",
         "start_timestamp_millis": 717850
        }
       ],
       "statistics": {
        "chapter_count": 16,
        "shot_count": 114,
        "speaker_count": 2
       },
       "video": {
        "transcript": {
         "representation": {
          "text": "    [spk_0]: So these guys just disappeared. [spk_1]: Yeah, on that stretch of road right above El Matador. You know it. With the big rock that's right, yeah.\n\n[spk_0]: Mickey Cohen used to take his associates out there, bid him a bon voyage.\n\n[spk_1]: Mob hits. No, not this time. One of these guys was a school teacher. Next guy, he sold insurance. The last guy, he was retired.\n\n[spk_0]: Any connection?\n\n[spk_1]: Mm. I mean, I checked them all out. There's no criminal records, no association with any criminal organizations. One of the guys was arrested for drunk driving a long time ago. They were all divorced.\n\n[spk_0]: Well, in that case, maybe you don't want to go out there, boss.\n\n[spk_1]: What are you, a comedian? If that's the case, you sure don't want to go out there. Yeah,\n\n[spk_0]: look, I know what happened, all right. They go out to the rock. They take that long, cold, slow swim to China,\n\n[spk_1]: suicide.\n\n[spk_0]: It's been known to happen out there.\n\n[spk_1]: No, not this time. What do you mean? Well, for one thing, there's no bodies, and Somebody was out there the day the last guy disappeared.\n\n[spk_0]: A witness,\n\n[spk_1]: yeah, a witness.\n\n[spk_0]: Why didn't you say that in the first place?\n\n[spk_1]: Because I thought the guy was nuts what he said.\n\n[spk_0]: But now you believe him.\n\n[spk_1]: I had him checked out too. Guy's a goddamn Eagle Scout, so now, now I don't know what to believe. I know I don't want to believe him.\n\n[spk_0]: What did he say?\n\n[spk_1]: He said he was out there walking his dog along the bluffs above El Matador, right? And he looks down at the beach at that huge rock, you know, the one that's separated from the mainland right where the ocean meets the shore. His words, looks like a, like a mythic sea creature, you know, that one. Anyway, he looks down there and there's a guy who's on top of that rock. And he's thinking to himself, how the hell do you get up there? You gotta be a goddamn mountain climber. But more importantly, he says the guy's acting really funny. He's looking all over that rock like he's looking for something or someone. At that very moment, he says it got really, really dark, really fast, and bombs start going off in the air, thunder and lightning, weather like he'd never seen before, coming from, he didn't know where. When he looks back at the rock, the guy's gone. But there's a woman there. She's in a white dress, alabaster skin, his words, and he says she's staring right up at him. He sees her, she's beautiful. But like she's from some other time, some other place. He looks back at the weather because it's getting worse and worse. He decides to hightail it out of there. And that was it. That was his story, right? [spk_1]: So now Now I need you to go up there and find that woman. [spk_0]: So these guys just disappear.\n\n[spk_1]: No, not this time. Somebody was out there the day the last guy disappeared. A witness, yeah, a witness. He said that he was up there walking his dog along those bluffs above El Matador, and there's a guy who's on top of that rock. He's just like looking all over the rock as if he's looking for someone or something. Then it gets dark all of a sudden really fast. Like thunder and lightning from everywhere, all this weather. When he looks back at the rock. The guy's gone, but there's a woman there in a long white dress with alabaster skin. And she's staring right up at him, not moving. Now I don't know what to [spk_1]: I know I sure don't want to believe him.   [spk_1]: Yeah, dispatch, this is Captain Foster. I'm out here at the El Matador location. No sign of Detective Sullivan. Now what's this car? Listen, I'm gonna take a look around before you send anybody out here, so. Hang on a minute. [spk_0]: Captain Foster\n\n[spk_1]: LAPD put your hands in the air. Put your hands up now. Oh    "
         }
        }
       }
      },
      "text/plain": [
       "<IPython.core.display.JSON object>"
      ]
     },
     "execution_count": 15,
     "metadata": {
      "application/json": {
       "expanded": false,
       "root": "root"
      }
     },
     "output_type": "execute_result"
    }
   ],
   "source": [
    "from IPython.display import JSON\n",
    "\n",
    "result_uri = config_data[\"output_metadata\"][0][\"segment_metadata\"][0][\"standard_output_path\"]\n",
    "result_data = utils.read_json_on_s3(result_uri,s3_client)\n",
    "\n",
    "JSON(result_data)"
   ]
  },
  {
   "cell_type": "markdown",
   "id": "6dc2b413-3f1c-4225-8f60-01c00a256110",
   "metadata": {},
   "source": [
    "## Review the result\n",
    "The BDA video analysis results provide a detailed breakdown of information, organized by video and scene levels. \n",
    "> A video scene is a sequence of shots that form a coherent unit of action or narrative within the video.\n",
    "\n",
    "Take a moment to view the details of the metadata for one of the scenes.  Scenes are video segments, so they have a start time, an end time and a duration.  These segment timestamps can be used to determine when to display an ad to coincide with a scene.\n"
   ]
  },
  {
   "cell_type": "code",
   "execution_count": 16,
   "id": "ed25264e-d3f8-4074-8c58-d614fbaaa73b",
   "metadata": {},
   "outputs": [
    {
     "data": {
      "application/json": {
       "audio_segments": [],
       "chapter_index": 9,
       "content_moderation": [],
       "duration_frames": 189,
       "duration_millis": 6306,
       "duration_smpte": "00:00:06;09",
       "end_frame_index": 8155,
       "end_timecode_smpte": "00:04:32;02",
       "end_timestamp_millis": 272105,
       "frames": [
        {
         "content_moderation": [],
         "frame_index": 7989,
         "logos": [],
         "text_lines": [],
         "text_words": [],
         "timecode_smpte": "00:04:26;18",
         "timestamp_millis": 266567
        },
        {
         "content_moderation": [],
         "frame_index": 8004,
         "logos": [],
         "text_lines": [],
         "text_words": [],
         "timecode_smpte": "00:04:27;02",
         "timestamp_millis": 267067
        },
        {
         "content_moderation": [],
         "frame_index": 8019,
         "logos": [],
         "text_lines": [],
         "text_words": [],
         "timecode_smpte": "00:04:27;18",
         "timestamp_millis": 267568
        },
        {
         "content_moderation": [],
         "frame_index": 8034,
         "logos": [],
         "text_lines": [],
         "text_words": [],
         "timecode_smpte": "00:04:28;02",
         "timestamp_millis": 268068
        },
        {
         "content_moderation": [],
         "frame_index": 8049,
         "logos": [],
         "text_lines": [],
         "text_words": [],
         "timecode_smpte": "00:04:28;18",
         "timestamp_millis": 268569
        },
        {
         "content_moderation": [],
         "frame_index": 8064,
         "logos": [],
         "text_lines": [],
         "text_words": [],
         "timecode_smpte": "00:04:29;02",
         "timestamp_millis": 269069
        },
        {
         "content_moderation": [],
         "frame_index": 8079,
         "logos": [],
         "text_lines": [],
         "text_words": [],
         "timecode_smpte": "00:04:29;18",
         "timestamp_millis": 269570
        },
        {
         "content_moderation": [],
         "frame_index": 8094,
         "logos": [],
         "text_lines": [],
         "text_words": [],
         "timecode_smpte": "00:04:30;02",
         "timestamp_millis": 270070
        },
        {
         "content_moderation": [],
         "frame_index": 8109,
         "logos": [],
         "text_lines": [],
         "text_words": [],
         "timecode_smpte": "00:04:30;18",
         "timestamp_millis": 270571
        },
        {
         "content_moderation": [],
         "frame_index": 8124,
         "logos": [],
         "text_lines": [],
         "text_words": [],
         "timecode_smpte": "00:04:31;02",
         "timestamp_millis": 271071
        },
        {
         "content_moderation": [],
         "frame_index": 8139,
         "logos": [],
         "text_lines": [],
         "text_words": [],
         "timecode_smpte": "00:04:31;18",
         "timestamp_millis": 271572
        },
        {
         "content_moderation": [],
         "frame_index": 8154,
         "logos": [],
         "text_lines": [],
         "text_words": [],
         "timecode_smpte": "00:04:32;02",
         "timestamp_millis": 272072
        }
       ],
       "iab_categories": [
        {
         "category": "Style and Fashion",
         "confidence": 0.99,
         "id": "0",
         "parent_id": null,
         "parent_name": null,
         "taxonomy_level": 1,
         "type": "IAB"
        },
        {
         "category": "Men's Fashion",
         "confidence": 0.99,
         "id": "1",
         "parent_id": null,
         "parent_name": "Style and Fashion",
         "taxonomy_level": 2,
         "type": "IAB"
        },
        {
         "category": "Sensitive Topics",
         "confidence": 0.931,
         "id": "2",
         "parent_id": null,
         "parent_name": null,
         "taxonomy_level": 1,
         "type": "IAB"
        },
        {
         "category": "Illegal Drugs, Tobacco, eCigarettes, Vaping, Alcohol",
         "confidence": 0.931,
         "id": "3",
         "parent_id": null,
         "parent_name": "Sensitive Topics",
         "taxonomy_level": 2,
         "type": "IAB"
        },
        {
         "category": "Fine Art",
         "confidence": 0.73,
         "id": "4",
         "parent_id": null,
         "parent_name": null,
         "taxonomy_level": 1,
         "type": "IAB"
        },
        {
         "category": "Digital Arts",
         "confidence": 0.73,
         "id": "5",
         "parent_id": null,
         "parent_name": "Fine Art",
         "taxonomy_level": 2,
         "type": "IAB"
        },
        {
         "category": "Style and Fashion",
         "confidence": 0.578,
         "id": "6",
         "parent_id": null,
         "parent_name": null,
         "taxonomy_level": 1,
         "type": "IAB"
        },
        {
         "category": "Personal Care",
         "confidence": 0.578,
         "id": "7",
         "parent_id": null,
         "parent_name": "Style and Fashion",
         "taxonomy_level": 2,
         "type": "IAB"
        },
        {
         "category": "Fine Art",
         "confidence": 0.566,
         "id": "8",
         "parent_id": null,
         "parent_name": null,
         "taxonomy_level": 1,
         "type": "IAB"
        },
        {
         "category": "Fine Art Photography",
         "confidence": 0.566,
         "id": "9",
         "parent_id": null,
         "parent_name": "Fine Art",
         "taxonomy_level": 2,
         "type": "IAB"
        }
       ],
       "segment_index": null,
       "shot_indices": [
        67,
        68,
        69
       ],
       "start_frame_index": 7967,
       "start_timecode_smpte": "00:04:25;24",
       "start_timestamp_millis": 265799,
       "sub_chapter_index": null,
       "summary": "A man in a dark suit sits alone in a car. He stares forward with an intense, unwavering expression. His eyes remain fixed and his mouth stays closed. The car's interior is dimly lit, with light coming through the windows. He appears to be waiting or preparing for something significant. His formal attire and serious demeanor suggest he is involved in a professional or potentially dangerous situation.",
       "transcript": {
        "representation": {
         "text": ""
        }
       }
      },
      "text/plain": [
       "<IPython.core.display.JSON object>"
      ]
     },
     "execution_count": 16,
     "metadata": {
      "application/json": {
       "expanded": false,
       "root": "root"
      }
     },
     "output_type": "execute_result"
    }
   ],
   "source": [
    "JSON(result_data['chapters'][9])"
   ]
  },
  {
   "cell_type": "code",
   "execution_count": 17,
   "id": "6c503928-cb06-4acb-bc1d-48ea3979fffe",
   "metadata": {},
   "outputs": [
    {
     "data": {
      "text/html": [
       "<video src=\"https://ws-assets-prod-iad-r-pdx-f3b3f9f1a7d6a3d0.s3.us-west-2.amazonaws.com/7db2455e-0fa6-4f6d-9973-84daccd6421f/Netflix_Open_Content_Meridian.mp4#t=265.799,272.105\" controls  width=\"640\"  height=\"360\">\n",
       "      Your browser does not support the <code>video</code> element.\n",
       "    </video>"
      ],
      "text/plain": [
       "<IPython.core.display.Video object>"
      ]
     },
     "execution_count": 17,
     "metadata": {},
     "output_type": "execute_result"
    }
   ],
   "source": [
    "start = result_data['chapters'][9]['start_timestamp_millis']/1000\n",
    "end = result_data['chapters'][9]['end_timestamp_millis']/1000\n",
    "shot_url = f'{url}#t={start},{end}'\n",
    "Video(url=shot_url, width=640, height=360)"
   ]
  },
  {
   "cell_type": "markdown",
   "id": "2dba31f0-321e-476f-a679-2ecec7b4a2c5",
   "metadata": {},
   "source": [
    "### IAB Categories\n",
    "\n",
    "The IAB categories, `iab_categories`, have a label and a level, so that items in the same label hierarchy can be matched at different levels of detail.  For example, here are the first two levels (aka Tiers) of the IAB taxonomy for Attractions:\n",
    "\n",
    "![IAB Attractions](static/images/IAB-Attractions-1and2.png)\n"
   ]
  },
  {
   "cell_type": "markdown",
   "id": "633dac97-0a4f-44f5-b5b7-be5ccf139442",
   "metadata": {},
   "source": [
    "The BDA standard output for scenes contains the IAB category classification of each scene where a valid categorizations could be found.  If no suitable category is found, BDA will leave the content of the iab_categories empty.  The IAB categories and levels BDA generated for the scenes in the sample video are displayed below.  "
   ]
  },
  {
   "cell_type": "code",
   "execution_count": 18,
   "id": "00019ab8-b5a1-45f3-8844-dbd8f8d0e0ce",
   "metadata": {},
   "outputs": [
    {
     "name": "stdout",
     "output_type": "stream",
     "text": [
      "IAB Categories\n",
      "==Scene 0:  (Automotive, 1) (Auto Type, 2) (Style and Fashion, 1) (Street Style, 2) (Attractions, 1) (Malls and Shopping Centers, 2)\n",
      "==Scene 1:  (Automotive, 1) (Auto Type, 2) (Style and Fashion, 1) (Street Style, 2) (Travel, 1) (Travel Type, 2) (Attractions, 1) (Outdoor Activities, 2) (Attractions, 1) (Historic Site and Landmark Tours, 2) (Attractions, 1) (Malls and Shopping Centers, 2) (Attractions, 1) (Bars and Restaurants, 2)\n",
      "==Scene 2:  (Attractions, 1) (Outdoor Activities, 2) (Attractions, 1) (Theater Venues, 2) (Automotive, 1) (Auto Type, 2) (Fine Art, 1) (Theater, 2) (Style and Fashion, 1) (Street Style, 2) (Attractions, 1) (Bars and Restaurants, 2) (Attractions, 1) (Historic Site and Landmark Tours, 2) (Attractions, 1) (Malls and Shopping Centers, 2) (Attractions, 1) (Amusement and Theme Parks, 2) (Fine Art, 1) (Dance, 2) (Food and Drink, 1) (Dining Out, 2)\n",
      "==Scene 3:  (Automotive, 1) (Auto Type, 2) (Attractions, 1) (Bars and Restaurants, 2) (Food and Drink, 1) (Dining Out, 2) (Fine Art, 1) (Dance, 2) (Style and Fashion, 1) (Street Style, 2) (Sensitive Topics, 1) (Illegal Drugs, Tobacco, eCigarettes, Vaping, Alcohol, 2) (Automotive, 1) (Auto Body Styles, 2)\n",
      "==Scene 4:  (Automotive, 1) (Auto Type, 2) (Attractions, 1) (Historic Site and Landmark Tours, 2) (Disasters, 1) (Automotive, 1) (Car Culture, 2)\n",
      "==Scene 5:  (Hobbies and Interests, 1) (Content Production, 2) (Style and Fashion, 1) (Men's Fashion, 2) (Crime, 1) (Style and Fashion, 1) (Women's Fashion, 2) (Sensitive Topics, 1) (Death, Injury, or Military Conflict, 2) (Family and Relationships, 1) (Bereavement, 2) (Law, 1)\n",
      "==Scene 6:  (Automotive, 1) (Auto Type, 2) (Automotive, 1) (Auto Body Styles, 2) (Travel, 1) (Travel Type, 2) (Sensitive Topics, 1) (Illegal Drugs, Tobacco, eCigarettes, Vaping, Alcohol, 2)\n",
      "==Scene 7:  (Law, 1) (Crime, 1)\n",
      "==Scene 8:  (Sensitive Topics, 1) (Illegal Drugs, Tobacco, eCigarettes, Vaping, Alcohol, 2)\n",
      "==Scene 9:  (Style and Fashion, 1) (Men's Fashion, 2) (Sensitive Topics, 1) (Illegal Drugs, Tobacco, eCigarettes, Vaping, Alcohol, 2) (Fine Art, 1) (Digital Arts, 2) (Style and Fashion, 1) (Personal Care, 2) (Fine Art, 1) (Fine Art Photography, 2)\n",
      "==Scene 10:  (Automotive, 1) (Auto Type, 2) (Automotive, 1) (Auto Body Styles, 2) (Style and Fashion, 1) (Women's Fashion, 2) (Fine Art, 1) (Fine Art Photography, 2)\n",
      "==Scene 11:  (Automotive, 1) (Auto Type, 2) (Sensitive Topics, 1) (Illegal Drugs, Tobacco, eCigarettes, Vaping, Alcohol, 2)\n",
      "==Scene 12:  (Sensitive Topics, 1) (Illegal Drugs, Tobacco, eCigarettes, Vaping, Alcohol, 2)\n",
      "==Scene 13:  (Style and Fashion, 1) (Women's Fashion, 2) (Fine Art, 1) (Fine Art Photography, 2) (Fine Art, 1) (Dance, 2) (Sensitive Topics, 1) (Illegal Drugs, Tobacco, eCigarettes, Vaping, Alcohol, 2)\n",
      "==Scene 14:  (Business and Finance, 1) (Industries, 2) (Business and Finance, 1) (Business, 2) (Hobbies and Interests, 1) (Content Production, 2) (Fine Art, 1) (Fine Art Photography, 2) (Fine Art, 1) (Theater, 2) (Sensitive Topics, 1) (Illegal Drugs, Tobacco, eCigarettes, Vaping, Alcohol, 2) (Sensitive Topics, 1) (Spam or Harmful Content, 2) (Style and Fashion, 1) (Men's Fashion, 2) (Family and Relationships, 1) (Bereavement, 2)\n",
      "==Scene 15:  (Business and Finance, 1) (Industries, 2) (Business and Finance, 1) (Business, 2) (Fine Art, 1) (Digital Arts, 2)\n"
     ]
    }
   ],
   "source": [
    "print(\"IAB Categories\")\n",
    "for chapter in result_data['chapters']:\n",
    "    chapter_str = f'==Scene {chapter[\"chapter_index\"]}: '\n",
    "    for iab_cat in chapter['iab_categories']:\n",
    "        chapter_str = (f'{chapter_str} ({ iab_cat[\"category\"] }, { iab_cat[\"taxonomy_level\"] })')\n",
    "    print(chapter_str)"
   ]
  },
  {
   "cell_type": "markdown",
   "id": "6335338a-6350-4ee2-af24-d3f0cd996651",
   "metadata": {},
   "source": [
    "## Use IAB Categories to match scenes to ads"
   ]
  },
  {
   "cell_type": "markdown",
   "id": "cbb08683-a545-4d87-b0f1-b5e42f9d0b01",
   "metadata": {},
   "source": [
    "It is a straight forward process to match ads to scenes if they share the same content taxonomy.  Imagine we have the following list of ad images we can use for overlays.\n"
   ]
  },
  {
   "cell_type": "code",
   "execution_count": 19,
   "id": "0f79c697-2152-409e-b1e3-528381360ee7",
   "metadata": {},
   "outputs": [],
   "source": [
    "ads = {\n",
    "    \"Automotive\": {\n",
    "        \"overlay_image\": \"static/ads/CarAd.png\",\n",
    "        \"level\": 1\n",
    "    },\n",
    "    \"Business and Finance\": {\n",
    "        \"overlay_image\": \"static/ads/BankAd.png\",\n",
    "        \"level\": 1},\n",
    "    \"Travel\": {\n",
    "        \"overlay_image\": \"static/ads/CruiseAd.png\",\n",
    "        \"level\": 1\n",
    "    },\n",
    "    \"Sports\": {\n",
    "        \"overlay_image\": \"static/ads/SportsAd.png\", \n",
    "        \"level\": 1\n",
    "    }\n",
    "}\n"
   ]
  },
  {
   "cell_type": "markdown",
   "id": "06439ea2-1855-4224-8db9-1b4cbd134244",
   "metadata": {},
   "source": [
    "### Match ads to scenes\n"
   ]
  },
  {
   "cell_type": "markdown",
   "id": "92662d44-ef14-4d85-835f-c75e05981031",
   "metadata": {},
   "source": [
    "We'll loop over the scenes, looking for scenes that have categories from the level 1 IAB taxonomy.  If you have a lot of potentials ads, you could choose to use a lower level of the taxonomy.  "
   ]
  },
  {
   "cell_type": "code",
   "execution_count": 20,
   "id": "2ff781da-9e1e-41f7-9a6a-301a10fa64ab",
   "metadata": {},
   "outputs": [
    {
     "name": "stdout",
     "output_type": "stream",
     "text": [
      "\n",
      "===== SCENE: 0\n",
      "\n",
      "== Matching ad found for category: Automotive\n",
      "\n"
     ]
    },
    {
     "data": {
      "text/html": [
       "\n",
       "        <div class=\"video-container\" style=\"position: relative; width: 640px; height: 360px;\">\n",
       "            <video width=\"640\" height=\"360\" controls>\n",
       "                <source src=\"https://ws-assets-prod-iad-r-pdx-f3b3f9f1a7d6a3d0.s3.us-west-2.amazonaws.com/7db2455e-0fa6-4f6d-9973-84daccd6421f/Netflix_Open_Content_Meridian.mp4#t=0.0,1.001\" type=\"video/mp4\">\n",
       "                Your browser does not support the video tag.\n",
       "            </video>\n",
       "            <img class=\"overlay\" src=\"static/ads/CarAd.png\" style=\"\n",
       "                position: absolute;\n",
       "                bottom: 0;\n",
       "                left: 0;\n",
       "                width: 100%;\n",
       "                height: 25%;  /* Takes up bottom 25% of video height */\n",
       "                opacity: 1;\n",
       "                pointer-events: none;\n",
       "                object-fit: cover;  /* Ensures image covers the area properly */\n",
       "            \">\n",
       "        </div>\n",
       "    "
      ],
      "text/plain": [
       "<IPython.core.display.HTML object>"
      ]
     },
     "metadata": {},
     "output_type": "display_data"
    },
    {
     "name": "stdout",
     "output_type": "stream",
     "text": [
      "\n",
      "===== SCENE: 1\n",
      "\n",
      "== Matching ad found for category: Automotive\n",
      "\n"
     ]
    },
    {
     "data": {
      "text/html": [
       "\n",
       "        <div class=\"video-container\" style=\"position: relative; width: 640px; height: 360px;\">\n",
       "            <video width=\"640\" height=\"360\" controls>\n",
       "                <source src=\"https://ws-assets-prod-iad-r-pdx-f3b3f9f1a7d6a3d0.s3.us-west-2.amazonaws.com/7db2455e-0fa6-4f6d-9973-84daccd6421f/Netflix_Open_Content_Meridian.mp4#t=1.001,15.649\" type=\"video/mp4\">\n",
       "                Your browser does not support the video tag.\n",
       "            </video>\n",
       "            <img class=\"overlay\" src=\"static/ads/CarAd.png\" style=\"\n",
       "                position: absolute;\n",
       "                bottom: 0;\n",
       "                left: 0;\n",
       "                width: 100%;\n",
       "                height: 25%;  /* Takes up bottom 25% of video height */\n",
       "                opacity: 1;\n",
       "                pointer-events: none;\n",
       "                object-fit: cover;  /* Ensures image covers the area properly */\n",
       "            \">\n",
       "        </div>\n",
       "    "
      ],
      "text/plain": [
       "<IPython.core.display.HTML object>"
      ]
     },
     "metadata": {},
     "output_type": "display_data"
    },
    {
     "name": "stdout",
     "output_type": "stream",
     "text": [
      "== Matching ad found for category: Travel\n",
      "\n"
     ]
    },
    {
     "data": {
      "text/html": [
       "\n",
       "        <div class=\"video-container\" style=\"position: relative; width: 640px; height: 360px;\">\n",
       "            <video width=\"640\" height=\"360\" controls>\n",
       "                <source src=\"https://ws-assets-prod-iad-r-pdx-f3b3f9f1a7d6a3d0.s3.us-west-2.amazonaws.com/7db2455e-0fa6-4f6d-9973-84daccd6421f/Netflix_Open_Content_Meridian.mp4#t=1.001,15.649\" type=\"video/mp4\">\n",
       "                Your browser does not support the video tag.\n",
       "            </video>\n",
       "            <img class=\"overlay\" src=\"static/ads/CruiseAd.png\" style=\"\n",
       "                position: absolute;\n",
       "                bottom: 0;\n",
       "                left: 0;\n",
       "                width: 100%;\n",
       "                height: 25%;  /* Takes up bottom 25% of video height */\n",
       "                opacity: 1;\n",
       "                pointer-events: none;\n",
       "                object-fit: cover;  /* Ensures image covers the area properly */\n",
       "            \">\n",
       "        </div>\n",
       "    "
      ],
      "text/plain": [
       "<IPython.core.display.HTML object>"
      ]
     },
     "metadata": {},
     "output_type": "display_data"
    },
    {
     "name": "stdout",
     "output_type": "stream",
     "text": [
      "\n",
      "===== SCENE: 2\n",
      "\n",
      "== Matching ad found for category: Automotive\n",
      "\n"
     ]
    },
    {
     "data": {
      "text/html": [
       "\n",
       "        <div class=\"video-container\" style=\"position: relative; width: 640px; height: 360px;\">\n",
       "            <video width=\"640\" height=\"360\" controls>\n",
       "                <source src=\"https://ws-assets-prod-iad-r-pdx-f3b3f9f1a7d6a3d0.s3.us-west-2.amazonaws.com/7db2455e-0fa6-4f6d-9973-84daccd6421f/Netflix_Open_Content_Meridian.mp4#t=15.649,20.153\" type=\"video/mp4\">\n",
       "                Your browser does not support the video tag.\n",
       "            </video>\n",
       "            <img class=\"overlay\" src=\"static/ads/CarAd.png\" style=\"\n",
       "                position: absolute;\n",
       "                bottom: 0;\n",
       "                left: 0;\n",
       "                width: 100%;\n",
       "                height: 25%;  /* Takes up bottom 25% of video height */\n",
       "                opacity: 1;\n",
       "                pointer-events: none;\n",
       "                object-fit: cover;  /* Ensures image covers the area properly */\n",
       "            \">\n",
       "        </div>\n",
       "    "
      ],
      "text/plain": [
       "<IPython.core.display.HTML object>"
      ]
     },
     "metadata": {},
     "output_type": "display_data"
    },
    {
     "name": "stdout",
     "output_type": "stream",
     "text": [
      "\n",
      "===== SCENE: 3\n",
      "\n",
      "== Matching ad found for category: Automotive\n",
      "\n"
     ]
    },
    {
     "data": {
      "text/html": [
       "\n",
       "        <div class=\"video-container\" style=\"position: relative; width: 640px; height: 360px;\">\n",
       "            <video width=\"640\" height=\"360\" controls>\n",
       "                <source src=\"https://ws-assets-prod-iad-r-pdx-f3b3f9f1a7d6a3d0.s3.us-west-2.amazonaws.com/7db2455e-0fa6-4f6d-9973-84daccd6421f/Netflix_Open_Content_Meridian.mp4#t=20.153,23.089\" type=\"video/mp4\">\n",
       "                Your browser does not support the video tag.\n",
       "            </video>\n",
       "            <img class=\"overlay\" src=\"static/ads/CarAd.png\" style=\"\n",
       "                position: absolute;\n",
       "                bottom: 0;\n",
       "                left: 0;\n",
       "                width: 100%;\n",
       "                height: 25%;  /* Takes up bottom 25% of video height */\n",
       "                opacity: 1;\n",
       "                pointer-events: none;\n",
       "                object-fit: cover;  /* Ensures image covers the area properly */\n",
       "            \">\n",
       "        </div>\n",
       "    "
      ],
      "text/plain": [
       "<IPython.core.display.HTML object>"
      ]
     },
     "metadata": {},
     "output_type": "display_data"
    },
    {
     "name": "stdout",
     "output_type": "stream",
     "text": [
      "== Matching ad found for category: Automotive\n",
      "\n"
     ]
    },
    {
     "data": {
      "text/html": [
       "\n",
       "        <div class=\"video-container\" style=\"position: relative; width: 640px; height: 360px;\">\n",
       "            <video width=\"640\" height=\"360\" controls>\n",
       "                <source src=\"https://ws-assets-prod-iad-r-pdx-f3b3f9f1a7d6a3d0.s3.us-west-2.amazonaws.com/7db2455e-0fa6-4f6d-9973-84daccd6421f/Netflix_Open_Content_Meridian.mp4#t=20.153,23.089\" type=\"video/mp4\">\n",
       "                Your browser does not support the video tag.\n",
       "            </video>\n",
       "            <img class=\"overlay\" src=\"static/ads/CarAd.png\" style=\"\n",
       "                position: absolute;\n",
       "                bottom: 0;\n",
       "                left: 0;\n",
       "                width: 100%;\n",
       "                height: 25%;  /* Takes up bottom 25% of video height */\n",
       "                opacity: 1;\n",
       "                pointer-events: none;\n",
       "                object-fit: cover;  /* Ensures image covers the area properly */\n",
       "            \">\n",
       "        </div>\n",
       "    "
      ],
      "text/plain": [
       "<IPython.core.display.HTML object>"
      ]
     },
     "metadata": {},
     "output_type": "display_data"
    },
    {
     "name": "stdout",
     "output_type": "stream",
     "text": [
      "\n",
      "===== SCENE: 4\n",
      "\n",
      "== Matching ad found for category: Automotive\n",
      "\n"
     ]
    },
    {
     "data": {
      "text/html": [
       "\n",
       "        <div class=\"video-container\" style=\"position: relative; width: 640px; height: 360px;\">\n",
       "            <video width=\"640\" height=\"360\" controls>\n",
       "                <source src=\"https://ws-assets-prod-iad-r-pdx-f3b3f9f1a7d6a3d0.s3.us-west-2.amazonaws.com/7db2455e-0fa6-4f6d-9973-84daccd6421f/Netflix_Open_Content_Meridian.mp4#t=23.09,29.729\" type=\"video/mp4\">\n",
       "                Your browser does not support the video tag.\n",
       "            </video>\n",
       "            <img class=\"overlay\" src=\"static/ads/CarAd.png\" style=\"\n",
       "                position: absolute;\n",
       "                bottom: 0;\n",
       "                left: 0;\n",
       "                width: 100%;\n",
       "                height: 25%;  /* Takes up bottom 25% of video height */\n",
       "                opacity: 1;\n",
       "                pointer-events: none;\n",
       "                object-fit: cover;  /* Ensures image covers the area properly */\n",
       "            \">\n",
       "        </div>\n",
       "    "
      ],
      "text/plain": [
       "<IPython.core.display.HTML object>"
      ]
     },
     "metadata": {},
     "output_type": "display_data"
    },
    {
     "name": "stdout",
     "output_type": "stream",
     "text": [
      "== Matching ad found for category: Automotive\n",
      "\n"
     ]
    },
    {
     "data": {
      "text/html": [
       "\n",
       "        <div class=\"video-container\" style=\"position: relative; width: 640px; height: 360px;\">\n",
       "            <video width=\"640\" height=\"360\" controls>\n",
       "                <source src=\"https://ws-assets-prod-iad-r-pdx-f3b3f9f1a7d6a3d0.s3.us-west-2.amazonaws.com/7db2455e-0fa6-4f6d-9973-84daccd6421f/Netflix_Open_Content_Meridian.mp4#t=23.09,29.729\" type=\"video/mp4\">\n",
       "                Your browser does not support the video tag.\n",
       "            </video>\n",
       "            <img class=\"overlay\" src=\"static/ads/CarAd.png\" style=\"\n",
       "                position: absolute;\n",
       "                bottom: 0;\n",
       "                left: 0;\n",
       "                width: 100%;\n",
       "                height: 25%;  /* Takes up bottom 25% of video height */\n",
       "                opacity: 1;\n",
       "                pointer-events: none;\n",
       "                object-fit: cover;  /* Ensures image covers the area properly */\n",
       "            \">\n",
       "        </div>\n",
       "    "
      ],
      "text/plain": [
       "<IPython.core.display.HTML object>"
      ]
     },
     "metadata": {},
     "output_type": "display_data"
    },
    {
     "name": "stdout",
     "output_type": "stream",
     "text": [
      "\n",
      "===== SCENE: 5\n",
      "\n",
      "\n",
      "===== SCENE: 6\n",
      "\n",
      "== Matching ad found for category: Automotive\n",
      "\n"
     ]
    },
    {
     "data": {
      "text/html": [
       "\n",
       "        <div class=\"video-container\" style=\"position: relative; width: 640px; height: 360px;\">\n",
       "            <video width=\"640\" height=\"360\" controls>\n",
       "                <source src=\"https://ws-assets-prod-iad-r-pdx-f3b3f9f1a7d6a3d0.s3.us-west-2.amazonaws.com/7db2455e-0fa6-4f6d-9973-84daccd6421f/Netflix_Open_Content_Meridian.mp4#t=198.064,204.603\" type=\"video/mp4\">\n",
       "                Your browser does not support the video tag.\n",
       "            </video>\n",
       "            <img class=\"overlay\" src=\"static/ads/CarAd.png\" style=\"\n",
       "                position: absolute;\n",
       "                bottom: 0;\n",
       "                left: 0;\n",
       "                width: 100%;\n",
       "                height: 25%;  /* Takes up bottom 25% of video height */\n",
       "                opacity: 1;\n",
       "                pointer-events: none;\n",
       "                object-fit: cover;  /* Ensures image covers the area properly */\n",
       "            \">\n",
       "        </div>\n",
       "    "
      ],
      "text/plain": [
       "<IPython.core.display.HTML object>"
      ]
     },
     "metadata": {},
     "output_type": "display_data"
    },
    {
     "name": "stdout",
     "output_type": "stream",
     "text": [
      "== Matching ad found for category: Automotive\n",
      "\n"
     ]
    },
    {
     "data": {
      "text/html": [
       "\n",
       "        <div class=\"video-container\" style=\"position: relative; width: 640px; height: 360px;\">\n",
       "            <video width=\"640\" height=\"360\" controls>\n",
       "                <source src=\"https://ws-assets-prod-iad-r-pdx-f3b3f9f1a7d6a3d0.s3.us-west-2.amazonaws.com/7db2455e-0fa6-4f6d-9973-84daccd6421f/Netflix_Open_Content_Meridian.mp4#t=198.064,204.603\" type=\"video/mp4\">\n",
       "                Your browser does not support the video tag.\n",
       "            </video>\n",
       "            <img class=\"overlay\" src=\"static/ads/CarAd.png\" style=\"\n",
       "                position: absolute;\n",
       "                bottom: 0;\n",
       "                left: 0;\n",
       "                width: 100%;\n",
       "                height: 25%;  /* Takes up bottom 25% of video height */\n",
       "                opacity: 1;\n",
       "                pointer-events: none;\n",
       "                object-fit: cover;  /* Ensures image covers the area properly */\n",
       "            \">\n",
       "        </div>\n",
       "    "
      ],
      "text/plain": [
       "<IPython.core.display.HTML object>"
      ]
     },
     "metadata": {},
     "output_type": "display_data"
    },
    {
     "name": "stdout",
     "output_type": "stream",
     "text": [
      "== Matching ad found for category: Travel\n",
      "\n"
     ]
    },
    {
     "data": {
      "text/html": [
       "\n",
       "        <div class=\"video-container\" style=\"position: relative; width: 640px; height: 360px;\">\n",
       "            <video width=\"640\" height=\"360\" controls>\n",
       "                <source src=\"https://ws-assets-prod-iad-r-pdx-f3b3f9f1a7d6a3d0.s3.us-west-2.amazonaws.com/7db2455e-0fa6-4f6d-9973-84daccd6421f/Netflix_Open_Content_Meridian.mp4#t=198.064,204.603\" type=\"video/mp4\">\n",
       "                Your browser does not support the video tag.\n",
       "            </video>\n",
       "            <img class=\"overlay\" src=\"static/ads/CruiseAd.png\" style=\"\n",
       "                position: absolute;\n",
       "                bottom: 0;\n",
       "                left: 0;\n",
       "                width: 100%;\n",
       "                height: 25%;  /* Takes up bottom 25% of video height */\n",
       "                opacity: 1;\n",
       "                pointer-events: none;\n",
       "                object-fit: cover;  /* Ensures image covers the area properly */\n",
       "            \">\n",
       "        </div>\n",
       "    "
      ],
      "text/plain": [
       "<IPython.core.display.HTML object>"
      ]
     },
     "metadata": {},
     "output_type": "display_data"
    },
    {
     "name": "stdout",
     "output_type": "stream",
     "text": [
      "\n",
      "===== SCENE: 7\n",
      "\n",
      "\n",
      "===== SCENE: 8\n",
      "\n",
      "\n",
      "===== SCENE: 9\n",
      "\n",
      "\n",
      "===== SCENE: 10\n",
      "\n",
      "== Matching ad found for category: Automotive\n",
      "\n"
     ]
    },
    {
     "data": {
      "text/html": [
       "\n",
       "        <div class=\"video-container\" style=\"position: relative; width: 640px; height: 360px;\">\n",
       "            <video width=\"640\" height=\"360\" controls>\n",
       "                <source src=\"https://ws-assets-prod-iad-r-pdx-f3b3f9f1a7d6a3d0.s3.us-west-2.amazonaws.com/7db2455e-0fa6-4f6d-9973-84daccd6421f/Netflix_Open_Content_Meridian.mp4#t=272.105,294.727\" type=\"video/mp4\">\n",
       "                Your browser does not support the video tag.\n",
       "            </video>\n",
       "            <img class=\"overlay\" src=\"static/ads/CarAd.png\" style=\"\n",
       "                position: absolute;\n",
       "                bottom: 0;\n",
       "                left: 0;\n",
       "                width: 100%;\n",
       "                height: 25%;  /* Takes up bottom 25% of video height */\n",
       "                opacity: 1;\n",
       "                pointer-events: none;\n",
       "                object-fit: cover;  /* Ensures image covers the area properly */\n",
       "            \">\n",
       "        </div>\n",
       "    "
      ],
      "text/plain": [
       "<IPython.core.display.HTML object>"
      ]
     },
     "metadata": {},
     "output_type": "display_data"
    },
    {
     "name": "stdout",
     "output_type": "stream",
     "text": [
      "== Matching ad found for category: Automotive\n",
      "\n"
     ]
    },
    {
     "data": {
      "text/html": [
       "\n",
       "        <div class=\"video-container\" style=\"position: relative; width: 640px; height: 360px;\">\n",
       "            <video width=\"640\" height=\"360\" controls>\n",
       "                <source src=\"https://ws-assets-prod-iad-r-pdx-f3b3f9f1a7d6a3d0.s3.us-west-2.amazonaws.com/7db2455e-0fa6-4f6d-9973-84daccd6421f/Netflix_Open_Content_Meridian.mp4#t=272.105,294.727\" type=\"video/mp4\">\n",
       "                Your browser does not support the video tag.\n",
       "            </video>\n",
       "            <img class=\"overlay\" src=\"static/ads/CarAd.png\" style=\"\n",
       "                position: absolute;\n",
       "                bottom: 0;\n",
       "                left: 0;\n",
       "                width: 100%;\n",
       "                height: 25%;  /* Takes up bottom 25% of video height */\n",
       "                opacity: 1;\n",
       "                pointer-events: none;\n",
       "                object-fit: cover;  /* Ensures image covers the area properly */\n",
       "            \">\n",
       "        </div>\n",
       "    "
      ],
      "text/plain": [
       "<IPython.core.display.HTML object>"
      ]
     },
     "metadata": {},
     "output_type": "display_data"
    },
    {
     "name": "stdout",
     "output_type": "stream",
     "text": [
      "\n",
      "===== SCENE: 11\n",
      "\n",
      "== Matching ad found for category: Automotive\n",
      "\n"
     ]
    },
    {
     "data": {
      "text/html": [
       "\n",
       "        <div class=\"video-container\" style=\"position: relative; width: 640px; height: 360px;\">\n",
       "            <video width=\"640\" height=\"360\" controls>\n",
       "                <source src=\"https://ws-assets-prod-iad-r-pdx-f3b3f9f1a7d6a3d0.s3.us-west-2.amazonaws.com/7db2455e-0fa6-4f6d-9973-84daccd6421f/Netflix_Open_Content_Meridian.mp4#t=294.727,336.502\" type=\"video/mp4\">\n",
       "                Your browser does not support the video tag.\n",
       "            </video>\n",
       "            <img class=\"overlay\" src=\"static/ads/CarAd.png\" style=\"\n",
       "                position: absolute;\n",
       "                bottom: 0;\n",
       "                left: 0;\n",
       "                width: 100%;\n",
       "                height: 25%;  /* Takes up bottom 25% of video height */\n",
       "                opacity: 1;\n",
       "                pointer-events: none;\n",
       "                object-fit: cover;  /* Ensures image covers the area properly */\n",
       "            \">\n",
       "        </div>\n",
       "    "
      ],
      "text/plain": [
       "<IPython.core.display.HTML object>"
      ]
     },
     "metadata": {},
     "output_type": "display_data"
    },
    {
     "name": "stdout",
     "output_type": "stream",
     "text": [
      "\n",
      "===== SCENE: 12\n",
      "\n",
      "\n",
      "===== SCENE: 13\n",
      "\n",
      "\n",
      "===== SCENE: 14\n",
      "\n",
      "== Matching ad found for category: Business and Finance\n",
      "\n"
     ]
    },
    {
     "data": {
      "text/html": [
       "\n",
       "        <div class=\"video-container\" style=\"position: relative; width: 640px; height: 360px;\">\n",
       "            <video width=\"640\" height=\"360\" controls>\n",
       "                <source src=\"https://ws-assets-prod-iad-r-pdx-f3b3f9f1a7d6a3d0.s3.us-west-2.amazonaws.com/7db2455e-0fa6-4f6d-9973-84daccd6421f/Netflix_Open_Content_Meridian.mp4#t=578.678,705.938\" type=\"video/mp4\">\n",
       "                Your browser does not support the video tag.\n",
       "            </video>\n",
       "            <img class=\"overlay\" src=\"static/ads/BankAd.png\" style=\"\n",
       "                position: absolute;\n",
       "                bottom: 0;\n",
       "                left: 0;\n",
       "                width: 100%;\n",
       "                height: 25%;  /* Takes up bottom 25% of video height */\n",
       "                opacity: 1;\n",
       "                pointer-events: none;\n",
       "                object-fit: cover;  /* Ensures image covers the area properly */\n",
       "            \">\n",
       "        </div>\n",
       "    "
      ],
      "text/plain": [
       "<IPython.core.display.HTML object>"
      ]
     },
     "metadata": {},
     "output_type": "display_data"
    },
    {
     "name": "stdout",
     "output_type": "stream",
     "text": [
      "== Matching ad found for category: Business and Finance\n",
      "\n"
     ]
    },
    {
     "data": {
      "text/html": [
       "\n",
       "        <div class=\"video-container\" style=\"position: relative; width: 640px; height: 360px;\">\n",
       "            <video width=\"640\" height=\"360\" controls>\n",
       "                <source src=\"https://ws-assets-prod-iad-r-pdx-f3b3f9f1a7d6a3d0.s3.us-west-2.amazonaws.com/7db2455e-0fa6-4f6d-9973-84daccd6421f/Netflix_Open_Content_Meridian.mp4#t=578.678,705.938\" type=\"video/mp4\">\n",
       "                Your browser does not support the video tag.\n",
       "            </video>\n",
       "            <img class=\"overlay\" src=\"static/ads/BankAd.png\" style=\"\n",
       "                position: absolute;\n",
       "                bottom: 0;\n",
       "                left: 0;\n",
       "                width: 100%;\n",
       "                height: 25%;  /* Takes up bottom 25% of video height */\n",
       "                opacity: 1;\n",
       "                pointer-events: none;\n",
       "                object-fit: cover;  /* Ensures image covers the area properly */\n",
       "            \">\n",
       "        </div>\n",
       "    "
      ],
      "text/plain": [
       "<IPython.core.display.HTML object>"
      ]
     },
     "metadata": {},
     "output_type": "display_data"
    },
    {
     "name": "stdout",
     "output_type": "stream",
     "text": [
      "\n",
      "===== SCENE: 15\n",
      "\n",
      "== Matching ad found for category: Business and Finance\n",
      "\n"
     ]
    },
    {
     "data": {
      "text/html": [
       "\n",
       "        <div class=\"video-container\" style=\"position: relative; width: 640px; height: 360px;\">\n",
       "            <video width=\"640\" height=\"360\" controls>\n",
       "                <source src=\"https://ws-assets-prod-iad-r-pdx-f3b3f9f1a7d6a3d0.s3.us-west-2.amazonaws.com/7db2455e-0fa6-4f6d-9973-84daccd6421f/Netflix_Open_Content_Meridian.mp4#t=705.939,718.918\" type=\"video/mp4\">\n",
       "                Your browser does not support the video tag.\n",
       "            </video>\n",
       "            <img class=\"overlay\" src=\"static/ads/BankAd.png\" style=\"\n",
       "                position: absolute;\n",
       "                bottom: 0;\n",
       "                left: 0;\n",
       "                width: 100%;\n",
       "                height: 25%;  /* Takes up bottom 25% of video height */\n",
       "                opacity: 1;\n",
       "                pointer-events: none;\n",
       "                object-fit: cover;  /* Ensures image covers the area properly */\n",
       "            \">\n",
       "        </div>\n",
       "    "
      ],
      "text/plain": [
       "<IPython.core.display.HTML object>"
      ]
     },
     "metadata": {},
     "output_type": "display_data"
    },
    {
     "name": "stdout",
     "output_type": "stream",
     "text": [
      "== Matching ad found for category: Business and Finance\n",
      "\n"
     ]
    },
    {
     "data": {
      "text/html": [
       "\n",
       "        <div class=\"video-container\" style=\"position: relative; width: 640px; height: 360px;\">\n",
       "            <video width=\"640\" height=\"360\" controls>\n",
       "                <source src=\"https://ws-assets-prod-iad-r-pdx-f3b3f9f1a7d6a3d0.s3.us-west-2.amazonaws.com/7db2455e-0fa6-4f6d-9973-84daccd6421f/Netflix_Open_Content_Meridian.mp4#t=705.939,718.918\" type=\"video/mp4\">\n",
       "                Your browser does not support the video tag.\n",
       "            </video>\n",
       "            <img class=\"overlay\" src=\"static/ads/BankAd.png\" style=\"\n",
       "                position: absolute;\n",
       "                bottom: 0;\n",
       "                left: 0;\n",
       "                width: 100%;\n",
       "                height: 25%;  /* Takes up bottom 25% of video height */\n",
       "                opacity: 1;\n",
       "                pointer-events: none;\n",
       "                object-fit: cover;  /* Ensures image covers the area properly */\n",
       "            \">\n",
       "        </div>\n",
       "    "
      ],
      "text/plain": [
       "<IPython.core.display.HTML object>"
      ]
     },
     "metadata": {},
     "output_type": "display_data"
    }
   ],
   "source": [
    "from IPython.display import HTML\n",
    "\n",
    "def create_video_with_overlay(url, overlay_image):\n",
    "    return HTML(f'''\n",
    "        <div class=\"video-container\" style=\"position: relative; width: 640px; height: 360px;\">\n",
    "            <video width=\"640\" height=\"360\" controls>\n",
    "                <source src=\"{url}\" type=\"video/mp4\">\n",
    "                Your browser does not support the video tag.\n",
    "            </video>\n",
    "            <img class=\"overlay\" src=\"{overlay_image}\" style=\"\n",
    "                position: absolute;\n",
    "                bottom: 0;\n",
    "                left: 0;\n",
    "                width: 100%;\n",
    "                height: 25%;  /* Takes up bottom 25% of video height */\n",
    "                opacity: 1;\n",
    "                pointer-events: none;\n",
    "                object-fit: cover;  /* Ensures image covers the area properly */\n",
    "            \">\n",
    "        </div>\n",
    "    ''')\n",
    "\n",
    "LEVEL = 1\n",
    "for chapter in result_data['chapters']:\n",
    "    if len(chapter['iab_categories']) > 0:\n",
    "        print(f\"\\n===== SCENE: {chapter['chapter_index']}\\n\")\n",
    "        start = result_data['chapters'][chapter['chapter_index']]['start_timestamp_millis']/1000\n",
    "        end = result_data['chapters'][chapter['chapter_index']]['end_timestamp_millis']/1000\n",
    "        shot_url = f'{url}#t={start},{end}'\n",
    "        \n",
    "        for iab_cat in chapter['iab_categories']:\n",
    "            if iab_cat['taxonomy_level'] == LEVEL:\n",
    "                try:\n",
    "                    if iab_cat['category'] in ads:\n",
    "                        print(f\"== Matching ad found for category: {iab_cat['category']}\\n\")\n",
    "                        overlay_image = ads[iab_cat['category']]['overlay_image']\n",
    "                        display(create_video_with_overlay(shot_url, overlay_image))\n",
    "                except KeyError as e:\n",
    "                    print(f\"Error: Could not find key in dictionary: {e}\")\n",
    "                except Exception as e:\n",
    "                    print(f\"Error: {e}\")\n"
   ]
  },
  {
   "cell_type": "markdown",
   "id": "d7ebc676-e867-4155-b136-556943b7a4b8",
   "metadata": {
    "jp-MarkdownHeadingCollapsed": true
   },
   "source": [
    "## Summary\n",
    "In this lab, we use BDA to extract and analyze a sample video to detect scenes in the video and then determine the IAB content taxonomy for the scene content so we could match ads to the content."
   ]
  },
  {
   "cell_type": "markdown",
   "id": "ea5e1336-3ae1-49b5-8982-811637e22fe7",
   "metadata": {},
   "source": [
    "## Clean up\n",
    "\n",
    "Delete the BDA project, blueprint, image, and result from S3."
   ]
  },
  {
   "cell_type": "code",
   "execution_count": 21,
   "id": "d245e595-6a2f-41b2-9d7c-4961a18ba121",
   "metadata": {},
   "outputs": [
    {
     "data": {
      "text/plain": [
       "{'ResponseMetadata': {'RequestId': '0bc44584-48c2-43ff-881e-a15f2feb31d9',\n",
       "  'HTTPStatusCode': 200,\n",
       "  'HTTPHeaders': {'date': 'Sat, 04 Oct 2025 03:18:43 GMT',\n",
       "   'content-type': 'application/json',\n",
       "   'content-length': '115',\n",
       "   'connection': 'keep-alive',\n",
       "   'x-amzn-requestid': '0bc44584-48c2-43ff-881e-a15f2feb31d9'},\n",
       "  'RetryAttempts': 0},\n",
       " 'projectArn': 'arn:aws:bedrock:us-west-2:241533163649:data-automation-project/e2ccb98e3b09',\n",
       " 'status': 'IN_PROGRESS'}"
      ]
     },
     "execution_count": 21,
     "metadata": {},
     "output_type": "execute_result"
    }
   ],
   "source": [
    "# delete BDA project\n",
    "response = bda_client.delete_data_automation_project(\n",
    "    projectArn=video_project_arn\n",
    ")\n",
    "response"
   ]
  },
  {
   "cell_type": "code",
   "execution_count": 22,
   "id": "52f0b6ab-cc34-40ed-9191-ae9a0e395262",
   "metadata": {},
   "outputs": [
    {
     "data": {
      "text/plain": [
       "{'ResponseMetadata': {'RequestId': '5454XZNZBREX2DTJ',\n",
       "  'HostId': 'UBLJEfWMrgg3EJIV45Xpw2fQ291ApuF/SEminsUdZ2L+VTZHadH0/9jX2JEYbOJjIprUbVNPPXs=',\n",
       "  'HTTPStatusCode': 204,\n",
       "  'HTTPHeaders': {'x-amz-id-2': 'UBLJEfWMrgg3EJIV45Xpw2fQ291ApuF/SEminsUdZ2L+VTZHadH0/9jX2JEYbOJjIprUbVNPPXs=',\n",
       "   'x-amz-request-id': '5454XZNZBREX2DTJ',\n",
       "   'date': 'Sat, 04 Oct 2025 03:18:45 GMT',\n",
       "   'server': 'AmazonS3'},\n",
       "  'RetryAttempts': 0}}"
      ]
     },
     "execution_count": 22,
     "metadata": {},
     "output_type": "execute_result"
    }
   ],
   "source": [
    "# delete uploaded image from S3\n",
    "s3_client.delete_object(Bucket=data_bucket, Key=s3_key)"
   ]
  },
  {
   "cell_type": "markdown",
   "id": "f30a5fc1",
   "metadata": {},
   "source": [
    "## Continue to the next section of the workshop\n",
    "\n",
    "You can either go on to Part 2 to work with Amazon Nova workflows or conclude the workshop by moving to the Additional Resources and Cleanup sections.\n",
    "\n",
    "1. Continue to [Start of Part 2: Visual video segments: frames, shots and scenes](../2-media-analysis-using-amazon-nova/01A-visual-segments-frames-shots-scenes.ipynb)\n",
    "2. Continue to [Additional Resources](../09-resources.ipynb)"
   ]
  }
 ],
 "metadata": {
  "kernelspec": {
   "display_name": ".venv",
   "language": "python",
   "name": "python3"
  },
  "language_info": {
   "codemirror_mode": {
    "name": "ipython",
    "version": 3
   },
   "file_extension": ".py",
   "mimetype": "text/x-python",
   "name": "python",
   "nbconvert_exporter": "python",
   "pygments_lexer": "ipython3",
   "version": "3.13.5"
  }
 },
 "nbformat": 4,
 "nbformat_minor": 5
}
